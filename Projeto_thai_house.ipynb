{
 "cells": [
  {
   "cell_type": "markdown",
   "id": "3d5a8655",
   "metadata": {},
   "source": [
    "## Criação de Portfólio - Thai House\n",
    "Casa de eventos do grupo koh Pee Pee\n",
    "\n",
    "Objetivo:\n",
    "   * Trabalhar com dados reais, coletados sem organização e padronização de preenchimento prévio\n",
    "   * Fazer a limpeza e organização dos dados\n",
    "   * Conhecer os dados\n",
    "   * Fazer a criação de alguns gráficos\n",
    "   * Testar e aprender novos comandos"
   ]
  },
  {
   "cell_type": "code",
   "execution_count": 1,
   "id": "d51b4839",
   "metadata": {},
   "outputs": [],
   "source": [
    "# principais bibliotecas\n",
    "import pandas as pd\n",
    "import numpy as np\n",
    "from datetime import datetime\n",
    "import plotly.express as px\n",
    "import matplotlib.pyplot as plt\n",
    "%matplotlib inline"
   ]
  },
  {
   "cell_type": "code",
   "execution_count": 2,
   "id": "74cc2b8b",
   "metadata": {},
   "outputs": [],
   "source": [
    "# lendo arquivo excel com várias abas\n",
    "caminho = 'rel_prog_eventos_TH_2022.xlsx'\n",
    "\n",
    "df_full = pd.read_excel(caminho, sheet_name=None) # None busta todas as abas\n"
   ]
  },
  {
   "cell_type": "code",
   "execution_count": 3,
   "id": "b31047d5",
   "metadata": {},
   "outputs": [
    {
     "data": {
      "text/plain": [
       "{'Antigos Contatos':    ESPAÇO EVENTOS THAI HOUSE       Unnamed: 1      Unnamed: 2   Unnamed: 3  \\\n",
       " 0                        NaN              NaN             NaN          NaN   \n",
       " 1                        NaN              NaN             NaN          NaN   \n",
       " 2           ANTIGOS CONTATOS              NaN             NaN          NaN   \n",
       " 3             Data do Evento  Data do contato  Tipo de evento  Valor total   \n",
       " 4        2018-06-12 00:00:00              NaN       1º evento      21450.4   \n",
       " ..                       ...              ...             ...          ...   \n",
       " 91       2019-01-25 00:00:00              NaN      casamento           NaN   \n",
       " 92       2019-01-18 00:00:00              NaN       formatura          NaN   \n",
       " 93       2019-12-26 00:00:00              NaN     aniversário          NaN   \n",
       " 94       2019-02-26 00:00:00              NaN         15 anos          NaN   \n",
       " 95       2018-11-30 00:00:00              NaN     empresarial          NaN   \n",
       " \n",
       "        Unnamed: 4                                         Unnamed: 5  \n",
       " 0             NaN                                                NaN  \n",
       " 1             NaN                                                NaN  \n",
       " 2             NaN                                                NaN  \n",
       " 3   Nº de Pessoas                                         Observação  \n",
       " 4      78 pessoas  1 mesa de 8  lugares+ 5 mesas de 4 lugares + 2...  \n",
       " ..            ...                                                ...  \n",
       " 91             50                                                NaN  \n",
       " 92             45                              optou por outro local  \n",
       " 93             50  teve muitos cancelamentos de convidados e opta...  \n",
       " 94             20                              optou por outro lugar  \n",
       " 95            NaN  optaram por outro local devido a valor de R$ 1...  \n",
       " \n",
       " [96 rows x 6 columns],\n",
       " 'março':   ESPAÇO EVENTOS THAI  HOUSE           Unnamed: 1       Unnamed: 2  \\\n",
       " 0                        NaN                  NaN              NaN   \n",
       " 1                        NaN                  NaN              NaN   \n",
       " 2                      MARÇO                  NaN              NaN   \n",
       " 3             Data do Evento      Data do contato   Tipo de evento   \n",
       " 4        2022-03-15 00:00:00  2022-01-04 00:00:00  jantar/palestra   \n",
       " 5        2022-03-26 00:00:00  2022-03-08 00:00:00        Formatura   \n",
       " \n",
       "     Unnamed: 3     Unnamed: 4  \\\n",
       " 0          NaN            NaN   \n",
       " 1          NaN            NaN   \n",
       " 2          NaN            NaN   \n",
       " 3  Valor total  Nº de Pessoas   \n",
       " 4            ?             80   \n",
       " 5   A definir          80/100   \n",
       " \n",
       "                                           Unnamed: 5  \n",
       " 0                                                NaN  \n",
       " 1                                                NaN  \n",
       " 2                                                NaN  \n",
       " 3                                         Observação  \n",
       " 4  Ela está estudando locais em todo o território...  \n",
       " 5  Encaminhei as opções de cardapio, a cliente va...  ,\n",
       " 'abril':             Data contato          Etapa  \\\n",
       " 0       EVENTOS FECHADOS            NaN   \n",
       " 1    2022-02-09 00:00:00      Realizado   \n",
       " 2    2022-04-09 00:00:00      Realizado   \n",
       " 3  EVENTOS EM NEGOCIAÇÃO            NaN   \n",
       " 4    2022-04-17 00:00:00  Em negociação   \n",
       " 5   EVENTOS NÃO FECHADOS            NaN   \n",
       " 6    2022-04-13 00:00:00    Não fechado   \n",
       " 7    2022-04-27 00:00:00    Não fechado   \n",
       " 8    2022-04-07 00:00:00    Não fechado   \n",
       " 9    2022-04-28 00:00:00    Não fechado   \n",
       " \n",
       "                                    Situação Data Evento  \\\n",
       " 0                                       NaN         NaT   \n",
       " 1                                 Realizado  2022-04-11   \n",
       " 2                                 Realizado  2022-04-28   \n",
       " 3                                       NaN         NaT   \n",
       " 4  Em negociação a data esta sendo estudada         NaT   \n",
       " 5                                       NaN         NaT   \n",
       " 6                             Não realizado  2022-03-22   \n",
       " 7                             Não realizado  2022-03-17   \n",
       " 8                             Não realizado  2022-04-07   \n",
       " 9                             Não realizado  2022-04-16   \n",
       " \n",
       "                                Tipo  Convidados  Cardápio  Preço   Sinal  \\\n",
       " 0                               NaN         NaN       NaN    NaN     NaN   \n",
       " 1                               NaN        40.0       NaN  220.0  1200.0   \n",
       " 2                               NaN        30.0       NaN  230.0     NaN   \n",
       " 3                               NaN         NaN       NaN    NaN     NaN   \n",
       " 4                   Jantar/palestra        30.0       NaN  230.0     NaN   \n",
       " 5                               NaN         NaN       NaN    NaN     NaN   \n",
       " 6                  Finger /coquetel        50.0       NaN    NaN     NaN   \n",
       " 7  jantar/aula novas especialidades        90.0       NaN    NaN     NaN   \n",
       " 8               Jantar com palestra        90.0       NaN    NaN     NaN   \n",
       " 9                            Jantar        75.0       NaN    NaN     NaN   \n",
       " \n",
       "    Valor total  Saldo restante  Valor Extra  Forma de pagamento  \\\n",
       " 0          NaN             NaN          NaN                 NaN   \n",
       " 1       9787.0          8587.0        987.0                 NaN   \n",
       " 2       6900.0          6900.0          NaN                 NaN   \n",
       " 3          NaN             NaN          NaN                 NaN   \n",
       " 4       6900.0          6900.0          NaN                 NaN   \n",
       " 5          NaN             NaN          NaN                 NaN   \n",
       " 6          0.0             0.0          NaN                 NaN   \n",
       " 7          0.0             0.0          NaN                 NaN   \n",
       " 8          0.0             0.0          NaN                 NaN   \n",
       " 9          0.0             0.0          NaN                 NaN   \n",
       " \n",
       "                                           Observação  \n",
       " 0                                                NaN  \n",
       " 1  Fez uma pré-reserva, quer serviço desde a entr...  \n",
       " 2  Aula ao vivo, vai precisar de aparelhos de aúd...  \n",
       " 3                                                NaN  \n",
       " 4  Quantidade de pessoas:\\n 30 pax não fecharam a...  \n",
       " 5                                                NaN  \n",
       " 6  Welcome drink, com vinhos e espumante, um somm...  \n",
       " 7  Servir finger foods, nada de empratados. Os co...  \n",
       " 8  Mesas redondas, com toalhas,com disponibilidet...  \n",
       " 9  Precisam de uma sala que acomode todos os conv...  ,\n",
       " 'maio':              Data contato          Etapa  \\\n",
       " 0        EVENTOS FECHADOS            NaN   \n",
       " 1     2022-04-17 00:00:00      Realizado   \n",
       " 2     2022-05-14 00:00:00      Realizado   \n",
       " 3                     NaN      Realizado   \n",
       " 4     2022-04-19 00:00:00      Realizado   \n",
       " 5                     NaN            NaN   \n",
       " 6                     NaN            NaN   \n",
       " 7                     NaN            NaN   \n",
       " 8                     NaN            NaN   \n",
       " 9   EVENTOS EM NEGOCIAÇÃO            NaN   \n",
       " 10    2022-04-25 00:00:00  Em negociação   \n",
       " 11                    NaN            NaN   \n",
       " 12   EVENTOS NÃO FECHADOS            NaN   \n",
       " 13    2022-04-20 00:00:00    Não Fechado   \n",
       " 14    2022-04-29 00:00:00    Não Fechado   \n",
       " 15    2022-05-05 00:00:00    Não Fechado   \n",
       " \n",
       "                                      Situação Data Evento  \\\n",
       " 0                                         NaN         NaT   \n",
       " 1                                   Realizado  2022-05-11   \n",
       " 2                                   Realizado  2022-05-19   \n",
       " 3                                   Realizado  2022-05-26   \n",
       " 4                                     Fechado  2022-05-28   \n",
       " 5                                         NaN         NaT   \n",
       " 6                                         NaN         NaT   \n",
       " 7                                         NaN         NaT   \n",
       " 8                                         NaN         NaT   \n",
       " 9                                         NaN         NaT   \n",
       " 10  Orçamento enviado/ não retorna o contato.  2022-05-27   \n",
       " 11                                        NaN         NaT   \n",
       " 12                                        NaN         NaT   \n",
       " 13  será em uma nova data, ainda não definida  2022-05-17   \n",
       " 14                                  Cancelado  2022-05-31   \n",
       " 15                      Optou por outro local  2022-05-17   \n",
       " \n",
       "                      Tipo  Convidados                    Cardápio  Preço  \\\n",
       " 0                     NaN         NaN                         NaN    NaN   \n",
       " 1                  Almoço        40.0                 Menu Phuket  220.0   \n",
       " 2         Jantar/Palestra        30.0                 Menu Phuket  255.0   \n",
       " 3                  Jantar        25.0                   Menu Krab  220.0   \n",
       " 4   Welcome coffee/almoço        51.0  Wellcome Coffee\\nMenu Krab  250.0   \n",
       " 5                     NaN         NaN                         NaN    NaN   \n",
       " 6                     NaN         NaN                         NaN    NaN   \n",
       " 7                     NaN         NaN                         NaN    NaN   \n",
       " 8                     NaN         NaN                         NaN    NaN   \n",
       " 9                     NaN         NaN                         NaN    NaN   \n",
       " 10                 Jantar        23.0                   A definir    NaN   \n",
       " 11                    NaN         NaN                         NaN    NaN   \n",
       " 12                    NaN         NaN                         NaN    NaN   \n",
       " 13                 Jantar        25.0                         NaN  265.0   \n",
       " 14                 Jantar        25.0                         NaN  250.0   \n",
       " 15                 Almoço        15.0            Menu Koh Pee Pee  265.0   \n",
       " \n",
       "      Sinal  Valor total Saldo restante  Valor Extra  \\\n",
       " 0      NaN          NaN            NaN          NaN   \n",
       " 1   2415.0       9066.8         6651.8        266.8   \n",
       " 2      NaN       7650.0           7650          NaN   \n",
       " 3      NaN       5500.0                         NaN   \n",
       " 4      NaN      12750.0          12750          NaN   \n",
       " 5      NaN          NaN            NaN          NaN   \n",
       " 6      NaN          NaN            NaN          NaN   \n",
       " 7      NaN          NaN            NaN          NaN   \n",
       " 8      NaN          NaN            NaN          NaN   \n",
       " 9      NaN          NaN            NaN          NaN   \n",
       " 10     NaN          0.0              0          NaN   \n",
       " 11     NaN          0.0              0          NaN   \n",
       " 12     NaN          NaN            NaN          NaN   \n",
       " 13     NaN       6625.0           6625          NaN   \n",
       " 14     NaN       6250.0           6250          NaN   \n",
       " 15     NaN       3975.0           3975          NaN   \n",
       " \n",
       "                          Forma de pagamento  \\\n",
       " 0                                       NaN   \n",
       " 1          Entrada/ restante faturado 22/05   \n",
       " 2         Cartão de crédito final do evento   \n",
       " 3          Cartão de creditofinal do evento   \n",
       " 4                                             \n",
       " 5                                       NaN   \n",
       " 6                                       NaN   \n",
       " 7                                       NaN   \n",
       " 8                                       NaN   \n",
       " 9                                       NaN   \n",
       " 10                                      NaN   \n",
       " 11                                      NaN   \n",
       " 12                                      NaN   \n",
       " 13                                      NaN   \n",
       " 14  Pagamento com cartão no final do evento   \n",
       " 15                                A definir   \n",
       " \n",
       "                                            Observação  \n",
       " 0                                                 NaN  \n",
       " 1   Almoço inicio as 12:00 horas, mesas de seis  e...  \n",
       " 2   Jantar com palestra, o cliente solicitou equip...  \n",
       " 3   Jantar para 25 pessoas, três dias  antes  do e...  \n",
       " 4   Welcome coffeee às 10:00horas, as 10:30horas s...  \n",
       " 5                                                 NaN  \n",
       " 6                                                 NaN  \n",
       " 7                                                 NaN  \n",
       " 8                                                 NaN  \n",
       " 9                                                 NaN  \n",
       " 10  Jantar, necessita  de audio , telão, microfone...  \n",
       " 11                                                NaN  \n",
       " 12                                                NaN  \n",
       " 13  O cliente não poderá vir na data agendada, que...  \n",
       " 14  O gerente quer pagar o evento e a reserva  sob...  \n",
       " 15  15 pessoas, almoço às 12:00 horas .\\nMontagem ...  ,\n",
       " 'junho':              Data contato          Etapa  \\\n",
       " 0        EVENTOS FECHADOS            NaN   \n",
       " 1     2022-05-13 00:00:00        Fechado   \n",
       " 2                     NaN            NaN   \n",
       " 3     2022-04-29 00:00:00        Fechado   \n",
       " 4     2022-05-26 00:00:00        Fechado   \n",
       " 5                     NaN            NaN   \n",
       " 6                     NaN            NaN   \n",
       " 7                     NaN            NaN   \n",
       " 8                     NaN            NaN   \n",
       " 9   EVENTOS EM NEGOCIAÇÃO            NaN   \n",
       " 10    2022-04-27 00:00:00  Em negociação   \n",
       " 11    2022-05-04 00:00:00  Em negociação   \n",
       " 12   EVENTOS NÃO FECHADOS            NaN   \n",
       " 13    2022-01-24 00:00:00    Não fechado   \n",
       " 14    2022-04-25 00:00:00    Não fechado   \n",
       " 15    2022-05-20 00:00:00    Não fechado   \n",
       " 16    2022-05-19 00:00:00    Não fechado   \n",
       " 17                    NaN            NaN   \n",
       " 18                    NaN            NaN   \n",
       " \n",
       "                                              Situação Data Evento  \\\n",
       " 0                                                 NaN         NaT   \n",
       " 1                                                 NaN  2022-06-08   \n",
       " 2                                                 NaN         NaT   \n",
       " 3                                                 NaN  2022-06-21   \n",
       " 4                                                 NaN  2022-06-28   \n",
       " 5                                                 NaN         NaT   \n",
       " 6                                                 NaN         NaT   \n",
       " 7                                                 NaN         NaT   \n",
       " 8                                                 NaN         NaT   \n",
       " 9                                                 NaN         NaT   \n",
       " 10                              Encaminhado orçamento  2022-06-24   \n",
       " 11                              Encaminhado orçamento  2022-06-30   \n",
       " 12                                                NaN         NaT   \n",
       " 13  Adiou a formatura, assim que tiver a nova  ent...  2022-06-24   \n",
       " 14  Evento será em Outubro, não tem definição de d...         NaT   \n",
       " 15            Cancelado problemas internos da empresa  2022-06-23   \n",
       " 16                                 Não fechou conosco  2022-06-22   \n",
       " 17                                                NaN         NaT   \n",
       " 18                                                NaN         NaT   \n",
       " \n",
       "                    Tipo  Convidados     Cardápio  Preço  Sinal  Valor total  \\\n",
       " 0                   NaN         NaN          NaN    NaN    NaN          NaN   \n",
       " 1       Jantar/Palestra        20.0    Menu Krab  225.0    NaN       4500.0   \n",
       " 2                   NaN         NaN          NaN    NaN    NaN          NaN   \n",
       " 3       Jantar/Palestra        30.0    Menu Krab  225.0    NaN       6750.0   \n",
       " 4       Jantar/Palestra        20.0  Menu Phuket  250.0    NaN       5000.0   \n",
       " 5                   NaN         NaN          NaN    NaN    NaN          0.0   \n",
       " 6                   NaN         NaN          NaN    NaN    NaN          0.0   \n",
       " 7                   NaN         NaN          NaN    NaN    NaN          0.0   \n",
       " 8                   NaN         NaN          NaN    NaN    NaN          0.0   \n",
       " 9                   NaN         NaN          NaN    NaN    NaN          NaN   \n",
       " 10  Coffee break/almoço        30.0    A definir    NaN    NaN          0.0   \n",
       " 11     Jantar/ Palestra        20.0  Menu Phuket  280.0    NaN       5600.0   \n",
       " 12                  NaN         NaN          NaN    NaN    NaN          NaN   \n",
       " 13            Formatura       100.0          NaN  220.0    NaN      22000.0   \n",
       " 14      Jantar/palestra        35.0          NaN    NaN    NaN          0.0   \n",
       " 15               jantar        25.0    A definir    NaN    NaN          0.0   \n",
       " 16   Jantar corporativo        50.0    A definir    NaN    NaN          0.0   \n",
       " 17                  NaN         NaN          NaN    NaN    NaN          NaN   \n",
       " 18                  NaN         NaN          NaN    NaN    NaN          0.0   \n",
       " \n",
       "     Saldo restante  Valor Extra  \\\n",
       " 0              NaN          NaN   \n",
       " 1           4500.0          NaN   \n",
       " 2              NaN          NaN   \n",
       " 3           6750.0          NaN   \n",
       " 4           5000.0          NaN   \n",
       " 5              0.0          NaN   \n",
       " 6              0.0          NaN   \n",
       " 7              0.0          NaN   \n",
       " 8              0.0          NaN   \n",
       " 9              NaN          NaN   \n",
       " 10             0.0          NaN   \n",
       " 11          5600.0          NaN   \n",
       " 12             NaN          NaN   \n",
       " 13         22000.0          NaN   \n",
       " 14             0.0          NaN   \n",
       " 15             0.0          NaN   \n",
       " 16             0.0          NaN   \n",
       " 17             NaN          NaN   \n",
       " 18             0.0          NaN   \n",
       " \n",
       "                                    Forma de pagamento  \\\n",
       " 0                                                 NaN   \n",
       " 1     Pagamento será com cartão no  final do evento.    \n",
       " 2                                                 NaN   \n",
       " 3   O pagamento será faturado em 17 de Junho valor...   \n",
       " 4   O pagamento será com cartão de crédito no fina...   \n",
       " 5                                                 NaN   \n",
       " 6                                                 NaN   \n",
       " 7                                                 NaN   \n",
       " 8                                                 NaN   \n",
       " 9                                                 NaN   \n",
       " 10                                                NaN   \n",
       " 11                                                NaN   \n",
       " 12                                                NaN   \n",
       " 13                                                NaN   \n",
       " 14                                                NaN   \n",
       " 15                                                NaN   \n",
       " 16                                                NaN   \n",
       " 17                                                NaN   \n",
       " 18                                                NaN   \n",
       " \n",
       "                                            Observação  \n",
       " 0                                                 NaN  \n",
       " 1   Jantar com uma palestra médica. Será formaliza...  \n",
       " 2                                                 NaN  \n",
       " 3   Contrato fechado para 30 pessoas. Ficou conbin...  \n",
       " 4   Jantar com palestra, cliente necessita de equi...  \n",
       " 5                                                 NaN  \n",
       " 6                                                 NaN  \n",
       " 7                                                 NaN  \n",
       " 8                                                 NaN  \n",
       " 9                                                 NaN  \n",
       " 10  Coffee break e almoço para 30 pessoas, os conv...  \n",
       " 11  Jantar com uma  palestra ao Vivo,  equipamento...  \n",
       " 12                                                NaN  \n",
       " 13  Quer música ao vivo, até às 3h da manhã, saxof...  \n",
       " 14  Jantar para 35 pessoas, formato banquete, nece...  \n",
       " 15  Jantar com uma palestra médica. Será formaliza...  \n",
       " 16  Jantar corporativo para 50 pessoas, solicitado...  \n",
       " 17                                                NaN  \n",
       " 18                                                NaN  ,\n",
       " 'julho':              Data contato          Etapa  \\\n",
       " 0        EVENTOS FECHADOS            NaN   \n",
       " 1     2022-05-26 00:00:00        Fechado   \n",
       " 2     2022-05-18 00:00:00        Fechado   \n",
       " 3                     NaN            NaN   \n",
       " 4                     NaN            NaN   \n",
       " 5                     NaN            NaN   \n",
       " 6                     NaN            NaN   \n",
       " 7                     NaN            NaN   \n",
       " 8                     NaN            NaN   \n",
       " 9   EVENTOS EM NEGOCIAÇÃO            NaN   \n",
       " 10    2022-06-01 00:00:00  Em negociação   \n",
       " 11    2022-06-03 00:00:00  Em negociação   \n",
       " 12                    NaN            NaN   \n",
       " 13                    NaN            NaN   \n",
       " 14   EVENTOS NÃO FECHADOS            NaN   \n",
       " 15    2022-05-16 00:00:00    Não fechado   \n",
       " 16    2022-05-12 00:00:00    Não fechado   \n",
       " 17    2022-05-20 00:00:00    Não fechado   \n",
       " 18                    NaN            NaN   \n",
       " 19                    NaN            NaN   \n",
       " 20                    NaN            NaN   \n",
       " \n",
       "                                              Situação Data Evento  \\\n",
       " 0                                                 NaN         NaT   \n",
       " 1                       Aguadando assinatura contrato  2022-07-28   \n",
       " 2                       Aguadando assinatura contrato  2022-07-21   \n",
       " 3                                                 NaN         NaT   \n",
       " 4                                                 NaN         NaT   \n",
       " 5                                                 NaN         NaT   \n",
       " 6                                                 NaN         NaT   \n",
       " 7                                                 NaN         NaT   \n",
       " 8                                                 NaN         NaT   \n",
       " 9                                                 NaN         NaT   \n",
       " 10                                                NaN  2022-07-26   \n",
       " 11                                                NaN  2022-07-05   \n",
       " 12                                                NaN         NaT   \n",
       " 13                                                NaN         NaT   \n",
       " 14                                                NaN         NaT   \n",
       " 15  A filha prefere fazer no clube, com mais forma...  2022-07-30   \n",
       " 16  Aguadando retorno do cliente até segunda feira...  2022-07-06   \n",
       " 17               na proxima semana terá uma definição  2022-07-07   \n",
       " 18                                                NaN         NaT   \n",
       " 19                                                NaN         NaT   \n",
       " 20                                                NaN         NaT   \n",
       " \n",
       "                 Tipo  Convidados     Cardápio  Preço  Sinal  Valor total  \\\n",
       " 0                NaN         NaN          NaN    NaN    NaN          NaN   \n",
       " 1    Jantar/Palestra        20.0  Menu Phuket  255.0    NaN       5100.0   \n",
       " 2    Jantar/Palestra        25.0    Menu Krab  225.0    NaN       5625.0   \n",
       " 3                NaN         NaN          NaN    NaN    NaN          0.0   \n",
       " 4                NaN         NaN          NaN    NaN    NaN          0.0   \n",
       " 5                NaN         NaN          NaN    NaN    NaN          0.0   \n",
       " 6                NaN         NaN          NaN    NaN    NaN          0.0   \n",
       " 7                NaN         NaN          NaN    NaN    NaN          0.0   \n",
       " 8                NaN         NaN          NaN    NaN    NaN          0.0   \n",
       " 9                NaN         NaN          NaN    NaN    NaN          NaN   \n",
       " 10               NaN        50.0    A definir    NaN    NaN          0.0   \n",
       " 11               NaN        20.0          NaN    NaN    NaN          0.0   \n",
       " 12               NaN         NaN          NaN    NaN    NaN          0.0   \n",
       " 13               NaN         NaN          NaN    NaN    NaN          0.0   \n",
       " 14               NaN         NaN          NaN    NaN    NaN          NaN   \n",
       " 15  jantar/Formatura        40.0    A definir    NaN    NaN          0.0   \n",
       " 16       Aniversário        40.0    A definir    NaN    NaN          0.0   \n",
       " 17   Jantar/Palestra        30.0    A definir    NaN    NaN          0.0   \n",
       " 18               NaN         NaN          NaN    NaN    NaN          0.0   \n",
       " 19               NaN         NaN          NaN    NaN    NaN          0.0   \n",
       " 20               NaN         NaN          NaN    NaN    NaN          0.0   \n",
       " \n",
       "     Saldo restante  Valor Extra                         Forma de pagamento  \\\n",
       " 0              NaN          NaN                                        NaN   \n",
       " 1           5100.0          NaN  Cartão de credito Amex no final do evento   \n",
       " 2           5625.0          NaN       Cartão de credito no final do evento   \n",
       " 3              0.0          NaN                                        NaN   \n",
       " 4              0.0          NaN                                        NaN   \n",
       " 5              0.0          NaN                                        NaN   \n",
       " 6              0.0          NaN                                        NaN   \n",
       " 7              0.0          NaN                                        NaN   \n",
       " 8              0.0          NaN                                        NaN   \n",
       " 9              NaN          NaN                                        NaN   \n",
       " 10             0.0          NaN                                        NaN   \n",
       " 11             0.0          NaN                                        NaN   \n",
       " 12             0.0          NaN                                        NaN   \n",
       " 13             0.0          NaN                                        NaN   \n",
       " 14             NaN          NaN                                        NaN   \n",
       " 15             0.0          NaN                                        NaN   \n",
       " 16             0.0          NaN                                        NaN   \n",
       " 17             0.0          NaN                                        NaN   \n",
       " 18             0.0          NaN                                        NaN   \n",
       " 19             0.0          NaN                                        NaN   \n",
       " 20             0.0          NaN                                        NaN   \n",
       " \n",
       "                                            Observação  \n",
       " 0                                                 NaN  \n",
       " 1   Jantar para 20 pessoas,  aula com palestra.\\n ...  \n",
       " 2   Evento  para 25 pessoas, formato ideal em círc...  \n",
       " 3                                                 NaN  \n",
       " 4                                                 NaN  \n",
       " 5                                                 NaN  \n",
       " 6                                                 NaN  \n",
       " 7                                                 NaN  \n",
       " 8                                                 NaN  \n",
       " 9                                                 NaN  \n",
       " 10  Não me passou dados do evento ainda, mas já fe...  \n",
       " 11                                                NaN  \n",
       " 12                                                NaN  \n",
       " 13                                                NaN  \n",
       " 14                                                NaN  \n",
       " 15      Jantar formatura da filha para 40 convidados.  \n",
       " 16                                Jantar Aniversário   \n",
       " 17  Jantar com uma palestra para 30 pessoas.\\nNece...  \n",
       " 18                                                NaN  \n",
       " 19                                                NaN  \n",
       " 20                                                NaN  ,\n",
       " 'agosto':              Data contato          Etapa  \\\n",
       " 0        EVENTOS FECHADOS            NaN   \n",
       " 1                     NaN            NaN   \n",
       " 2                     NaN            NaN   \n",
       " 3                     NaN            NaN   \n",
       " 4                     NaN            NaN   \n",
       " 5                     NaN            NaN   \n",
       " 6                     NaN            NaN   \n",
       " 7                     NaN            NaN   \n",
       " 8                     NaN            NaN   \n",
       " 9   EVENTOS EM NEGOCIAÇÃO            NaN   \n",
       " 10    2022-05-27 00:00:00  em negociação   \n",
       " 11                    NaN            NaN   \n",
       " 12                    NaN            NaN   \n",
       " 13                    NaN            NaN   \n",
       " 14                    NaN            NaN   \n",
       " 15                    NaN            NaN   \n",
       " 16   EVENTOS NÃO FECHADOS            NaN   \n",
       " 17                    NaN            NaN   \n",
       " 18                    NaN            NaN   \n",
       " 19                    NaN            NaN   \n",
       " 20                    NaN            NaN   \n",
       " 21                    NaN            NaN   \n",
       " 22                    NaN            NaN   \n",
       " \n",
       "                                              Situação Data Evento    Tipo  \\\n",
       " 0                                                 NaN         NaT     NaN   \n",
       " 1                                                 NaN         NaT     NaN   \n",
       " 2                                                 NaN         NaT     NaN   \n",
       " 3                                                 NaN         NaT     NaN   \n",
       " 4                                                 NaN         NaT     NaN   \n",
       " 5                                                 NaN         NaT     NaN   \n",
       " 6                                                 NaN         NaT     NaN   \n",
       " 7                                                 NaN         NaT     NaN   \n",
       " 8                                                 NaN         NaT     NaN   \n",
       " 9                                                 NaN         NaT     NaN   \n",
       " 10  entrar em contato 25 dias para definição do ev...  2022-08-18  Jantar   \n",
       " 11                                                NaN         NaT     NaN   \n",
       " 12                                                NaN         NaT     NaN   \n",
       " 13                                                NaN         NaT     NaN   \n",
       " 14                                                NaN         NaT     NaN   \n",
       " 15                                                NaN         NaT     NaN   \n",
       " 16                                                NaN         NaT     NaN   \n",
       " 17                                                NaN         NaT     NaN   \n",
       " 18                                                NaN         NaT     NaN   \n",
       " 19                                                NaN         NaT     NaN   \n",
       " 20                                                NaN         NaT     NaN   \n",
       " 21                                                NaN         NaT     NaN   \n",
       " 22                                                NaN         NaT     NaN   \n",
       " \n",
       "     Convidados   Cardápio  Preço  Sinal  Valor total  Saldo restante  \\\n",
       " 0          NaN        NaN    NaN    NaN          NaN             NaN   \n",
       " 1          NaN        NaN    NaN    NaN          0.0             0.0   \n",
       " 2          NaN        NaN    NaN    NaN          0.0             0.0   \n",
       " 3          NaN        NaN    NaN    NaN          0.0             0.0   \n",
       " 4          NaN        NaN    NaN    NaN          0.0             0.0   \n",
       " 5          NaN        NaN    NaN    NaN          0.0             0.0   \n",
       " 6          NaN        NaN    NaN    NaN          0.0             0.0   \n",
       " 7          NaN        NaN    NaN    NaN          0.0             0.0   \n",
       " 8          NaN        NaN    NaN    NaN          0.0             0.0   \n",
       " 9          NaN        NaN    NaN    NaN          NaN             NaN   \n",
       " 10        20.0  A definir    NaN    NaN          0.0             0.0   \n",
       " 11         NaN        NaN    NaN    NaN          0.0             0.0   \n",
       " 12         NaN        NaN    NaN    NaN          0.0             0.0   \n",
       " 13         NaN        NaN    NaN    NaN          0.0             0.0   \n",
       " 14         NaN        NaN    NaN    NaN          0.0             0.0   \n",
       " 15         NaN        NaN    NaN    NaN          0.0             0.0   \n",
       " 16         NaN        NaN    NaN    NaN          NaN             NaN   \n",
       " 17         NaN        NaN    NaN    NaN          0.0             0.0   \n",
       " 18         NaN        NaN    NaN    NaN          0.0             0.0   \n",
       " 19         NaN        NaN    NaN    NaN          0.0             0.0   \n",
       " 20         NaN        NaN    NaN    NaN          0.0             0.0   \n",
       " 21         NaN        NaN    NaN    NaN          0.0             0.0   \n",
       " 22         NaN        NaN    NaN    NaN          0.0             0.0   \n",
       " \n",
       "     Valor Extra  Forma de pagamento  \\\n",
       " 0           NaN                 NaN   \n",
       " 1           NaN                 NaN   \n",
       " 2           NaN                 NaN   \n",
       " 3           NaN                 NaN   \n",
       " 4           NaN                 NaN   \n",
       " 5           NaN                 NaN   \n",
       " 6           NaN                 NaN   \n",
       " 7           NaN                 NaN   \n",
       " 8           NaN                 NaN   \n",
       " 9           NaN                 NaN   \n",
       " 10          NaN                 NaN   \n",
       " 11          NaN                 NaN   \n",
       " 12          NaN                 NaN   \n",
       " 13          NaN                 NaN   \n",
       " 14          NaN                 NaN   \n",
       " 15          NaN                 NaN   \n",
       " 16          NaN                 NaN   \n",
       " 17          NaN                 NaN   \n",
       " 18          NaN                 NaN   \n",
       " 19          NaN                 NaN   \n",
       " 20          NaN                 NaN   \n",
       " 21          NaN                 NaN   \n",
       " 22          NaN                 NaN   \n",
       " \n",
       "                                            Observação  \n",
       " 0                                                 NaN  \n",
       " 1                                                 NaN  \n",
       " 2                                                 NaN  \n",
       " 3                                                 NaN  \n",
       " 4                                                 NaN  \n",
       " 5                                                 NaN  \n",
       " 6                                                 NaN  \n",
       " 7                                                 NaN  \n",
       " 8                                                 NaN  \n",
       " 9                                                 NaN  \n",
       " 10  Jantar com uma apresentação, cliente solicitou...  \n",
       " 11                                                NaN  \n",
       " 12                                                NaN  \n",
       " 13                                                NaN  \n",
       " 14                                                NaN  \n",
       " 15                                                NaN  \n",
       " 16                                                NaN  \n",
       " 17                                                NaN  \n",
       " 18                                                NaN  \n",
       " 19                                                NaN  \n",
       " 20                                                NaN  \n",
       " 21                                                NaN  \n",
       " 22                                                NaN  ,\n",
       " 'setembro':              Data contato  Etapa  Situação  Data Evento  Tipo  Convidados  \\\n",
       " 0        EVENTOS FECHADOS    NaN       NaN          NaN   NaN         NaN   \n",
       " 1                     NaN    NaN       NaN          NaN   NaN         NaN   \n",
       " 2                     NaN    NaN       NaN          NaN   NaN         NaN   \n",
       " 3                     NaN    NaN       NaN          NaN   NaN         NaN   \n",
       " 4                     NaN    NaN       NaN          NaN   NaN         NaN   \n",
       " 5                     NaN    NaN       NaN          NaN   NaN         NaN   \n",
       " 6                     NaN    NaN       NaN          NaN   NaN         NaN   \n",
       " 7                     NaN    NaN       NaN          NaN   NaN         NaN   \n",
       " 8                     NaN    NaN       NaN          NaN   NaN         NaN   \n",
       " 9   EVENTOS EM NEGOCIAÇÃO    NaN       NaN          NaN   NaN         NaN   \n",
       " 10                    NaN    NaN       NaN          NaN   NaN         NaN   \n",
       " 11                    NaN    NaN       NaN          NaN   NaN         NaN   \n",
       " 12                    NaN    NaN       NaN          NaN   NaN         NaN   \n",
       " 13                    NaN    NaN       NaN          NaN   NaN         NaN   \n",
       " 14                    NaN    NaN       NaN          NaN   NaN         NaN   \n",
       " 15                    NaN    NaN       NaN          NaN   NaN         NaN   \n",
       " 16   EVENTOS NÃO FECHADOS    NaN       NaN          NaN   NaN         NaN   \n",
       " 17                    NaN    NaN       NaN          NaN   NaN         NaN   \n",
       " 18                    NaN    NaN       NaN          NaN   NaN         NaN   \n",
       " 19                    NaN    NaN       NaN          NaN   NaN         NaN   \n",
       " 20                    NaN    NaN       NaN          NaN   NaN         NaN   \n",
       " 21                    NaN    NaN       NaN          NaN   NaN         NaN   \n",
       " 22                    NaN    NaN       NaN          NaN   NaN         NaN   \n",
       " \n",
       "     Cardápio  Preço  Sinal  Valor total  Saldo restante  Valor Extra  \\\n",
       " 0        NaN    NaN    NaN          NaN             NaN          NaN   \n",
       " 1        NaN    NaN    NaN          0.0             0.0          NaN   \n",
       " 2        NaN    NaN    NaN          0.0             0.0          NaN   \n",
       " 3        NaN    NaN    NaN          0.0             0.0          NaN   \n",
       " 4        NaN    NaN    NaN          0.0             0.0          NaN   \n",
       " 5        NaN    NaN    NaN          0.0             0.0          NaN   \n",
       " 6        NaN    NaN    NaN          0.0             0.0          NaN   \n",
       " 7        NaN    NaN    NaN          0.0             0.0          NaN   \n",
       " 8        NaN    NaN    NaN          0.0             0.0          NaN   \n",
       " 9        NaN    NaN    NaN          NaN             NaN          NaN   \n",
       " 10       NaN    NaN    NaN          0.0             0.0          NaN   \n",
       " 11       NaN    NaN    NaN          0.0             0.0          NaN   \n",
       " 12       NaN    NaN    NaN          0.0             0.0          NaN   \n",
       " 13       NaN    NaN    NaN          0.0             0.0          NaN   \n",
       " 14       NaN    NaN    NaN          0.0             0.0          NaN   \n",
       " 15       NaN    NaN    NaN          0.0             0.0          NaN   \n",
       " 16       NaN    NaN    NaN          NaN             NaN          NaN   \n",
       " 17       NaN    NaN    NaN          0.0             0.0          NaN   \n",
       " 18       NaN    NaN    NaN          0.0             0.0          NaN   \n",
       " 19       NaN    NaN    NaN          0.0             0.0          NaN   \n",
       " 20       NaN    NaN    NaN          0.0             0.0          NaN   \n",
       " 21       NaN    NaN    NaN          0.0             0.0          NaN   \n",
       " 22       NaN    NaN    NaN          0.0             0.0          NaN   \n",
       " \n",
       "     Forma de pagamento  Observação  \n",
       " 0                  NaN         NaN  \n",
       " 1                  NaN         NaN  \n",
       " 2                  NaN         NaN  \n",
       " 3                  NaN         NaN  \n",
       " 4                  NaN         NaN  \n",
       " 5                  NaN         NaN  \n",
       " 6                  NaN         NaN  \n",
       " 7                  NaN         NaN  \n",
       " 8                  NaN         NaN  \n",
       " 9                  NaN         NaN  \n",
       " 10                 NaN         NaN  \n",
       " 11                 NaN         NaN  \n",
       " 12                 NaN         NaN  \n",
       " 13                 NaN         NaN  \n",
       " 14                 NaN         NaN  \n",
       " 15                 NaN         NaN  \n",
       " 16                 NaN         NaN  \n",
       " 17                 NaN         NaN  \n",
       " 18                 NaN         NaN  \n",
       " 19                 NaN         NaN  \n",
       " 20                 NaN         NaN  \n",
       " 21                 NaN         NaN  \n",
       " 22                 NaN         NaN  ,\n",
       " 'outubro':              Data contato          Etapa  \\\n",
       " 0        EVENTOS FECHADOS            NaN   \n",
       " 1                     NaN            NaN   \n",
       " 2                     NaN            NaN   \n",
       " 3                     NaN            NaN   \n",
       " 4                     NaN            NaN   \n",
       " 5                     NaN            NaN   \n",
       " 6                     NaN            NaN   \n",
       " 7                     NaN            NaN   \n",
       " 8                     NaN            NaN   \n",
       " 9   EVENTOS EM NEGOCIAÇÃO            NaN   \n",
       " 10    2022-05-27 00:00:00  em negociação   \n",
       " 11                    NaN            NaN   \n",
       " 12                    NaN            NaN   \n",
       " 13                    NaN            NaN   \n",
       " 14                    NaN            NaN   \n",
       " 15                    NaN            NaN   \n",
       " 16   EVENTOS NÃO FECHADOS            NaN   \n",
       " 17                    NaN            NaN   \n",
       " 18                    NaN            NaN   \n",
       " 19                    NaN            NaN   \n",
       " 20                    NaN            NaN   \n",
       " 21                    NaN            NaN   \n",
       " 22                    NaN            NaN   \n",
       " \n",
       "                                              Situação Data Evento  \\\n",
       " 0                                                 NaN         NaT   \n",
       " 1                                                 NaN         NaT   \n",
       " 2                                                 NaN         NaT   \n",
       " 3                                                 NaN         NaT   \n",
       " 4                                                 NaN         NaT   \n",
       " 5                                                 NaN         NaT   \n",
       " 6                                                 NaN         NaT   \n",
       " 7                                                 NaN         NaT   \n",
       " 8                                                 NaN         NaT   \n",
       " 9                                                 NaN         NaT   \n",
       " 10  entrar em contato 25 dias para definição do ev...  2022-10-18   \n",
       " 11                                                NaN         NaT   \n",
       " 12                                                NaN         NaT   \n",
       " 13                                                NaN         NaT   \n",
       " 14                                                NaN         NaT   \n",
       " 15                                                NaN         NaT   \n",
       " 16                                                NaN         NaT   \n",
       " 17                                                NaN         NaT   \n",
       " 18                                                NaN         NaT   \n",
       " 19                                                NaN         NaT   \n",
       " 20                                                NaN         NaT   \n",
       " 21                                                NaN         NaT   \n",
       " 22                                                NaN         NaT   \n",
       " \n",
       "                    Tipo  Convidados   Cardápio  Preço  Sinal  Valor total  \\\n",
       " 0                   NaN         NaN        NaN    NaN    NaN          NaN   \n",
       " 1                   NaN         NaN        NaN    NaN    NaN          0.0   \n",
       " 2                   NaN         NaN        NaN    NaN    NaN          0.0   \n",
       " 3                   NaN         NaN        NaN    NaN    NaN          0.0   \n",
       " 4                   NaN         NaN        NaN    NaN    NaN          0.0   \n",
       " 5                   NaN         NaN        NaN    NaN    NaN          0.0   \n",
       " 6                   NaN         NaN        NaN    NaN    NaN          0.0   \n",
       " 7                   NaN         NaN        NaN    NaN    NaN          0.0   \n",
       " 8                   NaN         NaN        NaN    NaN    NaN          0.0   \n",
       " 9                   NaN         NaN        NaN    NaN    NaN          NaN   \n",
       " 10  Jantar com palestra        20.0  A definir    NaN    NaN          0.0   \n",
       " 11                  NaN         NaN        NaN    NaN    NaN          0.0   \n",
       " 12                  NaN         NaN        NaN    NaN    NaN          0.0   \n",
       " 13                  NaN         NaN        NaN    NaN    NaN          0.0   \n",
       " 14                  NaN         NaN        NaN    NaN    NaN          0.0   \n",
       " 15                  NaN         NaN        NaN    NaN    NaN          0.0   \n",
       " 16                  NaN         NaN        NaN    NaN    NaN          NaN   \n",
       " 17                  NaN         NaN        NaN    NaN    NaN          0.0   \n",
       " 18                  NaN         NaN        NaN    NaN    NaN          0.0   \n",
       " 19                  NaN         NaN        NaN    NaN    NaN          0.0   \n",
       " 20                  NaN         NaN        NaN    NaN    NaN          0.0   \n",
       " 21                  NaN         NaN        NaN    NaN    NaN          0.0   \n",
       " 22                  NaN         NaN        NaN    NaN    NaN          0.0   \n",
       " \n",
       "     Saldo restante  Valor Extra  Forma de pagamento  \\\n",
       " 0              NaN          NaN                 NaN   \n",
       " 1              0.0          NaN                 NaN   \n",
       " 2              0.0          NaN                 NaN   \n",
       " 3              0.0          NaN                 NaN   \n",
       " 4              0.0          NaN                 NaN   \n",
       " 5              0.0          NaN                 NaN   \n",
       " 6              0.0          NaN                 NaN   \n",
       " 7              0.0          NaN                 NaN   \n",
       " 8              0.0          NaN                 NaN   \n",
       " 9              NaN          NaN                 NaN   \n",
       " 10             0.0          NaN                 NaN   \n",
       " 11             0.0          NaN                 NaN   \n",
       " 12             0.0          NaN                 NaN   \n",
       " 13             0.0          NaN                 NaN   \n",
       " 14             0.0          NaN                 NaN   \n",
       " 15             0.0          NaN                 NaN   \n",
       " 16             NaN          NaN                 NaN   \n",
       " 17             0.0          NaN                 NaN   \n",
       " 18             0.0          NaN                 NaN   \n",
       " 19             0.0          NaN                 NaN   \n",
       " 20             0.0          NaN                 NaN   \n",
       " 21             0.0          NaN                 NaN   \n",
       " 22             0.0          NaN                 NaN   \n",
       " \n",
       "                                            Observação  \n",
       " 0                                                 NaN  \n",
       " 1                                                 NaN  \n",
       " 2                                                 NaN  \n",
       " 3                                                 NaN  \n",
       " 4                                                 NaN  \n",
       " 5                                                 NaN  \n",
       " 6                                                 NaN  \n",
       " 7                                                 NaN  \n",
       " 8                                                 NaN  \n",
       " 9                                                 NaN  \n",
       " 10  Jantar com palestra, cliente solicitou equipam...  \n",
       " 11                                                NaN  \n",
       " 12                                                NaN  \n",
       " 13                                                NaN  \n",
       " 14                                                NaN  \n",
       " 15                                                NaN  \n",
       " 16                                                NaN  \n",
       " 17                                                NaN  \n",
       " 18                                                NaN  \n",
       " 19                                                NaN  \n",
       " 20                                                NaN  \n",
       " 21                                                NaN  \n",
       " 22                                                NaN  ,\n",
       " 'novembro':              Data contato  Etapa  Situação  Data Evento  Tipo  Convidados  \\\n",
       " 0        EVENTOS FECHADOS    NaN       NaN          NaN   NaN         NaN   \n",
       " 1                     NaN    NaN       NaN          NaN   NaN         NaN   \n",
       " 2                     NaN    NaN       NaN          NaN   NaN         NaN   \n",
       " 3                     NaN    NaN       NaN          NaN   NaN         NaN   \n",
       " 4                     NaN    NaN       NaN          NaN   NaN         NaN   \n",
       " 5                     NaN    NaN       NaN          NaN   NaN         NaN   \n",
       " 6                     NaN    NaN       NaN          NaN   NaN         NaN   \n",
       " 7                     NaN    NaN       NaN          NaN   NaN         NaN   \n",
       " 8                     NaN    NaN       NaN          NaN   NaN         NaN   \n",
       " 9   EVENTOS EM NEGOCIAÇÃO    NaN       NaN          NaN   NaN         NaN   \n",
       " 10                    NaN    NaN       NaN          NaN   NaN         NaN   \n",
       " 11                    NaN    NaN       NaN          NaN   NaN         NaN   \n",
       " 12                    NaN    NaN       NaN          NaN   NaN         NaN   \n",
       " 13                    NaN    NaN       NaN          NaN   NaN         NaN   \n",
       " 14                    NaN    NaN       NaN          NaN   NaN         NaN   \n",
       " 15                    NaN    NaN       NaN          NaN   NaN         NaN   \n",
       " 16   EVENTOS NÃO FECHADOS    NaN       NaN          NaN   NaN         NaN   \n",
       " 17                    NaN    NaN       NaN          NaN   NaN         NaN   \n",
       " 18                    NaN    NaN       NaN          NaN   NaN         NaN   \n",
       " 19                    NaN    NaN       NaN          NaN   NaN         NaN   \n",
       " 20                    NaN    NaN       NaN          NaN   NaN         NaN   \n",
       " 21                    NaN    NaN       NaN          NaN   NaN         NaN   \n",
       " 22                    NaN    NaN       NaN          NaN   NaN         NaN   \n",
       " \n",
       "     Cardápio  Preço  Sinal  Valor total  Saldo restante  Valor Extra  \\\n",
       " 0        NaN    NaN    NaN          NaN             NaN          NaN   \n",
       " 1        NaN    NaN    NaN          0.0             0.0          NaN   \n",
       " 2        NaN    NaN    NaN          0.0             0.0          NaN   \n",
       " 3        NaN    NaN    NaN          0.0             0.0          NaN   \n",
       " 4        NaN    NaN    NaN          0.0             0.0          NaN   \n",
       " 5        NaN    NaN    NaN          0.0             0.0          NaN   \n",
       " 6        NaN    NaN    NaN          0.0             0.0          NaN   \n",
       " 7        NaN    NaN    NaN          0.0             0.0          NaN   \n",
       " 8        NaN    NaN    NaN          0.0             0.0          NaN   \n",
       " 9        NaN    NaN    NaN          NaN             NaN          NaN   \n",
       " 10       NaN    NaN    NaN          0.0             0.0          NaN   \n",
       " 11       NaN    NaN    NaN          0.0             0.0          NaN   \n",
       " 12       NaN    NaN    NaN          0.0             0.0          NaN   \n",
       " 13       NaN    NaN    NaN          0.0             0.0          NaN   \n",
       " 14       NaN    NaN    NaN          0.0             0.0          NaN   \n",
       " 15       NaN    NaN    NaN          0.0             0.0          NaN   \n",
       " 16       NaN    NaN    NaN          NaN             NaN          NaN   \n",
       " 17       NaN    NaN    NaN          0.0             0.0          NaN   \n",
       " 18       NaN    NaN    NaN          0.0             0.0          NaN   \n",
       " 19       NaN    NaN    NaN          0.0             0.0          NaN   \n",
       " 20       NaN    NaN    NaN          0.0             0.0          NaN   \n",
       " 21       NaN    NaN    NaN          0.0             0.0          NaN   \n",
       " 22       NaN    NaN    NaN          0.0             0.0          NaN   \n",
       " \n",
       "     Forma de pagamento  Observação  \n",
       " 0                  NaN         NaN  \n",
       " 1                  NaN         NaN  \n",
       " 2                  NaN         NaN  \n",
       " 3                  NaN         NaN  \n",
       " 4                  NaN         NaN  \n",
       " 5                  NaN         NaN  \n",
       " 6                  NaN         NaN  \n",
       " 7                  NaN         NaN  \n",
       " 8                  NaN         NaN  \n",
       " 9                  NaN         NaN  \n",
       " 10                 NaN         NaN  \n",
       " 11                 NaN         NaN  \n",
       " 12                 NaN         NaN  \n",
       " 13                 NaN         NaN  \n",
       " 14                 NaN         NaN  \n",
       " 15                 NaN         NaN  \n",
       " 16                 NaN         NaN  \n",
       " 17                 NaN         NaN  \n",
       " 18                 NaN         NaN  \n",
       " 19                 NaN         NaN  \n",
       " 20                 NaN         NaN  \n",
       " 21                 NaN         NaN  \n",
       " 22                 NaN         NaN  ,\n",
       " 'dezembro':              Data contato  Etapa  Situação  Data Evento  Tipo  Convidados  \\\n",
       " 0        EVENTOS FECHADOS    NaN       NaN          NaN   NaN         NaN   \n",
       " 1                     NaN    NaN       NaN          NaN   NaN         NaN   \n",
       " 2                     NaN    NaN       NaN          NaN   NaN         NaN   \n",
       " 3                     NaN    NaN       NaN          NaN   NaN         NaN   \n",
       " 4                     NaN    NaN       NaN          NaN   NaN         NaN   \n",
       " 5                     NaN    NaN       NaN          NaN   NaN         NaN   \n",
       " 6                     NaN    NaN       NaN          NaN   NaN         NaN   \n",
       " 7                     NaN    NaN       NaN          NaN   NaN         NaN   \n",
       " 8                     NaN    NaN       NaN          NaN   NaN         NaN   \n",
       " 9   EVENTOS EM NEGOCIAÇÃO    NaN       NaN          NaN   NaN         NaN   \n",
       " 10                    NaN    NaN       NaN          NaN   NaN         NaN   \n",
       " 11                    NaN    NaN       NaN          NaN   NaN         NaN   \n",
       " 12                    NaN    NaN       NaN          NaN   NaN         NaN   \n",
       " 13                    NaN    NaN       NaN          NaN   NaN         NaN   \n",
       " 14                    NaN    NaN       NaN          NaN   NaN         NaN   \n",
       " 15                    NaN    NaN       NaN          NaN   NaN         NaN   \n",
       " 16   EVENTOS NÃO FECHADOS    NaN       NaN          NaN   NaN         NaN   \n",
       " 17                    NaN    NaN       NaN          NaN   NaN         NaN   \n",
       " 18                    NaN    NaN       NaN          NaN   NaN         NaN   \n",
       " 19                    NaN    NaN       NaN          NaN   NaN         NaN   \n",
       " 20                    NaN    NaN       NaN          NaN   NaN         NaN   \n",
       " 21                    NaN    NaN       NaN          NaN   NaN         NaN   \n",
       " 22                    NaN    NaN       NaN          NaN   NaN         NaN   \n",
       " \n",
       "     Cardápio  Preço  Sinal  Valor total  Saldo restante  Valor Extra  \\\n",
       " 0        NaN    NaN    NaN          NaN             NaN          NaN   \n",
       " 1        NaN    NaN    NaN          0.0             0.0          NaN   \n",
       " 2        NaN    NaN    NaN          0.0             0.0          NaN   \n",
       " 3        NaN    NaN    NaN          0.0             0.0          NaN   \n",
       " 4        NaN    NaN    NaN          0.0             0.0          NaN   \n",
       " 5        NaN    NaN    NaN          0.0             0.0          NaN   \n",
       " 6        NaN    NaN    NaN          0.0             0.0          NaN   \n",
       " 7        NaN    NaN    NaN          0.0             0.0          NaN   \n",
       " 8        NaN    NaN    NaN          0.0             0.0          NaN   \n",
       " 9        NaN    NaN    NaN          NaN             NaN          NaN   \n",
       " 10       NaN    NaN    NaN          0.0             0.0          NaN   \n",
       " 11       NaN    NaN    NaN          0.0             0.0          NaN   \n",
       " 12       NaN    NaN    NaN          0.0             0.0          NaN   \n",
       " 13       NaN    NaN    NaN          0.0             0.0          NaN   \n",
       " 14       NaN    NaN    NaN          0.0             0.0          NaN   \n",
       " 15       NaN    NaN    NaN          0.0             0.0          NaN   \n",
       " 16       NaN    NaN    NaN          NaN             NaN          NaN   \n",
       " 17       NaN    NaN    NaN          0.0             0.0          NaN   \n",
       " 18       NaN    NaN    NaN          0.0             0.0          NaN   \n",
       " 19       NaN    NaN    NaN          0.0             0.0          NaN   \n",
       " 20       NaN    NaN    NaN          0.0             0.0          NaN   \n",
       " 21       NaN    NaN    NaN          0.0             0.0          NaN   \n",
       " 22       NaN    NaN    NaN          0.0             0.0          NaN   \n",
       " \n",
       "     Forma de pagamento  Observação  \n",
       " 0                  NaN         NaN  \n",
       " 1                  NaN         NaN  \n",
       " 2                  NaN         NaN  \n",
       " 3                  NaN         NaN  \n",
       " 4                  NaN         NaN  \n",
       " 5                  NaN         NaN  \n",
       " 6                  NaN         NaN  \n",
       " 7                  NaN         NaN  \n",
       " 8                  NaN         NaN  \n",
       " 9                  NaN         NaN  \n",
       " 10                 NaN         NaN  \n",
       " 11                 NaN         NaN  \n",
       " 12                 NaN         NaN  \n",
       " 13                 NaN         NaN  \n",
       " 14                 NaN         NaN  \n",
       " 15                 NaN         NaN  \n",
       " 16                 NaN         NaN  \n",
       " 17                 NaN         NaN  \n",
       " 18                 NaN         NaN  \n",
       " 19                 NaN         NaN  \n",
       " 20                 NaN         NaN  \n",
       " 21                 NaN         NaN  \n",
       " 22                 NaN         NaN  }"
      ]
     },
     "metadata": {},
     "output_type": "display_data"
    }
   ],
   "source": [
    "display(df_full)"
   ]
  },
  {
   "cell_type": "code",
   "execution_count": 4,
   "id": "fec79465",
   "metadata": {
    "scrolled": false
   },
   "outputs": [
    {
     "name": "stdout",
     "output_type": "stream",
     "text": [
      "Antigos Contatos\n",
      "março\n",
      "abril\n",
      "maio\n",
      "junho\n",
      "julho\n",
      "agosto\n",
      "setembro\n",
      "outubro\n",
      "novembro\n",
      "dezembro\n"
     ]
    }
   ],
   "source": [
    "# descobrindo os nomes das sheets\n",
    "for i, k in enumerate(df_full):\n",
    "    print(f'{k}')"
   ]
  },
  {
   "cell_type": "code",
   "execution_count": 5,
   "id": "fdfd7779",
   "metadata": {},
   "outputs": [],
   "source": [
    "# lendo todas as 'sheets' do arquivo e salvando como dataframes unicos\n",
    "df_antigo = pd.read_excel(caminho, sheet_name = 'Antigos Contatos', header= 4)"
   ]
  },
  {
   "cell_type": "markdown",
   "id": "b4d8869e",
   "metadata": {},
   "source": [
    "#  DataFrame Administração Anterior"
   ]
  },
  {
   "cell_type": "code",
   "execution_count": 6,
   "id": "57a61767",
   "metadata": {
    "scrolled": false
   },
   "outputs": [],
   "source": [
    "df_antigo = df_antigo.drop_duplicates()"
   ]
  },
  {
   "cell_type": "code",
   "execution_count": 7,
   "id": "af938446",
   "metadata": {
    "scrolled": true
   },
   "outputs": [
    {
     "data": {
      "text/html": [
       "<div><div id=73019338-db1a-4018-aacf-ad557ddf753d style=\"display:none; background-color:#9D6CFF; color:white; width:200px; height:30px; padding-left:5px; border-radius:4px; flex-direction:row; justify-content:space-around; align-items:center;\" onmouseover=\"this.style.backgroundColor='#BA9BF8'\" onmouseout=\"this.style.backgroundColor='#9D6CFF'\" onclick=\"window.commands?.execute('create-mitosheet-from-dataframe-output');\">See Full Dataframe in Mito</div> <script> if (window.commands?.hasCommand('create-mitosheet-from-dataframe-output')) document.getElementById('73019338-db1a-4018-aacf-ad557ddf753d').style.display = 'flex' </script> <table border=\"1\" class=\"dataframe\">\n",
       "  <thead>\n",
       "    <tr style=\"text-align: right;\">\n",
       "      <th></th>\n",
       "      <th>Data do Evento</th>\n",
       "      <th>Data do contato</th>\n",
       "      <th>Tipo de evento</th>\n",
       "      <th>Valor total</th>\n",
       "      <th>Nº de Pessoas</th>\n",
       "      <th>Observação</th>\n",
       "    </tr>\n",
       "  </thead>\n",
       "  <tbody>\n",
       "    <tr>\n",
       "      <th>0</th>\n",
       "      <td>2018-06-12 00:00:00</td>\n",
       "      <td>NaN</td>\n",
       "      <td>1º evento</td>\n",
       "      <td>21450.4</td>\n",
       "      <td>78 pessoas</td>\n",
       "      <td>1 mesa de 8  lugares+ 5 mesas de 4 lugares + 25 mesas de 2 lugares</td>\n",
       "    </tr>\n",
       "    <tr>\n",
       "      <th>1</th>\n",
       "      <td>NaN</td>\n",
       "      <td>NaN</td>\n",
       "      <td>NaN</td>\n",
       "      <td>NaN</td>\n",
       "      <td>NaN</td>\n",
       "      <td>NaN</td>\n",
       "    </tr>\n",
       "    <tr>\n",
       "      <th>2</th>\n",
       "      <td>2018-07-12 00:00:00</td>\n",
       "      <td>NaN</td>\n",
       "      <td>empresarial</td>\n",
       "      <td>4631</td>\n",
       "      <td>25 pessoas</td>\n",
       "      <td>cardapio Krab KPP R$ 175,00 por pessoa c/ espumante (1 garrafa a cada 3 pessoas)</td>\n",
       "    </tr>\n",
       "    <tr>\n",
       "      <th>3</th>\n",
       "      <td>2018-07-19 00:00:00</td>\n",
       "      <td>NaN</td>\n",
       "      <td>empresarial</td>\n",
       "      <td>12100</td>\n",
       "      <td>55 pessoas</td>\n",
       "      <td>Menu Koh Paghan Finger R$ 185,00 e Pct bebidas Mali com drink Tom Yam Siam. Degustação 29/05.</td>\n",
       "    </tr>\n",
       "    <tr>\n",
       "      <th>4</th>\n",
       "      <td>2018-07-26 00:00:00</td>\n",
       "      <td>NaN</td>\n",
       "      <td>inauguração</td>\n",
       "      <td>NaN</td>\n",
       "      <td>NaN</td>\n",
       "      <td>NaN</td>\n",
       "    </tr>\n",
       "    <tr>\n",
       "      <th>...</th>\n",
       "      <td>...</td>\n",
       "      <td>...</td>\n",
       "      <td>...</td>\n",
       "      <td>...</td>\n",
       "      <td>...</td>\n",
       "      <td>...</td>\n",
       "    </tr>\n",
       "    <tr>\n",
       "      <th>87</th>\n",
       "      <td>2019-01-25 00:00:00</td>\n",
       "      <td>NaN</td>\n",
       "      <td>casamento</td>\n",
       "      <td>NaN</td>\n",
       "      <td>50</td>\n",
       "      <td>NaN</td>\n",
       "    </tr>\n",
       "    <tr>\n",
       "      <th>88</th>\n",
       "      <td>2019-01-18 00:00:00</td>\n",
       "      <td>NaN</td>\n",
       "      <td>formatura</td>\n",
       "      <td>NaN</td>\n",
       "      <td>45</td>\n",
       "      <td>optou por outro local</td>\n",
       "    </tr>\n",
       "    <tr>\n",
       "      <th>89</th>\n",
       "      <td>2019-12-26 00:00:00</td>\n",
       "      <td>NaN</td>\n",
       "      <td>aniversário</td>\n",
       "      <td>NaN</td>\n",
       "      <td>50</td>\n",
       "      <td>teve muitos cancelamentos de convidados e optaram em não comemorar</td>\n",
       "    </tr>\n",
       "    <tr>\n",
       "      <th>90</th>\n",
       "      <td>2019-02-26 00:00:00</td>\n",
       "      <td>NaN</td>\n",
       "      <td>15 anos</td>\n",
       "      <td>NaN</td>\n",
       "      <td>20</td>\n",
       "      <td>optou por outro lugar</td>\n",
       "    </tr>\n",
       "    <tr>\n",
       "      <th>91</th>\n",
       "      <td>2018-11-30 00:00:00</td>\n",
       "      <td>NaN</td>\n",
       "      <td>empresarial</td>\n",
       "      <td>NaN</td>\n",
       "      <td>NaN</td>\n",
       "      <td>optaram por outro local devido a valor de R$ 160,00 por pessoa</td>\n",
       "    </tr>\n",
       "  </tbody>\n",
       "</table></div>"
      ],
      "text/plain": [
       "         Data do Evento Data do contato Tipo de evento Valor total  \\\n",
       "0   2018-06-12 00:00:00             NaN      1º evento     21450.4   \n",
       "1                   NaN             NaN            NaN         NaN   \n",
       "2   2018-07-12 00:00:00             NaN    empresarial        4631   \n",
       "3   2018-07-19 00:00:00             NaN    empresarial       12100   \n",
       "4   2018-07-26 00:00:00             NaN    inauguração         NaN   \n",
       "..                  ...             ...            ...         ...   \n",
       "87  2019-01-25 00:00:00             NaN     casamento          NaN   \n",
       "88  2019-01-18 00:00:00             NaN      formatura         NaN   \n",
       "89  2019-12-26 00:00:00             NaN    aniversário         NaN   \n",
       "90  2019-02-26 00:00:00             NaN        15 anos         NaN   \n",
       "91  2018-11-30 00:00:00             NaN    empresarial         NaN   \n",
       "\n",
       "   Nº de Pessoas                                         Observação  \n",
       "0     78 pessoas  1 mesa de 8  lugares+ 5 mesas de 4 lugares + 2...  \n",
       "1            NaN                                                NaN  \n",
       "2     25 pessoas  cardapio Krab KPP R$ 175,00 por pessoa c/ espu...  \n",
       "3     55 pessoas  Menu Koh Paghan Finger R$ 185,00 e Pct bebidas...  \n",
       "4            NaN                                                NaN  \n",
       "..           ...                                                ...  \n",
       "87            50                                                NaN  \n",
       "88            45                              optou por outro local  \n",
       "89            50  teve muitos cancelamentos de convidados e opta...  \n",
       "90            20                              optou por outro lugar  \n",
       "91           NaN  optaram por outro local devido a valor de R$ 1...  \n",
       "\n",
       "[76 rows x 6 columns]"
      ]
     },
     "execution_count": 7,
     "metadata": {},
     "output_type": "execute_result"
    }
   ],
   "source": [
    "df_antigo"
   ]
  },
  {
   "cell_type": "code",
   "execution_count": 8,
   "id": "9a38ac48",
   "metadata": {
    "scrolled": true
   },
   "outputs": [],
   "source": [
    "# Tratando colunas\n",
    "\n",
    "df_antigo.columns = df_antigo.columns.str.lower().str.replace(' ', '_')"
   ]
  },
  {
   "cell_type": "code",
   "execution_count": 9,
   "id": "5aade730",
   "metadata": {
    "scrolled": true
   },
   "outputs": [
    {
     "name": "stdout",
     "output_type": "stream",
     "text": [
      "<class 'pandas.core.frame.DataFrame'>\n",
      "Int64Index: 76 entries, 0 to 91\n",
      "Data columns (total 6 columns):\n",
      " #   Column           Non-Null Count  Dtype \n",
      "---  ------           --------------  ----- \n",
      " 0   data_do_evento   74 non-null     object\n",
      " 1   data_do_contato  14 non-null     object\n",
      " 2   tipo_de_evento   69 non-null     object\n",
      " 3   valor_total      39 non-null     object\n",
      " 4   nº_de_pessoas    69 non-null     object\n",
      " 5   observação       68 non-null     object\n",
      "dtypes: object(6)\n",
      "memory usage: 4.2+ KB\n"
     ]
    }
   ],
   "source": [
    "df_antigo.info()"
   ]
  },
  {
   "cell_type": "code",
   "execution_count": 10,
   "id": "841992e2",
   "metadata": {},
   "outputs": [
    {
     "data": {
      "text/plain": [
       "Index(['data_evento', 'data_contato', 'tipo', 'valor_total', 'num_convidados',\n",
       "       'observação'],\n",
       "      dtype='object')"
      ]
     },
     "execution_count": 10,
     "metadata": {},
     "output_type": "execute_result"
    }
   ],
   "source": [
    "# renomeia colunas\n",
    "dicio = {'data_do_evento': 'data_evento',\n",
    "         'data_do_contato': 'data_contato',\n",
    "         'tipo_de_evento': 'tipo',\n",
    "         'cliente': 'cliente',\n",
    "         'contato': 'contato', \n",
    "         'valor_total': 'valor_total',\n",
    "         'nº_de_pessoas': 'num_convidados',\n",
    "         'observação': 'observação'}\n",
    "df_antigo.rename(columns = dicio, inplace=True)\n",
    "df_antigo.columns"
   ]
  },
  {
   "cell_type": "code",
   "execution_count": 11,
   "id": "ff9db2c2",
   "metadata": {
    "scrolled": true
   },
   "outputs": [],
   "source": [
    "# excluindo linhas completamente nulas\n",
    "df_antigo = df_antigo.dropna(how='all')"
   ]
  },
  {
   "cell_type": "code",
   "execution_count": 12,
   "id": "5415c340",
   "metadata": {},
   "outputs": [
    {
     "data": {
      "text/html": [
       "<div><div id=cd848b90-893a-41cb-b9bd-fbb63368f098 style=\"display:none; background-color:#9D6CFF; color:white; width:200px; height:30px; padding-left:5px; border-radius:4px; flex-direction:row; justify-content:space-around; align-items:center;\" onmouseover=\"this.style.backgroundColor='#BA9BF8'\" onmouseout=\"this.style.backgroundColor='#9D6CFF'\" onclick=\"window.commands?.execute('create-mitosheet-from-dataframe-output');\">See Full Dataframe in Mito</div> <script> if (window.commands?.hasCommand('create-mitosheet-from-dataframe-output')) document.getElementById('cd848b90-893a-41cb-b9bd-fbb63368f098').style.display = 'flex' </script> <table border=\"1\" class=\"dataframe\">\n",
       "  <thead>\n",
       "    <tr style=\"text-align: right;\">\n",
       "      <th></th>\n",
       "      <th>data_evento</th>\n",
       "      <th>data_contato</th>\n",
       "      <th>tipo</th>\n",
       "      <th>valor_total</th>\n",
       "      <th>num_convidados</th>\n",
       "      <th>observação</th>\n",
       "    </tr>\n",
       "  </thead>\n",
       "  <tbody>\n",
       "    <tr>\n",
       "      <th>0</th>\n",
       "      <td>2018-06-12 00:00:00</td>\n",
       "      <td>NaN</td>\n",
       "      <td>1º evento</td>\n",
       "      <td>21450.4</td>\n",
       "      <td>78 pessoas</td>\n",
       "      <td>1 mesa de 8  lugares+ 5 mesas de 4 lugares + 25 mesas de 2 lugares</td>\n",
       "    </tr>\n",
       "    <tr>\n",
       "      <th>2</th>\n",
       "      <td>2018-07-12 00:00:00</td>\n",
       "      <td>NaN</td>\n",
       "      <td>empresarial</td>\n",
       "      <td>4631</td>\n",
       "      <td>25 pessoas</td>\n",
       "      <td>cardapio Krab KPP R$ 175,00 por pessoa c/ espumante (1 garrafa a cada 3 pessoas)</td>\n",
       "    </tr>\n",
       "    <tr>\n",
       "      <th>3</th>\n",
       "      <td>2018-07-19 00:00:00</td>\n",
       "      <td>NaN</td>\n",
       "      <td>empresarial</td>\n",
       "      <td>12100</td>\n",
       "      <td>55 pessoas</td>\n",
       "      <td>Menu Koh Paghan Finger R$ 185,00 e Pct bebidas Mali com drink Tom Yam Siam. Degustação 29/05.</td>\n",
       "    </tr>\n",
       "    <tr>\n",
       "      <th>4</th>\n",
       "      <td>2018-07-26 00:00:00</td>\n",
       "      <td>NaN</td>\n",
       "      <td>inauguração</td>\n",
       "      <td>NaN</td>\n",
       "      <td>NaN</td>\n",
       "      <td>NaN</td>\n",
       "    </tr>\n",
       "    <tr>\n",
       "      <th>6</th>\n",
       "      <td>2018-08-03 00:00:00</td>\n",
       "      <td>NaN</td>\n",
       "      <td>empresarial</td>\n",
       "      <td>7213.5</td>\n",
       "      <td>35 pessoas</td>\n",
       "      <td>Menu Krab KPP R$ 195,00 por pessoa com refri c/ vinho (1 garrafa a cada 3 pessoas)</td>\n",
       "    </tr>\n",
       "  </tbody>\n",
       "</table></div>"
      ],
      "text/plain": [
       "           data_evento data_contato         tipo valor_total num_convidados  \\\n",
       "0  2018-06-12 00:00:00          NaN    1º evento     21450.4     78 pessoas   \n",
       "2  2018-07-12 00:00:00          NaN  empresarial        4631     25 pessoas   \n",
       "3  2018-07-19 00:00:00          NaN  empresarial       12100     55 pessoas   \n",
       "4  2018-07-26 00:00:00          NaN  inauguração         NaN            NaN   \n",
       "6  2018-08-03 00:00:00          NaN  empresarial      7213.5     35 pessoas   \n",
       "\n",
       "                                          observação  \n",
       "0  1 mesa de 8  lugares+ 5 mesas de 4 lugares + 2...  \n",
       "2  cardapio Krab KPP R$ 175,00 por pessoa c/ espu...  \n",
       "3  Menu Koh Paghan Finger R$ 185,00 e Pct bebidas...  \n",
       "4                                                NaN  \n",
       "6  Menu Krab KPP R$ 195,00 por pessoa com refri c...  "
      ]
     },
     "execution_count": 12,
     "metadata": {},
     "output_type": "execute_result"
    }
   ],
   "source": [
    "df_antigo.head()"
   ]
  },
  {
   "cell_type": "markdown",
   "id": "6b6c3214",
   "metadata": {},
   "source": [
    "### Identificando e corrigindo colunas"
   ]
  },
  {
   "cell_type": "code",
   "execution_count": 13,
   "id": "376c1fb2",
   "metadata": {},
   "outputs": [],
   "source": [
    "df_antigo = df_antigo.drop([4])"
   ]
  },
  {
   "cell_type": "markdown",
   "id": "9d1782cf",
   "metadata": {},
   "source": [
    "### Transformando colunas datas"
   ]
  },
  {
   "cell_type": "code",
   "execution_count": 14,
   "id": "19a0d19a",
   "metadata": {},
   "outputs": [],
   "source": [
    "df_antigo['data_contato'] = pd.to_datetime(df_antigo['data_contato'], errors= 'coerce')\n",
    "df_antigo['data_evento'] = pd.to_datetime(df_antigo['data_evento'], errors= 'coerce')"
   ]
  },
  {
   "cell_type": "code",
   "execution_count": 15,
   "id": "4acd56e5",
   "metadata": {
    "scrolled": false
   },
   "outputs": [
    {
     "name": "stdout",
     "output_type": "stream",
     "text": [
      "<class 'pandas.core.frame.DataFrame'>\n",
      "Int64Index: 74 entries, 0 to 91\n",
      "Data columns (total 6 columns):\n",
      " #   Column          Non-Null Count  Dtype         \n",
      "---  ------          --------------  -----         \n",
      " 0   data_evento     66 non-null     datetime64[ns]\n",
      " 1   data_contato    8 non-null      datetime64[ns]\n",
      " 2   tipo            68 non-null     object        \n",
      " 3   valor_total     39 non-null     object        \n",
      " 4   num_convidados  69 non-null     object        \n",
      " 5   observação      68 non-null     object        \n",
      "dtypes: datetime64[ns](2), object(4)\n",
      "memory usage: 4.0+ KB\n"
     ]
    }
   ],
   "source": [
    "df_antigo.info()"
   ]
  },
  {
   "cell_type": "code",
   "execution_count": 16,
   "id": "ded37799",
   "metadata": {
    "scrolled": false
   },
   "outputs": [
    {
     "data": {
      "text/html": [
       "<div><div id=dc4d72e0-aaf6-4f8e-8193-2ea8e434d5eb style=\"display:none; background-color:#9D6CFF; color:white; width:200px; height:30px; padding-left:5px; border-radius:4px; flex-direction:row; justify-content:space-around; align-items:center;\" onmouseover=\"this.style.backgroundColor='#BA9BF8'\" onmouseout=\"this.style.backgroundColor='#9D6CFF'\" onclick=\"window.commands?.execute('create-mitosheet-from-dataframe-output');\">See Full Dataframe in Mito</div> <script> if (window.commands?.hasCommand('create-mitosheet-from-dataframe-output')) document.getElementById('dc4d72e0-aaf6-4f8e-8193-2ea8e434d5eb').style.display = 'flex' </script> <table border=\"1\" class=\"dataframe\">\n",
       "  <thead>\n",
       "    <tr style=\"text-align: right;\">\n",
       "      <th></th>\n",
       "      <th>data_evento</th>\n",
       "      <th>data_contato</th>\n",
       "      <th>tipo</th>\n",
       "      <th>valor_total</th>\n",
       "      <th>num_convidados</th>\n",
       "      <th>observação</th>\n",
       "    </tr>\n",
       "  </thead>\n",
       "  <tbody>\n",
       "    <tr>\n",
       "      <th>46</th>\n",
       "      <td>NaT</td>\n",
       "      <td>NaT</td>\n",
       "      <td>NaN</td>\n",
       "      <td>NaN</td>\n",
       "      <td>NaN</td>\n",
       "      <td>NaN</td>\n",
       "    </tr>\n",
       "    <tr>\n",
       "      <th>49</th>\n",
       "      <td>NaT</td>\n",
       "      <td>NaT</td>\n",
       "      <td>Tipo de evento</td>\n",
       "      <td>Valor total</td>\n",
       "      <td>Nº de Pessoas</td>\n",
       "      <td>Observação</td>\n",
       "    </tr>\n",
       "    <tr>\n",
       "      <th>56</th>\n",
       "      <td>NaT</td>\n",
       "      <td>NaT</td>\n",
       "      <td>Tipo de evento</td>\n",
       "      <td>Valor total</td>\n",
       "      <td>Nº de Pessoas</td>\n",
       "      <td>Observação</td>\n",
       "    </tr>\n",
       "    <tr>\n",
       "      <th>59</th>\n",
       "      <td>NaT</td>\n",
       "      <td>2019-01-15</td>\n",
       "      <td>NaN</td>\n",
       "      <td>NaN</td>\n",
       "      <td>NaN</td>\n",
       "      <td>enviou email para o kpp e acredito que seja para mais de 30 convidados, enviei apresentação TH</td>\n",
       "    </tr>\n",
       "    <tr>\n",
       "      <th>63</th>\n",
       "      <td>NaT</td>\n",
       "      <td>NaT</td>\n",
       "      <td>NaN</td>\n",
       "      <td>NaN</td>\n",
       "      <td>30</td>\n",
       "      <td>enviado menus e proposta de locação do espaço dia 28/01</td>\n",
       "    </tr>\n",
       "    <tr>\n",
       "      <th>69</th>\n",
       "      <td>NaT</td>\n",
       "      <td>NaT</td>\n",
       "      <td>casamento</td>\n",
       "      <td>NaN</td>\n",
       "      <td>120</td>\n",
       "      <td>não fechou pelo número de pessoas 100/120</td>\n",
       "    </tr>\n",
       "    <tr>\n",
       "      <th>73</th>\n",
       "      <td>NaT</td>\n",
       "      <td>2018-09-05</td>\n",
       "      <td>coquetel</td>\n",
       "      <td>NaN</td>\n",
       "      <td>70</td>\n",
       "      <td>queriam parceria para coquetel de lançamento de um livro, porém queriam estilo pub com venda de pratos, bebidas, onde cada um pagasse o seu.</td>\n",
       "    </tr>\n",
       "    <tr>\n",
       "      <th>86</th>\n",
       "      <td>NaT</td>\n",
       "      <td>NaT</td>\n",
       "      <td>empresarial</td>\n",
       "      <td>NaN</td>\n",
       "      <td>60</td>\n",
       "      <td>não farão maias em dezembro devido vários colegas não conseguirem comparecerem</td>\n",
       "    </tr>\n",
       "  </tbody>\n",
       "</table></div>"
      ],
      "text/plain": [
       "   data_evento data_contato            tipo  valor_total num_convidados  \\\n",
       "46         NaT          NaT             NaN          NaN            NaN   \n",
       "49         NaT          NaT  Tipo de evento  Valor total  Nº de Pessoas   \n",
       "56         NaT          NaT  Tipo de evento  Valor total  Nº de Pessoas   \n",
       "59         NaT   2019-01-15             NaN          NaN            NaN   \n",
       "63         NaT          NaT             NaN          NaN             30   \n",
       "69         NaT          NaT       casamento          NaN            120   \n",
       "73         NaT   2018-09-05        coquetel          NaN             70   \n",
       "86         NaT          NaT     empresarial          NaN             60   \n",
       "\n",
       "                                           observação  \n",
       "46                                                NaN  \n",
       "49                                         Observação  \n",
       "56                                         Observação  \n",
       "59  enviou email para o kpp e acredito que seja pa...  \n",
       "63  enviado menus e proposta de locação do espaço ...  \n",
       "69          não fechou pelo número de pessoas 100/120  \n",
       "73  queriam parceria para coquetel de lançamento d...  \n",
       "86  não farão maias em dezembro devido vários cole...  "
      ]
     },
     "execution_count": 16,
     "metadata": {},
     "output_type": "execute_result"
    }
   ],
   "source": [
    "# Identificar datas nulas\n",
    "df_antigo[df_antigo['data_evento'].isnull()]"
   ]
  },
  {
   "cell_type": "code",
   "execution_count": 19,
   "id": "bbec8165",
   "metadata": {},
   "outputs": [],
   "source": [
    "# Preenchendo valores nulos\n",
    "df_antigo['data_contato'] = df_antigo['data_contato'].fillna(df_antigo.data_evento)\n",
    "df_antigo['tipo'] = df_antigo['tipo'].fillna('Não informado')\n",
    "df_antigo['valor_total'] = df_antigo['valor_total'].fillna(0)\n",
    "df_antigo['num_convidados'] = df_antigo['num_convidados'].fillna(0)\n",
    "df_antigo['observação'] = df_antigo['observação'].fillna('Sem observação')"
   ]
  },
  {
   "cell_type": "code",
   "execution_count": 20,
   "id": "1678cae7",
   "metadata": {},
   "outputs": [],
   "source": [
    "# drop nas linhas que sobraram nulas\n",
    "df_antigo.dropna(inplace=True)"
   ]
  },
  {
   "cell_type": "code",
   "execution_count": 21,
   "id": "66ef7e5d",
   "metadata": {
    "scrolled": true
   },
   "outputs": [],
   "source": [
    "# função filter\n",
    "# filter(lambda item: item[] expression, iterable)"
   ]
  },
  {
   "cell_type": "code",
   "execution_count": 22,
   "id": "d43b26b4",
   "metadata": {},
   "outputs": [],
   "source": [
    "# transformando em string utilizando função lambda e metodo astype()\n",
    "# df['Data do Evento'] = df['Data do Evento'].applay(lambda x: str(x)) \n",
    "# df_antigo['data_evento'] = df_antigo['data_evento'].astype('str')"
   ]
  },
  {
   "cell_type": "code",
   "execution_count": 23,
   "id": "ab9c95e0",
   "metadata": {
    "scrolled": true
   },
   "outputs": [],
   "source": [
    "# Utiliza função filter para descobrir elementos que não eram datas na serie\n",
    "# filtro = list(filter(lambda x: x[0] not in '2', df_antigo['data_evento']))"
   ]
  },
  {
   "cell_type": "code",
   "execution_count": 24,
   "id": "9cdb825b",
   "metadata": {},
   "outputs": [],
   "source": [
    "# df_antigo['data_evento'] = df_antigo['data_evento'].replace('fevereiro', '2017-01-01')\n",
    "# df_antigo['data_evento'] = df_antigo['data_evento'].replace('16/06 ou 30/06', '2017-01-01')\n",
    "# df_antigo['data_evento'] = df_antigo['data_evento'].replace('07/12 ou 14/12', '2017-01-01')\n",
    "# df_antigo['data_evento'] = df_antigo['data_evento'].replace('sem data', '2017-01-01')"
   ]
  },
  {
   "cell_type": "code",
   "execution_count": 25,
   "id": "9f6b0206",
   "metadata": {},
   "outputs": [],
   "source": [
    "df_antigo['num_convidados'] = df_antigo['num_convidados'].replace('60 a 80', '70')"
   ]
  },
  {
   "cell_type": "code",
   "execution_count": 26,
   "id": "e8ebaf5e",
   "metadata": {},
   "outputs": [
    {
     "name": "stdout",
     "output_type": "stream",
     "text": [
      "<class 'pandas.core.frame.DataFrame'>\n",
      "Int64Index: 66 entries, 0 to 91\n",
      "Data columns (total 6 columns):\n",
      " #   Column          Non-Null Count  Dtype         \n",
      "---  ------          --------------  -----         \n",
      " 0   data_evento     66 non-null     datetime64[ns]\n",
      " 1   data_contato    66 non-null     datetime64[ns]\n",
      " 2   tipo            66 non-null     object        \n",
      " 3   valor_total     66 non-null     object        \n",
      " 4   num_convidados  66 non-null     object        \n",
      " 5   observação      66 non-null     object        \n",
      "dtypes: datetime64[ns](2), object(4)\n",
      "memory usage: 3.6+ KB\n"
     ]
    }
   ],
   "source": [
    "df_antigo.info()"
   ]
  },
  {
   "cell_type": "code",
   "execution_count": 27,
   "id": "842903d7",
   "metadata": {
    "scrolled": true
   },
   "outputs": [],
   "source": [
    "# organizando o indice\n",
    "df_antigo.reset_index(drop=True, inplace=True)"
   ]
  },
  {
   "cell_type": "code",
   "execution_count": 28,
   "id": "36733fad",
   "metadata": {},
   "outputs": [],
   "source": [
    "# salva dataframe\n",
    "df_antigo.to_excel('df_2018_limpo.xlsx', index= False)"
   ]
  },
  {
   "cell_type": "markdown",
   "id": "6d558914",
   "metadata": {},
   "source": [
    "### Organizar coluna nº pessoas"
   ]
  },
  {
   "cell_type": "code",
   "execution_count": 29,
   "id": "b12211c9",
   "metadata": {},
   "outputs": [],
   "source": [
    "# Gravando um novo dataframe\n",
    "df_limpo = pd.read_excel('df_2018_limpo.xlsx')"
   ]
  },
  {
   "cell_type": "code",
   "execution_count": 30,
   "id": "5f18accc",
   "metadata": {
    "scrolled": true
   },
   "outputs": [
    {
     "data": {
      "text/html": [
       "<div><div id=8a564554-b89b-4c45-8cc2-ff04713804d7 style=\"display:none; background-color:#9D6CFF; color:white; width:200px; height:30px; padding-left:5px; border-radius:4px; flex-direction:row; justify-content:space-around; align-items:center;\" onmouseover=\"this.style.backgroundColor='#BA9BF8'\" onmouseout=\"this.style.backgroundColor='#9D6CFF'\" onclick=\"window.commands?.execute('create-mitosheet-from-dataframe-output');\">See Full Dataframe in Mito</div> <script> if (window.commands?.hasCommand('create-mitosheet-from-dataframe-output')) document.getElementById('8a564554-b89b-4c45-8cc2-ff04713804d7').style.display = 'flex' </script> <table border=\"1\" class=\"dataframe\">\n",
       "  <thead>\n",
       "    <tr style=\"text-align: right;\">\n",
       "      <th></th>\n",
       "      <th>data_evento</th>\n",
       "      <th>data_contato</th>\n",
       "      <th>tipo</th>\n",
       "      <th>valor_total</th>\n",
       "      <th>num_convidados</th>\n",
       "      <th>observação</th>\n",
       "    </tr>\n",
       "  </thead>\n",
       "  <tbody>\n",
       "    <tr>\n",
       "      <th>0</th>\n",
       "      <td>2018-06-12</td>\n",
       "      <td>2018-06-12</td>\n",
       "      <td>1º evento</td>\n",
       "      <td>21450.4</td>\n",
       "      <td>78 pessoas</td>\n",
       "      <td>1 mesa de 8  lugares+ 5 mesas de 4 lugares + 25 mesas de 2 lugares</td>\n",
       "    </tr>\n",
       "    <tr>\n",
       "      <th>1</th>\n",
       "      <td>2018-07-12</td>\n",
       "      <td>2018-07-12</td>\n",
       "      <td>empresarial</td>\n",
       "      <td>4631.0</td>\n",
       "      <td>25 pessoas</td>\n",
       "      <td>cardapio Krab KPP R$ 175,00 por pessoa c/ espumante (1 garrafa a cada 3 pessoas)</td>\n",
       "    </tr>\n",
       "    <tr>\n",
       "      <th>2</th>\n",
       "      <td>2018-07-19</td>\n",
       "      <td>2018-07-19</td>\n",
       "      <td>empresarial</td>\n",
       "      <td>12100.0</td>\n",
       "      <td>55 pessoas</td>\n",
       "      <td>Menu Koh Paghan Finger R$ 185,00 e Pct bebidas Mali com drink Tom Yam Siam. Degustação 29/05.</td>\n",
       "    </tr>\n",
       "  </tbody>\n",
       "</table></div>"
      ],
      "text/plain": [
       "  data_evento data_contato         tipo  valor_total num_convidados  \\\n",
       "0  2018-06-12   2018-06-12    1º evento      21450.4     78 pessoas   \n",
       "1  2018-07-12   2018-07-12  empresarial       4631.0     25 pessoas   \n",
       "2  2018-07-19   2018-07-19  empresarial      12100.0     55 pessoas   \n",
       "\n",
       "                                          observação  \n",
       "0  1 mesa de 8  lugares+ 5 mesas de 4 lugares + 2...  \n",
       "1  cardapio Krab KPP R$ 175,00 por pessoa c/ espu...  \n",
       "2  Menu Koh Paghan Finger R$ 185,00 e Pct bebidas...  "
      ]
     },
     "execution_count": 30,
     "metadata": {},
     "output_type": "execute_result"
    }
   ],
   "source": [
    "df_limpo.head(3)"
   ]
  },
  {
   "cell_type": "code",
   "execution_count": 31,
   "id": "44d47310",
   "metadata": {},
   "outputs": [],
   "source": [
    "# Faz a separação da coluna pelo primeiro item\n",
    "df_limpo['num_convidados'] = df_limpo['num_convidados'].str.split().str[0]"
   ]
  },
  {
   "cell_type": "code",
   "execution_count": 32,
   "id": "80dde5af",
   "metadata": {},
   "outputs": [
    {
     "data": {
      "text/html": [
       "<div><div id=7902a052-cb1f-4655-a55c-7ec094f0f880 style=\"display:none; background-color:#9D6CFF; color:white; width:200px; height:30px; padding-left:5px; border-radius:4px; flex-direction:row; justify-content:space-around; align-items:center;\" onmouseover=\"this.style.backgroundColor='#BA9BF8'\" onmouseout=\"this.style.backgroundColor='#9D6CFF'\" onclick=\"window.commands?.execute('create-mitosheet-from-dataframe-output');\">See Full Dataframe in Mito</div> <script> if (window.commands?.hasCommand('create-mitosheet-from-dataframe-output')) document.getElementById('7902a052-cb1f-4655-a55c-7ec094f0f880').style.display = 'flex' </script> <table border=\"1\" class=\"dataframe\">\n",
       "  <thead>\n",
       "    <tr style=\"text-align: right;\">\n",
       "      <th></th>\n",
       "      <th>data_evento</th>\n",
       "      <th>data_contato</th>\n",
       "      <th>tipo</th>\n",
       "      <th>valor_total</th>\n",
       "      <th>num_convidados</th>\n",
       "      <th>observação</th>\n",
       "    </tr>\n",
       "  </thead>\n",
       "  <tbody>\n",
       "    <tr>\n",
       "      <th>35</th>\n",
       "      <td>2019-02-08</td>\n",
       "      <td>2019-02-08</td>\n",
       "      <td>formatura</td>\n",
       "      <td>16115.0</td>\n",
       "      <td>NaN</td>\n",
       "      <td>69 adultos (R$14.145,00) + 2 crianças que pagam meia (R$ 205,00)  + 300,00 de 2 garçons extras.= R$ 14.650,00 (R$  Menu Koh Samet Finger R$ 160,00 + Pct bebida Kulap R$ 45,00). pago R$ 5.625,00 transferência dia 28/09 e pago R$ 9.025,00 dia 01/02 por ted + 1 hora adicional R$ 1.465,00 a ser paga.</td>\n",
       "    </tr>\n",
       "    <tr>\n",
       "      <th>36</th>\n",
       "      <td>2019-02-09</td>\n",
       "      <td>2019-02-09</td>\n",
       "      <td>casamento</td>\n",
       "      <td>7762.5</td>\n",
       "      <td>NaN</td>\n",
       "      <td>37 convidados + 1 criança (,metade) R$ 102,50+ 3 staff (25,00 cada = R$ 75,00)Efetuou o pagamento dia 16/01 no valor de R$ 4.100,00 e o restante pagou dia 07/02 valor de R$ 3.662,50</td>\n",
       "    </tr>\n",
       "  </tbody>\n",
       "</table></div>"
      ],
      "text/plain": [
       "   data_evento data_contato       tipo  valor_total num_convidados  \\\n",
       "35  2019-02-08   2019-02-08  formatura      16115.0            NaN   \n",
       "36  2019-02-09   2019-02-09  casamento       7762.5            NaN   \n",
       "\n",
       "                                           observação  \n",
       "35  69 adultos (R$14.145,00) + 2 crianças que paga...  \n",
       "36  37 convidados + 1 criança (,metade) R$ 102,50+...  "
      ]
     },
     "execution_count": 32,
     "metadata": {},
     "output_type": "execute_result"
    }
   ],
   "source": [
    "# ver linhas número de convidadsos com dados nulos\n",
    "df_limpo[df_limpo['num_convidados'].isna()].head(2)"
   ]
  },
  {
   "cell_type": "code",
   "execution_count": 33,
   "id": "ac374482",
   "metadata": {},
   "outputs": [],
   "source": [
    "# Preenche NaN com 0\n",
    "df_limpo['num_convidados'] = df_limpo['num_convidados'].fillna(0)"
   ]
  },
  {
   "cell_type": "code",
   "execution_count": 34,
   "id": "7a8ddbdf",
   "metadata": {},
   "outputs": [],
   "source": [
    "# Limpar ruídos do split\n",
    "df_limpo['num_convidados'] = df_limpo.num_convidados.replace('\\n', '')"
   ]
  },
  {
   "cell_type": "code",
   "execution_count": 35,
   "id": "72d35a3d",
   "metadata": {},
   "outputs": [],
   "source": [
    "# Transforma type colunas\n",
    "df_limpo.valor_total = pd.to_numeric(df_limpo.valor_total, errors='coerce')\n",
    "df_limpo.num_convidados = pd.to_numeric(df_limpo.num_convidados, errors='coerce')"
   ]
  },
  {
   "cell_type": "code",
   "execution_count": 36,
   "id": "3dece35a",
   "metadata": {},
   "outputs": [
    {
     "name": "stdout",
     "output_type": "stream",
     "text": [
      "<class 'pandas.core.frame.DataFrame'>\n",
      "RangeIndex: 66 entries, 0 to 65\n",
      "Data columns (total 6 columns):\n",
      " #   Column          Non-Null Count  Dtype         \n",
      "---  ------          --------------  -----         \n",
      " 0   data_evento     66 non-null     datetime64[ns]\n",
      " 1   data_contato    66 non-null     datetime64[ns]\n",
      " 2   tipo            66 non-null     object        \n",
      " 3   valor_total     66 non-null     float64       \n",
      " 4   num_convidados  65 non-null     float64       \n",
      " 5   observação      66 non-null     object        \n",
      "dtypes: datetime64[ns](2), float64(2), object(2)\n",
      "memory usage: 3.2+ KB\n"
     ]
    }
   ],
   "source": [
    "df_limpo.info()"
   ]
  },
  {
   "cell_type": "code",
   "execution_count": 37,
   "id": "a6d479c1",
   "metadata": {},
   "outputs": [
    {
     "data": {
      "text/html": [
       "<div><div id=878c9356-a562-498a-8592-5bf52e491ed7 style=\"display:none; background-color:#9D6CFF; color:white; width:200px; height:30px; padding-left:5px; border-radius:4px; flex-direction:row; justify-content:space-around; align-items:center;\" onmouseover=\"this.style.backgroundColor='#BA9BF8'\" onmouseout=\"this.style.backgroundColor='#9D6CFF'\" onclick=\"window.commands?.execute('create-mitosheet-from-dataframe-output');\">See Full Dataframe in Mito</div> <script> if (window.commands?.hasCommand('create-mitosheet-from-dataframe-output')) document.getElementById('878c9356-a562-498a-8592-5bf52e491ed7').style.display = 'flex' </script> <table border=\"1\" class=\"dataframe\">\n",
       "  <thead>\n",
       "    <tr style=\"text-align: right;\">\n",
       "      <th></th>\n",
       "      <th>data_evento</th>\n",
       "      <th>data_contato</th>\n",
       "      <th>tipo</th>\n",
       "      <th>valor_total</th>\n",
       "      <th>num_convidados</th>\n",
       "      <th>observação</th>\n",
       "    </tr>\n",
       "  </thead>\n",
       "  <tbody>\n",
       "    <tr>\n",
       "      <th>44</th>\n",
       "      <td>2019-02-26</td>\n",
       "      <td>2019-01-24</td>\n",
       "      <td>Não informado</td>\n",
       "      <td>0.0</td>\n",
       "      <td>NaN</td>\n",
       "      <td>Passado todos menus via e-mail e solicitado telefone para obter mais informações sobre o evento.</td>\n",
       "    </tr>\n",
       "  </tbody>\n",
       "</table></div>"
      ],
      "text/plain": [
       "   data_evento data_contato           tipo  valor_total  num_convidados  \\\n",
       "44  2019-02-26   2019-01-24  Não informado          0.0             NaN   \n",
       "\n",
       "                                           observação  \n",
       "44  Passado todos menus via e-mail e solicitado te...  "
      ]
     },
     "execution_count": 37,
     "metadata": {},
     "output_type": "execute_result"
    }
   ],
   "source": [
    "# Identifocando linha convidados com nulo\n",
    "df_limpo[df_limpo['num_convidados'].isna()]"
   ]
  },
  {
   "cell_type": "code",
   "execution_count": 38,
   "id": "0a89d572",
   "metadata": {},
   "outputs": [],
   "source": [
    "df_limpo.loc[44, 'num_convidados'] = 25"
   ]
  },
  {
   "cell_type": "code",
   "execution_count": 39,
   "id": "4dfbcaaf",
   "metadata": {},
   "outputs": [
    {
     "data": {
      "text/plain": [
       "data_evento                                     2019-02-26 00:00:00\n",
       "data_contato                                    2019-01-24 00:00:00\n",
       "tipo                                                  Não informado\n",
       "valor_total                                                     0.0\n",
       "num_convidados                                                 25.0\n",
       "observação        Passado todos menus via e-mail e solicitado te...\n",
       "Name: 44, dtype: object"
      ]
     },
     "execution_count": 39,
     "metadata": {},
     "output_type": "execute_result"
    }
   ],
   "source": [
    "df_limpo.iloc[44]"
   ]
  },
  {
   "cell_type": "code",
   "execution_count": 40,
   "id": "5315f889",
   "metadata": {
    "scrolled": true
   },
   "outputs": [
    {
     "data": {
      "text/html": [
       "<div><div id=b371257b-e674-4954-956c-410436709c1d style=\"display:none; background-color:#9D6CFF; color:white; width:200px; height:30px; padding-left:5px; border-radius:4px; flex-direction:row; justify-content:space-around; align-items:center;\" onmouseover=\"this.style.backgroundColor='#BA9BF8'\" onmouseout=\"this.style.backgroundColor='#9D6CFF'\" onclick=\"window.commands?.execute('create-mitosheet-from-dataframe-output');\">See Full Dataframe in Mito</div> <script> if (window.commands?.hasCommand('create-mitosheet-from-dataframe-output')) document.getElementById('b371257b-e674-4954-956c-410436709c1d').style.display = 'flex' </script> <table border=\"1\" class=\"dataframe\">\n",
       "  <thead>\n",
       "    <tr style=\"text-align: right;\">\n",
       "      <th></th>\n",
       "      <th>data_evento</th>\n",
       "      <th>data_contato</th>\n",
       "      <th>tipo</th>\n",
       "      <th>valor_total</th>\n",
       "      <th>num_convidados</th>\n",
       "      <th>observação</th>\n",
       "    </tr>\n",
       "  </thead>\n",
       "  <tbody>\n",
       "    <tr>\n",
       "      <th>0</th>\n",
       "      <td>2018-06-12</td>\n",
       "      <td>2018-06-12</td>\n",
       "      <td>1º evento</td>\n",
       "      <td>21450.4</td>\n",
       "      <td>78.0</td>\n",
       "      <td>1 mesa de 8  lugares+ 5 mesas de 4 lugares + 25 mesas de 2 lugares</td>\n",
       "    </tr>\n",
       "    <tr>\n",
       "      <th>4</th>\n",
       "      <td>2018-08-21</td>\n",
       "      <td>2018-08-21</td>\n",
       "      <td>empresarial</td>\n",
       "      <td>14125.0</td>\n",
       "      <td>70.0</td>\n",
       "      <td>Menu Krab KPP R$ 195,00 por pessoa com refri c/ vinho (1 garrafa a cada 3 pessoas) + 5 vinhos extras no valor total de R$ 475,00</td>\n",
       "    </tr>\n",
       "    <tr>\n",
       "      <th>15</th>\n",
       "      <td>2018-10-16</td>\n",
       "      <td>2018-10-16</td>\n",
       "      <td>coquetl fome</td>\n",
       "      <td>0.0</td>\n",
       "      <td>72.0</td>\n",
       "      <td>Sem observação</td>\n",
       "    </tr>\n",
       "    <tr>\n",
       "      <th>37</th>\n",
       "      <td>2019-02-26</td>\n",
       "      <td>2019-02-26</td>\n",
       "      <td>Jantar nikkei</td>\n",
       "      <td>9750.0</td>\n",
       "      <td>0.0</td>\n",
       "      <td>R$ 195,00 x 50 pesoas= R$ 9.750,00 Previsão</td>\n",
       "    </tr>\n",
       "    <tr>\n",
       "      <th>41</th>\n",
       "      <td>2019-03-21</td>\n",
       "      <td>2019-01-11</td>\n",
       "      <td>Laboratorio</td>\n",
       "      <td>0.0</td>\n",
       "      <td>0.0</td>\n",
       "      <td>enviamos fotos e cardapio empresarial / esta em definição</td>\n",
       "    </tr>\n",
       "  </tbody>\n",
       "</table></div>"
      ],
      "text/plain": [
       "   data_evento data_contato           tipo  valor_total  num_convidados  \\\n",
       "0   2018-06-12   2018-06-12      1º evento      21450.4            78.0   \n",
       "4   2018-08-21   2018-08-21    empresarial      14125.0            70.0   \n",
       "15  2018-10-16   2018-10-16   coquetl fome          0.0            72.0   \n",
       "37  2019-02-26   2019-02-26  Jantar nikkei       9750.0             0.0   \n",
       "41  2019-03-21   2019-01-11    Laboratorio          0.0             0.0   \n",
       "\n",
       "                                           observação  \n",
       "0   1 mesa de 8  lugares+ 5 mesas de 4 lugares + 2...  \n",
       "4   Menu Krab KPP R$ 195,00 por pessoa com refri c...  \n",
       "15                                     Sem observação  \n",
       "37        R$ 195,00 x 50 pesoas= R$ 9.750,00 Previsão  \n",
       "41  enviamos fotos e cardapio empresarial / esta e...  "
      ]
     },
     "execution_count": 40,
     "metadata": {},
     "output_type": "execute_result"
    }
   ],
   "source": [
    "# identificando discrepâncias\n",
    "df_limpo.iloc[[0, 4, 15, 37, 41]]"
   ]
  },
  {
   "cell_type": "code",
   "execution_count": 41,
   "id": "9b462999",
   "metadata": {
    "scrolled": true
   },
   "outputs": [],
   "source": [
    "# Coluna convidados como inteiro\n",
    "df_limpo['num_convidados'] = df_limpo.num_convidados.astype('int8')"
   ]
  },
  {
   "cell_type": "code",
   "execution_count": 42,
   "id": "2fab47ef",
   "metadata": {},
   "outputs": [
    {
     "name": "stdout",
     "output_type": "stream",
     "text": [
      "<class 'pandas.core.frame.DataFrame'>\n",
      "RangeIndex: 66 entries, 0 to 65\n",
      "Data columns (total 6 columns):\n",
      " #   Column          Non-Null Count  Dtype         \n",
      "---  ------          --------------  -----         \n",
      " 0   data_evento     66 non-null     datetime64[ns]\n",
      " 1   data_contato    66 non-null     datetime64[ns]\n",
      " 2   tipo            66 non-null     object        \n",
      " 3   valor_total     66 non-null     float64       \n",
      " 4   num_convidados  66 non-null     int8          \n",
      " 5   observação      66 non-null     object        \n",
      "dtypes: datetime64[ns](2), float64(1), int8(1), object(2)\n",
      "memory usage: 2.8+ KB\n"
     ]
    }
   ],
   "source": [
    "df_limpo.info()"
   ]
  },
  {
   "cell_type": "code",
   "execution_count": 43,
   "id": "000a7953",
   "metadata": {},
   "outputs": [],
   "source": [
    "df_antigo.to_excel('df_pronto_2018.xlsx', index= False)"
   ]
  },
  {
   "cell_type": "markdown",
   "id": "f5162155",
   "metadata": {},
   "source": [
    "## Planilha março"
   ]
  },
  {
   "cell_type": "code",
   "execution_count": 44,
   "id": "12c18e95",
   "metadata": {},
   "outputs": [],
   "source": [
    "df_mar = pd.read_excel(caminho, sheet_name = 'março', header= 4)"
   ]
  },
  {
   "cell_type": "code",
   "execution_count": 45,
   "id": "62a58705",
   "metadata": {
    "scrolled": true
   },
   "outputs": [
    {
     "data": {
      "text/html": [
       "<div><div id=330bc374-0d9a-429e-8bea-1e9446203e80 style=\"display:none; background-color:#9D6CFF; color:white; width:200px; height:30px; padding-left:5px; border-radius:4px; flex-direction:row; justify-content:space-around; align-items:center;\" onmouseover=\"this.style.backgroundColor='#BA9BF8'\" onmouseout=\"this.style.backgroundColor='#9D6CFF'\" onclick=\"window.commands?.execute('create-mitosheet-from-dataframe-output');\">See Full Dataframe in Mito</div> <script> if (window.commands?.hasCommand('create-mitosheet-from-dataframe-output')) document.getElementById('330bc374-0d9a-429e-8bea-1e9446203e80').style.display = 'flex' </script> <table border=\"1\" class=\"dataframe\">\n",
       "  <thead>\n",
       "    <tr style=\"text-align: right;\">\n",
       "      <th></th>\n",
       "      <th>Data do Evento</th>\n",
       "      <th>Data do contato</th>\n",
       "      <th>Tipo de evento</th>\n",
       "      <th>Valor total</th>\n",
       "      <th>Nº de Pessoas</th>\n",
       "      <th>Observação</th>\n",
       "    </tr>\n",
       "  </thead>\n",
       "  <tbody>\n",
       "    <tr>\n",
       "      <th>0</th>\n",
       "      <td>2022-03-15</td>\n",
       "      <td>2022-01-04</td>\n",
       "      <td>jantar/palestra</td>\n",
       "      <td>?</td>\n",
       "      <td>80</td>\n",
       "      <td>Ela está estudando locais em todo o território nacional .CANCELOU, OUTRO ESTADO FOI ESCOLHIDO.</td>\n",
       "    </tr>\n",
       "    <tr>\n",
       "      <th>1</th>\n",
       "      <td>2022-03-26</td>\n",
       "      <td>2022-03-08</td>\n",
       "      <td>Formatura</td>\n",
       "      <td>A definir</td>\n",
       "      <td>80/100</td>\n",
       "      <td>Encaminhei as opções de cardapio, a cliente vai estudar e voltaremos a conversar.Retornei a ligação hoje 14/03. A cliente vai fazer uma confraternização na sua casa, em outra oportunidade fará consoco.</td>\n",
       "    </tr>\n",
       "  </tbody>\n",
       "</table></div>"
      ],
      "text/plain": [
       "  Data do Evento Data do contato   Tipo de evento Valor total Nº de Pessoas  \\\n",
       "0     2022-03-15      2022-01-04  jantar/palestra           ?            80   \n",
       "1     2022-03-26      2022-03-08        Formatura  A definir         80/100   \n",
       "\n",
       "                                          Observação  \n",
       "0  Ela está estudando locais em todo o território...  \n",
       "1  Encaminhei as opções de cardapio, a cliente va...  "
      ]
     },
     "execution_count": 45,
     "metadata": {},
     "output_type": "execute_result"
    }
   ],
   "source": [
    "df_mar"
   ]
  },
  {
   "cell_type": "markdown",
   "id": "704040ac",
   "metadata": {},
   "source": [
    "### Organizando colunas"
   ]
  },
  {
   "cell_type": "code",
   "execution_count": 46,
   "id": "8040193a",
   "metadata": {},
   "outputs": [],
   "source": [
    "df_mar.columns = df_mar.columns.str.lower().str.replace(' ', '_')"
   ]
  },
  {
   "cell_type": "code",
   "execution_count": 47,
   "id": "3500ffb6",
   "metadata": {
    "scrolled": true
   },
   "outputs": [
    {
     "name": "stdout",
     "output_type": "stream",
     "text": [
      "<class 'pandas.core.frame.DataFrame'>\n",
      "RangeIndex: 2 entries, 0 to 1\n",
      "Data columns (total 6 columns):\n",
      " #   Column           Non-Null Count  Dtype         \n",
      "---  ------           --------------  -----         \n",
      " 0   data_do_evento   2 non-null      datetime64[ns]\n",
      " 1   data_do_contato  2 non-null      datetime64[ns]\n",
      " 2   tipo_de_evento   2 non-null      object        \n",
      " 3   valor_total      2 non-null      object        \n",
      " 4   nº_de_pessoas    2 non-null      object        \n",
      " 5   observação       2 non-null      object        \n",
      "dtypes: datetime64[ns](2), object(4)\n",
      "memory usage: 224.0+ bytes\n"
     ]
    }
   ],
   "source": [
    "df_mar.info()"
   ]
  },
  {
   "cell_type": "code",
   "execution_count": 48,
   "id": "2b49680d",
   "metadata": {},
   "outputs": [],
   "source": [
    "df_mar.rename(columns={\n",
    "    'data_do_evento': 'data_evento',\n",
    "    'data_do_contato': 'data_contato',\n",
    "    'tipo_de_evento': 'tipo',\n",
    "    'cliente': 'cliente',\n",
    "    'contato': 'contato', \n",
    "    'valor_total': 'valor_total',\n",
    "    'nº_de_pessoas': 'num_convidados',\n",
    "    'observação': 'observação'}, inplace=True)"
   ]
  },
  {
   "cell_type": "code",
   "execution_count": 49,
   "id": "57e43cff",
   "metadata": {},
   "outputs": [
    {
     "data": {
      "text/plain": [
       "Index(['data_evento', 'data_contato', 'tipo', 'valor_total', 'num_convidados',\n",
       "       'observação'],\n",
       "      dtype='object')"
      ]
     },
     "execution_count": 49,
     "metadata": {},
     "output_type": "execute_result"
    }
   ],
   "source": [
    "df_mar.columns"
   ]
  },
  {
   "cell_type": "code",
   "execution_count": 50,
   "id": "82ba4447",
   "metadata": {},
   "outputs": [],
   "source": [
    "df_mar.valor_total.replace('?', '0', inplace = True)\n",
    "df_mar.valor_total.replace('A definir ', '0', inplace= True)\n",
    "df_mar.num_convidados.replace('80/100', '90', inplace= True)"
   ]
  },
  {
   "cell_type": "code",
   "execution_count": 51,
   "id": "12d6f8e5",
   "metadata": {},
   "outputs": [
    {
     "data": {
      "text/html": [
       "<div><div id=8d097c9e-68d1-48c7-b18c-b774c19a05d7 style=\"display:none; background-color:#9D6CFF; color:white; width:200px; height:30px; padding-left:5px; border-radius:4px; flex-direction:row; justify-content:space-around; align-items:center;\" onmouseover=\"this.style.backgroundColor='#BA9BF8'\" onmouseout=\"this.style.backgroundColor='#9D6CFF'\" onclick=\"window.commands?.execute('create-mitosheet-from-dataframe-output');\">See Full Dataframe in Mito</div> <script> if (window.commands?.hasCommand('create-mitosheet-from-dataframe-output')) document.getElementById('8d097c9e-68d1-48c7-b18c-b774c19a05d7').style.display = 'flex' </script> <table border=\"1\" class=\"dataframe\">\n",
       "  <thead>\n",
       "    <tr style=\"text-align: right;\">\n",
       "      <th></th>\n",
       "      <th>data_evento</th>\n",
       "      <th>data_contato</th>\n",
       "      <th>tipo</th>\n",
       "      <th>valor_total</th>\n",
       "      <th>num_convidados</th>\n",
       "      <th>observação</th>\n",
       "    </tr>\n",
       "  </thead>\n",
       "  <tbody>\n",
       "    <tr>\n",
       "      <th>0</th>\n",
       "      <td>2022-03-15</td>\n",
       "      <td>2022-01-04</td>\n",
       "      <td>jantar/palestra</td>\n",
       "      <td>0</td>\n",
       "      <td>80</td>\n",
       "      <td>Ela está estudando locais em todo o território nacional .CANCELOU, OUTRO ESTADO FOI ESCOLHIDO.</td>\n",
       "    </tr>\n",
       "    <tr>\n",
       "      <th>1</th>\n",
       "      <td>2022-03-26</td>\n",
       "      <td>2022-03-08</td>\n",
       "      <td>Formatura</td>\n",
       "      <td>0</td>\n",
       "      <td>90</td>\n",
       "      <td>Encaminhei as opções de cardapio, a cliente vai estudar e voltaremos a conversar.Retornei a ligação hoje 14/03. A cliente vai fazer uma confraternização na sua casa, em outra oportunidade fará consoco.</td>\n",
       "    </tr>\n",
       "  </tbody>\n",
       "</table></div>"
      ],
      "text/plain": [
       "  data_evento data_contato             tipo valor_total num_convidados  \\\n",
       "0  2022-03-15   2022-01-04  jantar/palestra           0             80   \n",
       "1  2022-03-26   2022-03-08        Formatura           0             90   \n",
       "\n",
       "                                          observação  \n",
       "0  Ela está estudando locais em todo o território...  \n",
       "1  Encaminhei as opções de cardapio, a cliente va...  "
      ]
     },
     "execution_count": 51,
     "metadata": {},
     "output_type": "execute_result"
    }
   ],
   "source": [
    "df_mar"
   ]
  },
  {
   "cell_type": "code",
   "execution_count": 52,
   "id": "f5bb70dc",
   "metadata": {
    "scrolled": true
   },
   "outputs": [],
   "source": [
    "df_mar['valor_total'] = df_mar['valor_total'].astype('int32')\n",
    "df_mar['num_convidados'] = df_mar.num_convidados.astype('int8')"
   ]
  },
  {
   "cell_type": "code",
   "execution_count": 53,
   "id": "94201523",
   "metadata": {},
   "outputs": [
    {
     "data": {
      "text/plain": [
       "(2, 6)"
      ]
     },
     "execution_count": 53,
     "metadata": {},
     "output_type": "execute_result"
    }
   ],
   "source": [
    "df_mar.shape"
   ]
  },
  {
   "cell_type": "code",
   "execution_count": 54,
   "id": "015890db",
   "metadata": {},
   "outputs": [
    {
     "data": {
      "text/plain": [
       "(66, 6)"
      ]
     },
     "execution_count": 54,
     "metadata": {},
     "output_type": "execute_result"
    }
   ],
   "source": [
    "df_limpo.shape"
   ]
  },
  {
   "cell_type": "markdown",
   "id": "09efd82f",
   "metadata": {},
   "source": [
    "## Planilha Abril"
   ]
  },
  {
   "cell_type": "code",
   "execution_count": 55,
   "id": "651cc721",
   "metadata": {},
   "outputs": [],
   "source": [
    "# Nome das colunas\n",
    "col_padrao = {\n",
    "    \"data_contato\": \"data_contato\",\n",
    "    \"etapa\": \"etapa\",\n",
    "    \"situação\": \"situação\",\n",
    "    \"data_evento\": \"data_evento\",\n",
    "    \"tipo\": \"tipo\",\n",
    "    \"cliente\": \"cliente\",\n",
    "    \"contato\": \"contato\",\n",
    "    \"convidados\": \"num_convidados\",\n",
    "    \"cardápio\": \"cardápio\",\n",
    "    \"preço\": \"preço\",\n",
    "    \"sinal\": \"sinal\",\n",
    "    \"valor_total\": \"valor_total\",\n",
    "    \"saldo_restante\": \"saldo_restante\",\n",
    "    \"valor_extra\": \"valor_extra\",\n",
    "    \"forma_de_pagamento\": \"forma_pag\",\n",
    "    \"observação\": \"observação\"}\n",
    "\n",
    "# Tratando colunas\n",
    "def colunas_lower_replace(x):\n",
    "    x.columns = x.columns.str.lower().str.replace(' ', '_')\n",
    "    x.rename(columns = col_padrao, inplace = True)\n",
    "    return"
   ]
  },
  {
   "cell_type": "code",
   "execution_count": 56,
   "id": "72ab00a7",
   "metadata": {},
   "outputs": [],
   "source": [
    "df_abr = pd.read_excel(caminho, sheet_name = 'abril')"
   ]
  },
  {
   "cell_type": "code",
   "execution_count": 57,
   "id": "9cd12837",
   "metadata": {},
   "outputs": [
    {
     "data": {
      "text/plain": [
       "Index(['Data contato', 'Etapa', 'Situação', 'Data Evento', 'Tipo',\n",
       "       'Convidados', 'Cardápio', 'Preço', 'Sinal', 'Valor total',\n",
       "       'Saldo restante', 'Valor Extra', 'Forma de pagamento', 'Observação'],\n",
       "      dtype='object')"
      ]
     },
     "execution_count": 57,
     "metadata": {},
     "output_type": "execute_result"
    }
   ],
   "source": [
    "df_abr.columns"
   ]
  },
  {
   "cell_type": "code",
   "execution_count": 58,
   "id": "fdc4430c",
   "metadata": {},
   "outputs": [],
   "source": [
    "colunas_lower_replace(df_abr)"
   ]
  },
  {
   "cell_type": "code",
   "execution_count": 59,
   "id": "a387ac3d",
   "metadata": {},
   "outputs": [
    {
     "data": {
      "text/html": [
       "<div><div id=b3ec8fd7-07f7-456f-b171-b6ca25148956 style=\"display:none; background-color:#9D6CFF; color:white; width:200px; height:30px; padding-left:5px; border-radius:4px; flex-direction:row; justify-content:space-around; align-items:center;\" onmouseover=\"this.style.backgroundColor='#BA9BF8'\" onmouseout=\"this.style.backgroundColor='#9D6CFF'\" onclick=\"window.commands?.execute('create-mitosheet-from-dataframe-output');\">See Full Dataframe in Mito</div> <script> if (window.commands?.hasCommand('create-mitosheet-from-dataframe-output')) document.getElementById('b3ec8fd7-07f7-456f-b171-b6ca25148956').style.display = 'flex' </script> <table border=\"1\" class=\"dataframe\">\n",
       "  <thead>\n",
       "    <tr style=\"text-align: right;\">\n",
       "      <th></th>\n",
       "      <th>data_contato</th>\n",
       "      <th>etapa</th>\n",
       "      <th>situação</th>\n",
       "      <th>data_evento</th>\n",
       "      <th>tipo</th>\n",
       "      <th>num_convidados</th>\n",
       "      <th>cardápio</th>\n",
       "      <th>preço</th>\n",
       "      <th>sinal</th>\n",
       "      <th>valor_total</th>\n",
       "      <th>saldo_restante</th>\n",
       "      <th>valor_extra</th>\n",
       "      <th>forma_pag</th>\n",
       "      <th>observação</th>\n",
       "    </tr>\n",
       "  </thead>\n",
       "  <tbody>\n",
       "    <tr>\n",
       "      <th>0</th>\n",
       "      <td>EVENTOS FECHADOS</td>\n",
       "      <td>NaN</td>\n",
       "      <td>NaN</td>\n",
       "      <td>NaT</td>\n",
       "      <td>NaN</td>\n",
       "      <td>NaN</td>\n",
       "      <td>NaN</td>\n",
       "      <td>NaN</td>\n",
       "      <td>NaN</td>\n",
       "      <td>NaN</td>\n",
       "      <td>NaN</td>\n",
       "      <td>NaN</td>\n",
       "      <td>NaN</td>\n",
       "      <td>NaN</td>\n",
       "    </tr>\n",
       "  </tbody>\n",
       "</table></div>"
      ],
      "text/plain": [
       "       data_contato etapa situação data_evento tipo  num_convidados  cardápio  \\\n",
       "0  EVENTOS FECHADOS   NaN      NaN         NaT  NaN             NaN       NaN   \n",
       "\n",
       "   preço  sinal  valor_total  saldo_restante  valor_extra  forma_pag  \\\n",
       "0    NaN    NaN          NaN             NaN          NaN        NaN   \n",
       "\n",
       "  observação  \n",
       "0        NaN  "
      ]
     },
     "execution_count": 59,
     "metadata": {},
     "output_type": "execute_result"
    }
   ],
   "source": [
    "df_abr.head(1)"
   ]
  },
  {
   "cell_type": "code",
   "execution_count": 60,
   "id": "2b0604fb",
   "metadata": {},
   "outputs": [
    {
     "data": {
      "text/plain": [
       "(10, 14)"
      ]
     },
     "execution_count": 60,
     "metadata": {},
     "output_type": "execute_result"
    }
   ],
   "source": [
    "df_abr.shape"
   ]
  },
  {
   "cell_type": "code",
   "execution_count": 61,
   "id": "89045652",
   "metadata": {
    "scrolled": true
   },
   "outputs": [
    {
     "data": {
      "text/html": [
       "<div><div id=717c9c40-6a71-434d-8994-e4a869abd699 style=\"display:none; background-color:#9D6CFF; color:white; width:200px; height:30px; padding-left:5px; border-radius:4px; flex-direction:row; justify-content:space-around; align-items:center;\" onmouseover=\"this.style.backgroundColor='#BA9BF8'\" onmouseout=\"this.style.backgroundColor='#9D6CFF'\" onclick=\"window.commands?.execute('create-mitosheet-from-dataframe-output');\">See Full Dataframe in Mito</div> <script> if (window.commands?.hasCommand('create-mitosheet-from-dataframe-output')) document.getElementById('717c9c40-6a71-434d-8994-e4a869abd699').style.display = 'flex' </script> <table border=\"1\" class=\"dataframe\">\n",
       "  <thead>\n",
       "    <tr style=\"text-align: right;\">\n",
       "      <th></th>\n",
       "      <th>data_contato</th>\n",
       "      <th>etapa</th>\n",
       "      <th>situação</th>\n",
       "      <th>data_evento</th>\n",
       "      <th>tipo</th>\n",
       "      <th>num_convidados</th>\n",
       "      <th>cardápio</th>\n",
       "      <th>preço</th>\n",
       "      <th>sinal</th>\n",
       "      <th>valor_total</th>\n",
       "      <th>saldo_restante</th>\n",
       "      <th>valor_extra</th>\n",
       "      <th>forma_pag</th>\n",
       "      <th>observação</th>\n",
       "    </tr>\n",
       "  </thead>\n",
       "  <tbody>\n",
       "    <tr>\n",
       "      <th>0</th>\n",
       "      <td>EVENTOS FECHADOS</td>\n",
       "      <td>NaN</td>\n",
       "      <td>NaN</td>\n",
       "      <td>NaT</td>\n",
       "      <td>NaN</td>\n",
       "      <td>NaN</td>\n",
       "      <td>NaN</td>\n",
       "      <td>NaN</td>\n",
       "      <td>NaN</td>\n",
       "      <td>NaN</td>\n",
       "      <td>NaN</td>\n",
       "      <td>NaN</td>\n",
       "      <td>NaN</td>\n",
       "      <td>NaN</td>\n",
       "    </tr>\n",
       "    <tr>\n",
       "      <th>1</th>\n",
       "      <td>2022-02-09 00:00:00</td>\n",
       "      <td>Realizado</td>\n",
       "      <td>Realizado</td>\n",
       "      <td>2022-04-11</td>\n",
       "      <td>NaN</td>\n",
       "      <td>40.0</td>\n",
       "      <td>NaN</td>\n",
       "      <td>220.0</td>\n",
       "      <td>1200.0</td>\n",
       "      <td>9787.0</td>\n",
       "      <td>8587.0</td>\n",
       "      <td>987.0</td>\n",
       "      <td>NaN</td>\n",
       "      <td>Fez uma pré-reserva, quer serviço desde a entrada dos convidados, e-mail da Zaniratti e Connecto, fotos do local. Menu Krab Transferiu o valor do sinal, 24/02. A cliente vai fazer duas locações de um audio, um pupito. Entrega do material as 16 horas, material locado pelo cliente. Evento fechado.</td>\n",
       "    </tr>\n",
       "    <tr>\n",
       "      <th>2</th>\n",
       "      <td>2022-04-09 00:00:00</td>\n",
       "      <td>Realizado</td>\n",
       "      <td>Realizado</td>\n",
       "      <td>2022-04-28</td>\n",
       "      <td>NaN</td>\n",
       "      <td>30.0</td>\n",
       "      <td>NaN</td>\n",
       "      <td>230.0</td>\n",
       "      <td>NaN</td>\n",
       "      <td>6900.0</td>\n",
       "      <td>6900.0</td>\n",
       "      <td>NaN</td>\n",
       "      <td>NaN</td>\n",
       "      <td>Aula ao vivo, vai precisar de aparelhos de aúdio e som em espaço RESERVADO.</td>\n",
       "    </tr>\n",
       "  </tbody>\n",
       "</table></div>"
      ],
      "text/plain": [
       "          data_contato      etapa   situação data_evento tipo  num_convidados  \\\n",
       "0     EVENTOS FECHADOS        NaN        NaN         NaT  NaN             NaN   \n",
       "1  2022-02-09 00:00:00  Realizado  Realizado  2022-04-11  NaN            40.0   \n",
       "2  2022-04-09 00:00:00  Realizado  Realizado  2022-04-28  NaN            30.0   \n",
       "\n",
       "   cardápio  preço   sinal  valor_total  saldo_restante  valor_extra  \\\n",
       "0       NaN    NaN     NaN          NaN             NaN          NaN   \n",
       "1       NaN  220.0  1200.0       9787.0          8587.0        987.0   \n",
       "2       NaN  230.0     NaN       6900.0          6900.0          NaN   \n",
       "\n",
       "   forma_pag                                         observação  \n",
       "0        NaN                                                NaN  \n",
       "1        NaN  Fez uma pré-reserva, quer serviço desde a entr...  \n",
       "2        NaN  Aula ao vivo, vai precisar de aparelhos de aúd...  "
      ]
     },
     "execution_count": 61,
     "metadata": {},
     "output_type": "execute_result"
    }
   ],
   "source": [
    "df_abr.head(3)"
   ]
  },
  {
   "cell_type": "markdown",
   "id": "7998a38a",
   "metadata": {},
   "source": [
    "### organizando os NaN"
   ]
  },
  {
   "cell_type": "code",
   "execution_count": 62,
   "id": "be8e1e4b",
   "metadata": {},
   "outputs": [
    {
     "name": "stdout",
     "output_type": "stream",
     "text": [
      "<class 'pandas.core.frame.DataFrame'>\n",
      "RangeIndex: 10 entries, 0 to 9\n",
      "Data columns (total 14 columns):\n",
      " #   Column          Non-Null Count  Dtype         \n",
      "---  ------          --------------  -----         \n",
      " 0   data_contato    10 non-null     object        \n",
      " 1   etapa           7 non-null      object        \n",
      " 2   situação        7 non-null      object        \n",
      " 3   data_evento     6 non-null      datetime64[ns]\n",
      " 4   tipo            5 non-null      object        \n",
      " 5   num_convidados  7 non-null      float64       \n",
      " 6   cardápio        0 non-null      float64       \n",
      " 7   preço           3 non-null      float64       \n",
      " 8   sinal           1 non-null      float64       \n",
      " 9   valor_total     7 non-null      float64       \n",
      " 10  saldo_restante  7 non-null      float64       \n",
      " 11  valor_extra     1 non-null      float64       \n",
      " 12  forma_pag       0 non-null      float64       \n",
      " 13  observação      7 non-null      object        \n",
      "dtypes: datetime64[ns](1), float64(8), object(5)\n",
      "memory usage: 1.2+ KB\n"
     ]
    }
   ],
   "source": [
    "df_abr.info()"
   ]
  },
  {
   "cell_type": "code",
   "execution_count": 63,
   "id": "e7e9d51f",
   "metadata": {},
   "outputs": [],
   "source": [
    "df_abr['data_contato'] = pd.to_datetime(df_abr['data_contato'], errors= 'coerce')"
   ]
  },
  {
   "cell_type": "code",
   "execution_count": 64,
   "id": "71281a6a",
   "metadata": {},
   "outputs": [],
   "source": [
    "df_abr.dropna(how='all', inplace=True)"
   ]
  },
  {
   "cell_type": "code",
   "execution_count": 65,
   "id": "35571e7c",
   "metadata": {},
   "outputs": [],
   "source": [
    "# preencher coluna cardápio nan com não informado\n",
    "df_abr['cardápio'] = df_abr.cardápio.fillna('Não informado')\n",
    "df_abr['tipo'] = df_abr.tipo.fillna('Não informado')\n",
    "df_abr['forma_pag'] = df_abr.forma_pag.fillna('Não informado')"
   ]
  },
  {
   "cell_type": "code",
   "execution_count": 66,
   "id": "2be8d3be",
   "metadata": {},
   "outputs": [],
   "source": [
    "# valores numéricos preenchidos com 0\n",
    "df_abr[['num_convidados', 'preço', 'sinal', 'valor_total', 'saldo_restante', 'valor_extra']] = df_abr[['num_convidados', 'preço', 'sinal', 'valor_total', 'saldo_restante', 'valor_extra']].fillna(0)"
   ]
  },
  {
   "cell_type": "code",
   "execution_count": 67,
   "id": "9bc89514",
   "metadata": {},
   "outputs": [],
   "source": [
    "df_abr['num_convidados'] = df_abr['num_convidados'].astype('int8')"
   ]
  },
  {
   "cell_type": "code",
   "execution_count": 68,
   "id": "e1cf9380",
   "metadata": {},
   "outputs": [],
   "source": [
    "df_abr[['cardápio', 'forma_pag']] = df_abr[['cardápio', 'forma_pag']].astype('str')"
   ]
  },
  {
   "cell_type": "code",
   "execution_count": 69,
   "id": "9e925d70",
   "metadata": {},
   "outputs": [
    {
     "data": {
      "text/html": [
       "<div><div id=0fa2a01e-0847-4bf5-90c3-ff227dadf3d2 style=\"display:none; background-color:#9D6CFF; color:white; width:200px; height:30px; padding-left:5px; border-radius:4px; flex-direction:row; justify-content:space-around; align-items:center;\" onmouseover=\"this.style.backgroundColor='#BA9BF8'\" onmouseout=\"this.style.backgroundColor='#9D6CFF'\" onclick=\"window.commands?.execute('create-mitosheet-from-dataframe-output');\">See Full Dataframe in Mito</div> <script> if (window.commands?.hasCommand('create-mitosheet-from-dataframe-output')) document.getElementById('0fa2a01e-0847-4bf5-90c3-ff227dadf3d2').style.display = 'flex' </script> <table border=\"1\" class=\"dataframe\">\n",
       "  <thead>\n",
       "    <tr style=\"text-align: right;\">\n",
       "      <th></th>\n",
       "      <th>data_contato</th>\n",
       "      <th>etapa</th>\n",
       "      <th>situação</th>\n",
       "      <th>data_evento</th>\n",
       "      <th>tipo</th>\n",
       "      <th>num_convidados</th>\n",
       "      <th>cardápio</th>\n",
       "      <th>preço</th>\n",
       "      <th>sinal</th>\n",
       "      <th>valor_total</th>\n",
       "      <th>saldo_restante</th>\n",
       "      <th>valor_extra</th>\n",
       "      <th>forma_pag</th>\n",
       "      <th>observação</th>\n",
       "    </tr>\n",
       "  </thead>\n",
       "  <tbody>\n",
       "    <tr>\n",
       "      <th>1</th>\n",
       "      <td>2022-02-09</td>\n",
       "      <td>Realizado</td>\n",
       "      <td>Realizado</td>\n",
       "      <td>2022-04-11</td>\n",
       "      <td>Não informado</td>\n",
       "      <td>40</td>\n",
       "      <td>Não informado</td>\n",
       "      <td>220.0</td>\n",
       "      <td>1200.0</td>\n",
       "      <td>9787.0</td>\n",
       "      <td>8587.0</td>\n",
       "      <td>987.0</td>\n",
       "      <td>Não informado</td>\n",
       "      <td>Fez uma pré-reserva, quer serviço desde a entrada dos convidados, e-mail da Zaniratti e Connecto, fotos do local. Menu Krab Transferiu o valor do sinal, 24/02. A cliente vai fazer duas locações de um audio, um pupito. Entrega do material as 16 horas, material locado pelo cliente. Evento fechado.</td>\n",
       "    </tr>\n",
       "    <tr>\n",
       "      <th>2</th>\n",
       "      <td>2022-04-09</td>\n",
       "      <td>Realizado</td>\n",
       "      <td>Realizado</td>\n",
       "      <td>2022-04-28</td>\n",
       "      <td>Não informado</td>\n",
       "      <td>30</td>\n",
       "      <td>Não informado</td>\n",
       "      <td>230.0</td>\n",
       "      <td>0.0</td>\n",
       "      <td>6900.0</td>\n",
       "      <td>6900.0</td>\n",
       "      <td>0.0</td>\n",
       "      <td>Não informado</td>\n",
       "      <td>Aula ao vivo, vai precisar de aparelhos de aúdio e som em espaço RESERVADO.</td>\n",
       "    </tr>\n",
       "    <tr>\n",
       "      <th>4</th>\n",
       "      <td>2022-04-17</td>\n",
       "      <td>Em negociação</td>\n",
       "      <td>Em negociação a data esta sendo estudada</td>\n",
       "      <td>NaT</td>\n",
       "      <td>Jantar/palestra</td>\n",
       "      <td>30</td>\n",
       "      <td>Não informado</td>\n",
       "      <td>230.0</td>\n",
       "      <td>0.0</td>\n",
       "      <td>6900.0</td>\n",
       "      <td>6900.0</td>\n",
       "      <td>0.0</td>\n",
       "      <td>Não informado</td>\n",
       "      <td>Quantidade de pessoas:\\n 30 pax não fecharam a data ainda, mas será em uma quinta ou terça as 19 até as 22 horas.\\nFormato aula com palestrante, precisam de mesa redonda em formato Lua, e para apresentação com projeção.\\nIremos filmar a aula, por isso, precisamos de espaço para 2 câmeras e uma mesa com computador.\\n\\nPrever no  custo o equipamento de projeção e de captação de imagem, bem como as equipes técnicas necessárias. Sugeri fazermos em outro formato em L o jantar, ou mesas de seis lugares e com a possibilidade da apresentação ser no segundo piso em formato auditório. O cliente vai analisar junto a equipe. \\n</td>\n",
       "    </tr>\n",
       "    <tr>\n",
       "      <th>6</th>\n",
       "      <td>2022-04-13</td>\n",
       "      <td>Não fechado</td>\n",
       "      <td>Não realizado</td>\n",
       "      <td>2022-03-22</td>\n",
       "      <td>Finger /coquetel</td>\n",
       "      <td>50</td>\n",
       "      <td>Não informado</td>\n",
       "      <td>0.0</td>\n",
       "      <td>0.0</td>\n",
       "      <td>0.0</td>\n",
       "      <td>0.0</td>\n",
       "      <td>0.0</td>\n",
       "      <td>Não informado</td>\n",
       "      <td>Welcome drink, com vinhos e espumante, um sommelier, uma recepcionsita na  recepção com lista e banner . \\nJantar sala reservada. O cliente precisa que a montagem das mesas fosse em linha, 50 convidados.\\nOfereci em U e L que de qualquer forma seria possivél atender as necessidades do cliente.\\nMas não aceitou, precisa que tenha este formato.</td>\n",
       "    </tr>\n",
       "    <tr>\n",
       "      <th>7</th>\n",
       "      <td>2022-04-27</td>\n",
       "      <td>Não fechado</td>\n",
       "      <td>Não realizado</td>\n",
       "      <td>2022-03-17</td>\n",
       "      <td>jantar/aula novas especialidades</td>\n",
       "      <td>90</td>\n",
       "      <td>Não informado</td>\n",
       "      <td>0.0</td>\n",
       "      <td>0.0</td>\n",
       "      <td>0.0</td>\n",
       "      <td>0.0</td>\n",
       "      <td>0.0</td>\n",
       "      <td>Não informado</td>\n",
       "      <td>Servir finger foods, nada de empratados. Os convidados podem ficar em pé, mas também é importante alguns espaços para sentar e algumas mesas que sirvam de apoio durante o coquetel. Resoveram ficar em Gramado, e seu proximo evento será conosco.</td>\n",
       "    </tr>\n",
       "    <tr>\n",
       "      <th>8</th>\n",
       "      <td>2022-04-07</td>\n",
       "      <td>Não fechado</td>\n",
       "      <td>Não realizado</td>\n",
       "      <td>2022-04-07</td>\n",
       "      <td>Jantar com palestra</td>\n",
       "      <td>90</td>\n",
       "      <td>Não informado</td>\n",
       "      <td>0.0</td>\n",
       "      <td>0.0</td>\n",
       "      <td>0.0</td>\n",
       "      <td>0.0</td>\n",
       "      <td>0.0</td>\n",
       "      <td>Não informado</td>\n",
       "      <td>Mesas redondas, com toalhas,com disponibilidetotal.\\nPrecisa que todos os convidados fiquem na mesma sala, e a apresentação da mesma forma. \\nespaço fisico para este formato, será uma apresentaçãocom  aula médica com equipamentos de áudio visual .\\nPrato Principal (considerar uma opção vegetariana)\\nSobremesa,Bebidas: pacote de bebidas não alcoolicas (água, suco e refrigerante) por 02 horas + vinho e cerveja ao consumo (enviar menu completo com rótulos e valores). Minha sugestão ao cliente seria utilizarmos os dois anbientes da casa, assim seria possivél atendermos ao evento, com certeza. Mas infelizmente o cliente não aceitou a proposta\\n</td>\n",
       "    </tr>\n",
       "    <tr>\n",
       "      <th>9</th>\n",
       "      <td>2022-04-28</td>\n",
       "      <td>Não fechado</td>\n",
       "      <td>Não realizado</td>\n",
       "      <td>2022-04-16</td>\n",
       "      <td>Jantar</td>\n",
       "      <td>75</td>\n",
       "      <td>Não informado</td>\n",
       "      <td>0.0</td>\n",
       "      <td>0.0</td>\n",
       "      <td>0.0</td>\n",
       "      <td>0.0</td>\n",
       "      <td>0.0</td>\n",
       "      <td>Não informado</td>\n",
       "      <td>Precisam de uma sala que acomode todos os convidados e um auditorio para a apresentação do  evento.\\nSugeri dividirmos em duas salas e a apresentação fazermos  no mesmo espaço.\\nMas o cliente não quer neste formato.\\n Vou enviar fotos e materila da casa Thai House para proximos eventos.</td>\n",
       "    </tr>\n",
       "  </tbody>\n",
       "</table></div>"
      ],
      "text/plain": [
       "  data_contato          etapa                                  situação  \\\n",
       "1   2022-02-09      Realizado                                 Realizado   \n",
       "2   2022-04-09      Realizado                                 Realizado   \n",
       "4   2022-04-17  Em negociação  Em negociação a data esta sendo estudada   \n",
       "6   2022-04-13    Não fechado                             Não realizado   \n",
       "7   2022-04-27    Não fechado                             Não realizado   \n",
       "8   2022-04-07    Não fechado                             Não realizado   \n",
       "9   2022-04-28    Não fechado                             Não realizado   \n",
       "\n",
       "  data_evento                              tipo  num_convidados  \\\n",
       "1  2022-04-11                     Não informado              40   \n",
       "2  2022-04-28                     Não informado              30   \n",
       "4         NaT                   Jantar/palestra              30   \n",
       "6  2022-03-22                  Finger /coquetel              50   \n",
       "7  2022-03-17  jantar/aula novas especialidades              90   \n",
       "8  2022-04-07               Jantar com palestra              90   \n",
       "9  2022-04-16                            Jantar              75   \n",
       "\n",
       "        cardápio  preço   sinal  valor_total  saldo_restante  valor_extra  \\\n",
       "1  Não informado  220.0  1200.0       9787.0          8587.0        987.0   \n",
       "2  Não informado  230.0     0.0       6900.0          6900.0          0.0   \n",
       "4  Não informado  230.0     0.0       6900.0          6900.0          0.0   \n",
       "6  Não informado    0.0     0.0          0.0             0.0          0.0   \n",
       "7  Não informado    0.0     0.0          0.0             0.0          0.0   \n",
       "8  Não informado    0.0     0.0          0.0             0.0          0.0   \n",
       "9  Não informado    0.0     0.0          0.0             0.0          0.0   \n",
       "\n",
       "       forma_pag                                         observação  \n",
       "1  Não informado  Fez uma pré-reserva, quer serviço desde a entr...  \n",
       "2  Não informado  Aula ao vivo, vai precisar de aparelhos de aúd...  \n",
       "4  Não informado  Quantidade de pessoas:\\n 30 pax não fecharam a...  \n",
       "6  Não informado  Welcome drink, com vinhos e espumante, um somm...  \n",
       "7  Não informado  Servir finger foods, nada de empratados. Os co...  \n",
       "8  Não informado  Mesas redondas, com toalhas,com disponibilidet...  \n",
       "9  Não informado  Precisam de uma sala que acomode todos os conv...  "
      ]
     },
     "execution_count": 69,
     "metadata": {},
     "output_type": "execute_result"
    }
   ],
   "source": [
    "df_abr"
   ]
  },
  {
   "cell_type": "code",
   "execution_count": 70,
   "id": "1addf2fc",
   "metadata": {
    "scrolled": false
   },
   "outputs": [
    {
     "data": {
      "text/html": [
       "<div><div id=c26e6a20-a9df-4b61-a211-b16cac44946e style=\"display:none; background-color:#9D6CFF; color:white; width:200px; height:30px; padding-left:5px; border-radius:4px; flex-direction:row; justify-content:space-around; align-items:center;\" onmouseover=\"this.style.backgroundColor='#BA9BF8'\" onmouseout=\"this.style.backgroundColor='#9D6CFF'\" onclick=\"window.commands?.execute('create-mitosheet-from-dataframe-output');\">See Full Dataframe in Mito</div> <script> if (window.commands?.hasCommand('create-mitosheet-from-dataframe-output')) document.getElementById('c26e6a20-a9df-4b61-a211-b16cac44946e').style.display = 'flex' </script> <table border=\"1\" class=\"dataframe\">\n",
       "  <thead>\n",
       "    <tr style=\"text-align: right;\">\n",
       "      <th></th>\n",
       "      <th>data_contato</th>\n",
       "      <th>etapa</th>\n",
       "      <th>situação</th>\n",
       "      <th>data_evento</th>\n",
       "      <th>tipo</th>\n",
       "      <th>num_convidados</th>\n",
       "      <th>cardápio</th>\n",
       "      <th>preço</th>\n",
       "      <th>sinal</th>\n",
       "      <th>valor_total</th>\n",
       "      <th>saldo_restante</th>\n",
       "      <th>valor_extra</th>\n",
       "      <th>forma_pag</th>\n",
       "      <th>observação</th>\n",
       "    </tr>\n",
       "  </thead>\n",
       "  <tbody>\n",
       "    <tr>\n",
       "      <th>4</th>\n",
       "      <td>2022-04-17</td>\n",
       "      <td>Em negociação</td>\n",
       "      <td>Em negociação a data esta sendo estudada</td>\n",
       "      <td>NaT</td>\n",
       "      <td>Jantar/palestra</td>\n",
       "      <td>30</td>\n",
       "      <td>Não informado</td>\n",
       "      <td>230.0</td>\n",
       "      <td>0.0</td>\n",
       "      <td>6900.0</td>\n",
       "      <td>6900.0</td>\n",
       "      <td>0.0</td>\n",
       "      <td>Não informado</td>\n",
       "      <td>Quantidade de pessoas:\\n 30 pax não fecharam a data ainda, mas será em uma quinta ou terça as 19 até as 22 horas.\\nFormato aula com palestrante, precisam de mesa redonda em formato Lua, e para apresentação com projeção.\\nIremos filmar a aula, por isso, precisamos de espaço para 2 câmeras e uma mesa com computador.\\n\\nPrever no  custo o equipamento de projeção e de captação de imagem, bem como as equipes técnicas necessárias. Sugeri fazermos em outro formato em L o jantar, ou mesas de seis lugares e com a possibilidade da apresentação ser no segundo piso em formato auditório. O cliente vai analisar junto a equipe. \\n</td>\n",
       "    </tr>\n",
       "  </tbody>\n",
       "</table></div>"
      ],
      "text/plain": [
       "  data_contato          etapa                                  situação  \\\n",
       "4   2022-04-17  Em negociação  Em negociação a data esta sendo estudada   \n",
       "\n",
       "  data_evento             tipo  num_convidados       cardápio  preço  sinal  \\\n",
       "4         NaT  Jantar/palestra              30  Não informado  230.0    0.0   \n",
       "\n",
       "   valor_total  saldo_restante  valor_extra      forma_pag  \\\n",
       "4       6900.0          6900.0          0.0  Não informado   \n",
       "\n",
       "                                          observação  \n",
       "4  Quantidade de pessoas:\\n 30 pax não fecharam a...  "
      ]
     },
     "execution_count": 70,
     "metadata": {},
     "output_type": "execute_result"
    }
   ],
   "source": [
    "df_abr[df_abr.data_evento.isnull()]"
   ]
  },
  {
   "cell_type": "code",
   "execution_count": 71,
   "id": "108d0920",
   "metadata": {},
   "outputs": [],
   "source": [
    "df_abr.data_evento.fillna(df_abr.data_contato, inplace=True)"
   ]
  },
  {
   "cell_type": "code",
   "execution_count": 72,
   "id": "4e28059b",
   "metadata": {
    "scrolled": false
   },
   "outputs": [
    {
     "name": "stdout",
     "output_type": "stream",
     "text": [
      "<class 'pandas.core.frame.DataFrame'>\n",
      "Int64Index: 7 entries, 1 to 9\n",
      "Data columns (total 14 columns):\n",
      " #   Column          Non-Null Count  Dtype         \n",
      "---  ------          --------------  -----         \n",
      " 0   data_contato    7 non-null      datetime64[ns]\n",
      " 1   etapa           7 non-null      object        \n",
      " 2   situação        7 non-null      object        \n",
      " 3   data_evento     7 non-null      datetime64[ns]\n",
      " 4   tipo            7 non-null      object        \n",
      " 5   num_convidados  7 non-null      int8          \n",
      " 6   cardápio        7 non-null      object        \n",
      " 7   preço           7 non-null      float64       \n",
      " 8   sinal           7 non-null      float64       \n",
      " 9   valor_total     7 non-null      float64       \n",
      " 10  saldo_restante  7 non-null      float64       \n",
      " 11  valor_extra     7 non-null      float64       \n",
      " 12  forma_pag       7 non-null      object        \n",
      " 13  observação      7 non-null      object        \n",
      "dtypes: datetime64[ns](2), float64(5), int8(1), object(6)\n",
      "memory usage: 791.0+ bytes\n"
     ]
    }
   ],
   "source": [
    "df_abr.info()"
   ]
  },
  {
   "cell_type": "markdown",
   "id": "c319f8b2",
   "metadata": {},
   "source": [
    "## Planilha Maio"
   ]
  },
  {
   "cell_type": "code",
   "execution_count": 73,
   "id": "e8b305dc",
   "metadata": {},
   "outputs": [],
   "source": [
    "df_mai = pd.read_excel(caminho, sheet_name = 'maio')"
   ]
  },
  {
   "cell_type": "code",
   "execution_count": 74,
   "id": "300f2a76",
   "metadata": {},
   "outputs": [],
   "source": [
    "# Tratando colunas\n",
    "colunas_lower_replace(df_mai)   "
   ]
  },
  {
   "cell_type": "code",
   "execution_count": 75,
   "id": "e08c18ae",
   "metadata": {},
   "outputs": [
    {
     "data": {
      "text/html": [
       "<div><div id=4f1ba5e9-d713-4467-b2a6-9fca9c73e0c4 style=\"display:none; background-color:#9D6CFF; color:white; width:200px; height:30px; padding-left:5px; border-radius:4px; flex-direction:row; justify-content:space-around; align-items:center;\" onmouseover=\"this.style.backgroundColor='#BA9BF8'\" onmouseout=\"this.style.backgroundColor='#9D6CFF'\" onclick=\"window.commands?.execute('create-mitosheet-from-dataframe-output');\">See Full Dataframe in Mito</div> <script> if (window.commands?.hasCommand('create-mitosheet-from-dataframe-output')) document.getElementById('4f1ba5e9-d713-4467-b2a6-9fca9c73e0c4').style.display = 'flex' </script> <table border=\"1\" class=\"dataframe\">\n",
       "  <thead>\n",
       "    <tr style=\"text-align: right;\">\n",
       "      <th></th>\n",
       "      <th>data_contato</th>\n",
       "      <th>etapa</th>\n",
       "      <th>situação</th>\n",
       "      <th>data_evento</th>\n",
       "      <th>tipo</th>\n",
       "      <th>num_convidados</th>\n",
       "      <th>cardápio</th>\n",
       "      <th>preço</th>\n",
       "      <th>sinal</th>\n",
       "      <th>valor_total</th>\n",
       "      <th>saldo_restante</th>\n",
       "      <th>valor_extra</th>\n",
       "      <th>forma_pag</th>\n",
       "      <th>observação</th>\n",
       "    </tr>\n",
       "  </thead>\n",
       "  <tbody>\n",
       "    <tr>\n",
       "      <th>0</th>\n",
       "      <td>EVENTOS FECHADOS</td>\n",
       "      <td>NaN</td>\n",
       "      <td>NaN</td>\n",
       "      <td>NaT</td>\n",
       "      <td>NaN</td>\n",
       "      <td>NaN</td>\n",
       "      <td>NaN</td>\n",
       "      <td>NaN</td>\n",
       "      <td>NaN</td>\n",
       "      <td>NaN</td>\n",
       "      <td>NaN</td>\n",
       "      <td>NaN</td>\n",
       "      <td>NaN</td>\n",
       "      <td>NaN</td>\n",
       "    </tr>\n",
       "    <tr>\n",
       "      <th>1</th>\n",
       "      <td>2022-04-17 00:00:00</td>\n",
       "      <td>Realizado</td>\n",
       "      <td>Realizado</td>\n",
       "      <td>2022-05-11</td>\n",
       "      <td>Almoço</td>\n",
       "      <td>40.0</td>\n",
       "      <td>Menu Phuket</td>\n",
       "      <td>220.0</td>\n",
       "      <td>2415.0</td>\n",
       "      <td>9066.8</td>\n",
       "      <td>6651.8</td>\n",
       "      <td>266.8</td>\n",
       "      <td>Entrada/ restante faturado 22/05</td>\n",
       "      <td>Almoço inicio as 12:00 horas, mesas de seis  e oito lugares,uma palestra em formato auditório com os convidados todos de frente. Necessita de telão, projetor( Passei contato da Zaniratti). Mas iremos disponibilizar os equipamentos. Gostaria de estacionamento  com manobrista.  Sem bebida alcoolica</td>\n",
       "    </tr>\n",
       "    <tr>\n",
       "      <th>2</th>\n",
       "      <td>2022-05-14 00:00:00</td>\n",
       "      <td>Realizado</td>\n",
       "      <td>Realizado</td>\n",
       "      <td>2022-05-19</td>\n",
       "      <td>Jantar/Palestra</td>\n",
       "      <td>30.0</td>\n",
       "      <td>Menu Phuket</td>\n",
       "      <td>255.0</td>\n",
       "      <td>NaN</td>\n",
       "      <td>7650.0</td>\n",
       "      <td>7650</td>\n",
       "      <td>NaN</td>\n",
       "      <td>Cartão de crédito final do evento</td>\n",
       "      <td>Jantar com palestra, o cliente solicitou equipamentos de Projetor e telão.</td>\n",
       "    </tr>\n",
       "    <tr>\n",
       "      <th>3</th>\n",
       "      <td>NaN</td>\n",
       "      <td>Realizado</td>\n",
       "      <td>Realizado</td>\n",
       "      <td>2022-05-26</td>\n",
       "      <td>Jantar</td>\n",
       "      <td>25.0</td>\n",
       "      <td>Menu Krab</td>\n",
       "      <td>220.0</td>\n",
       "      <td>NaN</td>\n",
       "      <td>5500.0</td>\n",
       "      <td></td>\n",
       "      <td>NaN</td>\n",
       "      <td>Cartão de creditofinal do evento</td>\n",
       "      <td>Jantar para 25 pessoas, três dias  antes  do evento será informado se haverá mais pessoas. Equipamentos solicitados: projetor , telão.\\n Estacionamento para 25 convidados.\\nO cliente necessita de uma prato vegetariano.</td>\n",
       "    </tr>\n",
       "    <tr>\n",
       "      <th>4</th>\n",
       "      <td>2022-04-19 00:00:00</td>\n",
       "      <td>Realizado</td>\n",
       "      <td>Fechado</td>\n",
       "      <td>2022-05-28</td>\n",
       "      <td>Welcome coffee/almoço</td>\n",
       "      <td>51.0</td>\n",
       "      <td>Wellcome Coffee\\nMenu Krab</td>\n",
       "      <td>250.0</td>\n",
       "      <td>NaN</td>\n",
       "      <td>12750.0</td>\n",
       "      <td>12750</td>\n",
       "      <td>NaN</td>\n",
       "      <td></td>\n",
       "      <td>Welcome coffeee às 10:00horas, as 10:30horas sala privativa para aula,às 12:00horas o almoço deverá ser servido na mesma sala da apresentação aula.\\nNa apresentação aula, cliente solicitou que forneçamos água para os convidados.  \\nEquipamentos fornecidos pela contratada: Tela, projetor, sonorização, Internet.\\nNão dispomos de um profissional técnico. \\n</td>\n",
       "    </tr>\n",
       "  </tbody>\n",
       "</table></div>"
      ],
      "text/plain": [
       "          data_contato      etapa   situação data_evento  \\\n",
       "0     EVENTOS FECHADOS        NaN        NaN         NaT   \n",
       "1  2022-04-17 00:00:00  Realizado  Realizado  2022-05-11   \n",
       "2  2022-05-14 00:00:00  Realizado  Realizado  2022-05-19   \n",
       "3                  NaN  Realizado  Realizado  2022-05-26   \n",
       "4  2022-04-19 00:00:00  Realizado    Fechado  2022-05-28   \n",
       "\n",
       "                    tipo  num_convidados                    cardápio  preço  \\\n",
       "0                    NaN             NaN                         NaN    NaN   \n",
       "1                 Almoço            40.0                 Menu Phuket  220.0   \n",
       "2        Jantar/Palestra            30.0                 Menu Phuket  255.0   \n",
       "3                 Jantar            25.0                   Menu Krab  220.0   \n",
       "4  Welcome coffee/almoço            51.0  Wellcome Coffee\\nMenu Krab  250.0   \n",
       "\n",
       "    sinal  valor_total saldo_restante  valor_extra  \\\n",
       "0     NaN          NaN            NaN          NaN   \n",
       "1  2415.0       9066.8         6651.8        266.8   \n",
       "2     NaN       7650.0           7650          NaN   \n",
       "3     NaN       5500.0                         NaN   \n",
       "4     NaN      12750.0          12750          NaN   \n",
       "\n",
       "                           forma_pag  \\\n",
       "0                                NaN   \n",
       "1   Entrada/ restante faturado 22/05   \n",
       "2  Cartão de crédito final do evento   \n",
       "3   Cartão de creditofinal do evento   \n",
       "4                                      \n",
       "\n",
       "                                          observação  \n",
       "0                                                NaN  \n",
       "1  Almoço inicio as 12:00 horas, mesas de seis  e...  \n",
       "2  Jantar com palestra, o cliente solicitou equip...  \n",
       "3  Jantar para 25 pessoas, três dias  antes  do e...  \n",
       "4  Welcome coffeee às 10:00horas, as 10:30horas s...  "
      ]
     },
     "execution_count": 75,
     "metadata": {},
     "output_type": "execute_result"
    }
   ],
   "source": [
    "df_mai.head()"
   ]
  },
  {
   "cell_type": "code",
   "execution_count": 76,
   "id": "5c203194",
   "metadata": {},
   "outputs": [
    {
     "name": "stdout",
     "output_type": "stream",
     "text": [
      "<class 'pandas.core.frame.DataFrame'>\n",
      "RangeIndex: 16 entries, 0 to 15\n",
      "Data columns (total 14 columns):\n",
      " #   Column          Non-Null Count  Dtype         \n",
      "---  ------          --------------  -----         \n",
      " 0   data_contato    10 non-null     object        \n",
      " 1   etapa           8 non-null      object        \n",
      " 2   situação        8 non-null      object        \n",
      " 3   data_evento     8 non-null      datetime64[ns]\n",
      " 4   tipo            8 non-null      object        \n",
      " 5   num_convidados  8 non-null      float64       \n",
      " 6   cardápio        6 non-null      object        \n",
      " 7   preço           7 non-null      float64       \n",
      " 8   sinal           1 non-null      float64       \n",
      " 9   valor_total     9 non-null      float64       \n",
      " 10  saldo_restante  9 non-null      object        \n",
      " 11  valor_extra     1 non-null      float64       \n",
      " 12  forma_pag       6 non-null      object        \n",
      " 13  observação      8 non-null      object        \n",
      "dtypes: datetime64[ns](1), float64(5), object(8)\n",
      "memory usage: 1.9+ KB\n"
     ]
    }
   ],
   "source": [
    "df_mai.info()"
   ]
  },
  {
   "cell_type": "code",
   "execution_count": 77,
   "id": "9a055d09",
   "metadata": {},
   "outputs": [],
   "source": [
    "df_mai.loc[7, 'data_contato'] = df_mai.loc[7, 'data_evento']"
   ]
  },
  {
   "cell_type": "code",
   "execution_count": 78,
   "id": "065636ca",
   "metadata": {},
   "outputs": [
    {
     "data": {
      "text/html": [
       "<div><div id=e092f7a1-8793-4f7e-bff0-0c8eb93407a8 style=\"display:none; background-color:#9D6CFF; color:white; width:200px; height:30px; padding-left:5px; border-radius:4px; flex-direction:row; justify-content:space-around; align-items:center;\" onmouseover=\"this.style.backgroundColor='#BA9BF8'\" onmouseout=\"this.style.backgroundColor='#9D6CFF'\" onclick=\"window.commands?.execute('create-mitosheet-from-dataframe-output');\">See Full Dataframe in Mito</div> <script> if (window.commands?.hasCommand('create-mitosheet-from-dataframe-output')) document.getElementById('e092f7a1-8793-4f7e-bff0-0c8eb93407a8').style.display = 'flex' </script> <table border=\"1\" class=\"dataframe\">\n",
       "  <thead>\n",
       "    <tr style=\"text-align: right;\">\n",
       "      <th></th>\n",
       "      <th>data_contato</th>\n",
       "      <th>etapa</th>\n",
       "      <th>situação</th>\n",
       "      <th>data_evento</th>\n",
       "      <th>tipo</th>\n",
       "      <th>num_convidados</th>\n",
       "      <th>cardápio</th>\n",
       "      <th>preço</th>\n",
       "      <th>sinal</th>\n",
       "      <th>valor_total</th>\n",
       "      <th>saldo_restante</th>\n",
       "      <th>valor_extra</th>\n",
       "      <th>forma_pag</th>\n",
       "      <th>observação</th>\n",
       "    </tr>\n",
       "  </thead>\n",
       "  <tbody>\n",
       "    <tr>\n",
       "      <th>0</th>\n",
       "      <td>EVENTOS FECHADOS</td>\n",
       "      <td>NaN</td>\n",
       "      <td>NaN</td>\n",
       "      <td>NaT</td>\n",
       "      <td>NaN</td>\n",
       "      <td>NaN</td>\n",
       "      <td>NaN</td>\n",
       "      <td>NaN</td>\n",
       "      <td>NaN</td>\n",
       "      <td>NaN</td>\n",
       "      <td>NaN</td>\n",
       "      <td>NaN</td>\n",
       "      <td>NaN</td>\n",
       "      <td>NaN</td>\n",
       "    </tr>\n",
       "    <tr>\n",
       "      <th>5</th>\n",
       "      <td>NaN</td>\n",
       "      <td>NaN</td>\n",
       "      <td>NaN</td>\n",
       "      <td>NaT</td>\n",
       "      <td>NaN</td>\n",
       "      <td>NaN</td>\n",
       "      <td>NaN</td>\n",
       "      <td>NaN</td>\n",
       "      <td>NaN</td>\n",
       "      <td>NaN</td>\n",
       "      <td>NaN</td>\n",
       "      <td>NaN</td>\n",
       "      <td>NaN</td>\n",
       "      <td>NaN</td>\n",
       "    </tr>\n",
       "    <tr>\n",
       "      <th>7</th>\n",
       "      <td>NaT</td>\n",
       "      <td>NaN</td>\n",
       "      <td>NaN</td>\n",
       "      <td>NaT</td>\n",
       "      <td>NaN</td>\n",
       "      <td>NaN</td>\n",
       "      <td>NaN</td>\n",
       "      <td>NaN</td>\n",
       "      <td>NaN</td>\n",
       "      <td>NaN</td>\n",
       "      <td>NaN</td>\n",
       "      <td>NaN</td>\n",
       "      <td>NaN</td>\n",
       "      <td>NaN</td>\n",
       "    </tr>\n",
       "    <tr>\n",
       "      <th>8</th>\n",
       "      <td>NaN</td>\n",
       "      <td>NaN</td>\n",
       "      <td>NaN</td>\n",
       "      <td>NaT</td>\n",
       "      <td>NaN</td>\n",
       "      <td>NaN</td>\n",
       "      <td>NaN</td>\n",
       "      <td>NaN</td>\n",
       "      <td>NaN</td>\n",
       "      <td>NaN</td>\n",
       "      <td>NaN</td>\n",
       "      <td>NaN</td>\n",
       "      <td>NaN</td>\n",
       "      <td>NaN</td>\n",
       "    </tr>\n",
       "  </tbody>\n",
       "</table></div>"
      ],
      "text/plain": [
       "       data_contato etapa situação data_evento tipo  num_convidados cardápio  \\\n",
       "0  EVENTOS FECHADOS   NaN      NaN         NaT  NaN             NaN      NaN   \n",
       "5               NaN   NaN      NaN         NaT  NaN             NaN      NaN   \n",
       "7               NaT   NaN      NaN         NaT  NaN             NaN      NaN   \n",
       "8               NaN   NaN      NaN         NaT  NaN             NaN      NaN   \n",
       "\n",
       "   preço  sinal  valor_total saldo_restante  valor_extra forma_pag observação  \n",
       "0    NaN    NaN          NaN            NaN          NaN       NaN        NaN  \n",
       "5    NaN    NaN          NaN            NaN          NaN       NaN        NaN  \n",
       "7    NaN    NaN          NaN            NaN          NaN       NaN        NaN  \n",
       "8    NaN    NaN          NaN            NaN          NaN       NaN        NaN  "
      ]
     },
     "execution_count": 78,
     "metadata": {},
     "output_type": "execute_result"
    }
   ],
   "source": [
    "df_mai.iloc[[0, 5, 7, 8]]"
   ]
  },
  {
   "cell_type": "code",
   "execution_count": 79,
   "id": "f9b12fb7",
   "metadata": {
    "scrolled": true
   },
   "outputs": [],
   "source": [
    "df_mai['data_contato'] = pd.to_datetime(df_mai['data_contato'], errors= 'coerce')"
   ]
  },
  {
   "cell_type": "code",
   "execution_count": 80,
   "id": "1eaa126a",
   "metadata": {},
   "outputs": [],
   "source": [
    "df_mai.dropna(how='all', inplace=True)"
   ]
  },
  {
   "cell_type": "code",
   "execution_count": 81,
   "id": "1fa15e91",
   "metadata": {},
   "outputs": [],
   "source": [
    "def data_contatos(x):\n",
    "    ''' Descobrir o indice dos eventos'''\n",
    "    l = []\n",
    "    for i, k in enumerate(x['data_contato']):\n",
    "        if k in l:\n",
    "            l.append(i, k)\n",
    "        print(f'{i} {k}')"
   ]
  },
  {
   "cell_type": "code",
   "execution_count": 82,
   "id": "8e4887c5",
   "metadata": {
    "scrolled": true
   },
   "outputs": [
    {
     "name": "stdout",
     "output_type": "stream",
     "text": [
      "0 2022-04-17 00:00:00\n",
      "1 2022-05-14 00:00:00\n",
      "2 NaT\n",
      "3 2022-04-19 00:00:00\n",
      "4 2022-04-25 00:00:00\n",
      "5 NaT\n",
      "6 2022-04-20 00:00:00\n",
      "7 2022-04-29 00:00:00\n",
      "8 2022-05-05 00:00:00\n"
     ]
    }
   ],
   "source": [
    "data_contatos(df_mai)"
   ]
  },
  {
   "cell_type": "code",
   "execution_count": 83,
   "id": "1bc8755e",
   "metadata": {
    "scrolled": true
   },
   "outputs": [],
   "source": [
    "df_mai[['tipo', 'situação', 'cardápio', 'forma_pag']] = df_mai[['tipo', 'situação', 'cardápio', 'forma_pag']].fillna('não informado')"
   ]
  },
  {
   "cell_type": "code",
   "execution_count": 84,
   "id": "68877068",
   "metadata": {},
   "outputs": [],
   "source": [
    "df_mai[['sinal', 'preço', 'valor_total', 'saldo_restante', 'valor_extra']] = df_mai[['sinal', 'preço', 'valor_total', 'saldo_restante', 'valor_extra']].fillna(0)"
   ]
  },
  {
   "cell_type": "code",
   "execution_count": 85,
   "id": "6beeee2f",
   "metadata": {},
   "outputs": [],
   "source": [
    "df_mai.dropna(how='all', inplace=True)"
   ]
  },
  {
   "cell_type": "code",
   "execution_count": 86,
   "id": "394738a5",
   "metadata": {},
   "outputs": [
    {
     "data": {
      "text/html": [
       "<div><div id=1d60a3d8-bd76-4bda-a359-5e1304464173 style=\"display:none; background-color:#9D6CFF; color:white; width:200px; height:30px; padding-left:5px; border-radius:4px; flex-direction:row; justify-content:space-around; align-items:center;\" onmouseover=\"this.style.backgroundColor='#BA9BF8'\" onmouseout=\"this.style.backgroundColor='#9D6CFF'\" onclick=\"window.commands?.execute('create-mitosheet-from-dataframe-output');\">See Full Dataframe in Mito</div> <script> if (window.commands?.hasCommand('create-mitosheet-from-dataframe-output')) document.getElementById('1d60a3d8-bd76-4bda-a359-5e1304464173').style.display = 'flex' </script> <table border=\"1\" class=\"dataframe\">\n",
       "  <thead>\n",
       "    <tr style=\"text-align: right;\">\n",
       "      <th></th>\n",
       "      <th>data_contato</th>\n",
       "      <th>etapa</th>\n",
       "      <th>situação</th>\n",
       "      <th>data_evento</th>\n",
       "      <th>tipo</th>\n",
       "      <th>num_convidados</th>\n",
       "      <th>cardápio</th>\n",
       "      <th>preço</th>\n",
       "      <th>sinal</th>\n",
       "      <th>valor_total</th>\n",
       "      <th>saldo_restante</th>\n",
       "      <th>valor_extra</th>\n",
       "      <th>forma_pag</th>\n",
       "      <th>observação</th>\n",
       "    </tr>\n",
       "  </thead>\n",
       "  <tbody>\n",
       "    <tr>\n",
       "      <th>3</th>\n",
       "      <td>NaT</td>\n",
       "      <td>Realizado</td>\n",
       "      <td>Realizado</td>\n",
       "      <td>2022-05-26</td>\n",
       "      <td>Jantar</td>\n",
       "      <td>25.0</td>\n",
       "      <td>Menu Krab</td>\n",
       "      <td>220.0</td>\n",
       "      <td>0.0</td>\n",
       "      <td>5500.0</td>\n",
       "      <td></td>\n",
       "      <td>0.0</td>\n",
       "      <td>Cartão de creditofinal do evento</td>\n",
       "      <td>Jantar para 25 pessoas, três dias  antes  do evento será informado se haverá mais pessoas. Equipamentos solicitados: projetor , telão.\\n Estacionamento para 25 convidados.\\nO cliente necessita de uma prato vegetariano.</td>\n",
       "    </tr>\n",
       "    <tr>\n",
       "      <th>11</th>\n",
       "      <td>NaT</td>\n",
       "      <td>NaN</td>\n",
       "      <td>não informado</td>\n",
       "      <td>NaT</td>\n",
       "      <td>não informado</td>\n",
       "      <td>NaN</td>\n",
       "      <td>não informado</td>\n",
       "      <td>0.0</td>\n",
       "      <td>0.0</td>\n",
       "      <td>0.0</td>\n",
       "      <td>0</td>\n",
       "      <td>0.0</td>\n",
       "      <td>não informado</td>\n",
       "      <td>NaN</td>\n",
       "    </tr>\n",
       "  </tbody>\n",
       "</table></div>"
      ],
      "text/plain": [
       "   data_contato      etapa       situação data_evento           tipo  \\\n",
       "3           NaT  Realizado      Realizado  2022-05-26         Jantar   \n",
       "11          NaT        NaN  não informado         NaT  não informado   \n",
       "\n",
       "    num_convidados       cardápio  preço  sinal  valor_total saldo_restante  \\\n",
       "3             25.0      Menu Krab  220.0    0.0       5500.0                  \n",
       "11             NaN  não informado    0.0    0.0          0.0              0   \n",
       "\n",
       "    valor_extra                         forma_pag  \\\n",
       "3           0.0  Cartão de creditofinal do evento   \n",
       "11          0.0                     não informado   \n",
       "\n",
       "                                           observação  \n",
       "3   Jantar para 25 pessoas, três dias  antes  do e...  \n",
       "11                                                NaN  "
      ]
     },
     "execution_count": 86,
     "metadata": {},
     "output_type": "execute_result"
    }
   ],
   "source": [
    "df_mai[df_mai.data_contato.isnull()]"
   ]
  },
  {
   "cell_type": "code",
   "execution_count": 87,
   "id": "39894036",
   "metadata": {},
   "outputs": [],
   "source": [
    "df_mai.data_contato.fillna(df_mai.data_evento, inplace=True)"
   ]
  },
  {
   "cell_type": "code",
   "execution_count": 88,
   "id": "03d4e540",
   "metadata": {},
   "outputs": [],
   "source": [
    "df_mai.dropna(inplace=True)"
   ]
  },
  {
   "cell_type": "code",
   "execution_count": 89,
   "id": "c377b7ba",
   "metadata": {
    "scrolled": true
   },
   "outputs": [
    {
     "name": "stdout",
     "output_type": "stream",
     "text": [
      "<class 'pandas.core.frame.DataFrame'>\n",
      "Int64Index: 8 entries, 1 to 15\n",
      "Data columns (total 14 columns):\n",
      " #   Column          Non-Null Count  Dtype         \n",
      "---  ------          --------------  -----         \n",
      " 0   data_contato    8 non-null      datetime64[ns]\n",
      " 1   etapa           8 non-null      object        \n",
      " 2   situação        8 non-null      object        \n",
      " 3   data_evento     8 non-null      datetime64[ns]\n",
      " 4   tipo            8 non-null      object        \n",
      " 5   num_convidados  8 non-null      float64       \n",
      " 6   cardápio        8 non-null      object        \n",
      " 7   preço           8 non-null      float64       \n",
      " 8   sinal           8 non-null      float64       \n",
      " 9   valor_total     8 non-null      float64       \n",
      " 10  saldo_restante  8 non-null      object        \n",
      " 11  valor_extra     8 non-null      float64       \n",
      " 12  forma_pag       8 non-null      object        \n",
      " 13  observação      8 non-null      object        \n",
      "dtypes: datetime64[ns](2), float64(5), object(7)\n",
      "memory usage: 960.0+ bytes\n"
     ]
    }
   ],
   "source": [
    "df_mai.info()"
   ]
  },
  {
   "cell_type": "markdown",
   "id": "42fd41d1",
   "metadata": {},
   "source": [
    "## Planilha Junho"
   ]
  },
  {
   "cell_type": "code",
   "execution_count": 90,
   "id": "dd0bdb9e",
   "metadata": {},
   "outputs": [],
   "source": [
    "df_jun = pd.read_excel(caminho, sheet_name = 'junho')"
   ]
  },
  {
   "cell_type": "code",
   "execution_count": 91,
   "id": "99957bf0",
   "metadata": {},
   "outputs": [],
   "source": [
    "colunas_lower_replace(df_jun)"
   ]
  },
  {
   "cell_type": "code",
   "execution_count": 92,
   "id": "31eadc77",
   "metadata": {},
   "outputs": [
    {
     "data": {
      "text/html": [
       "<div><div id=68f011fb-2100-4ed9-b912-accf75f05ce3 style=\"display:none; background-color:#9D6CFF; color:white; width:200px; height:30px; padding-left:5px; border-radius:4px; flex-direction:row; justify-content:space-around; align-items:center;\" onmouseover=\"this.style.backgroundColor='#BA9BF8'\" onmouseout=\"this.style.backgroundColor='#9D6CFF'\" onclick=\"window.commands?.execute('create-mitosheet-from-dataframe-output');\">See Full Dataframe in Mito</div> <script> if (window.commands?.hasCommand('create-mitosheet-from-dataframe-output')) document.getElementById('68f011fb-2100-4ed9-b912-accf75f05ce3').style.display = 'flex' </script> <table border=\"1\" class=\"dataframe\">\n",
       "  <thead>\n",
       "    <tr style=\"text-align: right;\">\n",
       "      <th></th>\n",
       "      <th>data_contato</th>\n",
       "      <th>etapa</th>\n",
       "      <th>situação</th>\n",
       "      <th>data_evento</th>\n",
       "      <th>tipo</th>\n",
       "      <th>num_convidados</th>\n",
       "      <th>cardápio</th>\n",
       "      <th>preço</th>\n",
       "      <th>sinal</th>\n",
       "      <th>valor_total</th>\n",
       "      <th>saldo_restante</th>\n",
       "      <th>valor_extra</th>\n",
       "      <th>forma_pag</th>\n",
       "      <th>observação</th>\n",
       "    </tr>\n",
       "  </thead>\n",
       "  <tbody>\n",
       "    <tr>\n",
       "      <th>0</th>\n",
       "      <td>EVENTOS FECHADOS</td>\n",
       "      <td>NaN</td>\n",
       "      <td>NaN</td>\n",
       "      <td>NaT</td>\n",
       "      <td>NaN</td>\n",
       "      <td>NaN</td>\n",
       "      <td>NaN</td>\n",
       "      <td>NaN</td>\n",
       "      <td>NaN</td>\n",
       "      <td>NaN</td>\n",
       "      <td>NaN</td>\n",
       "      <td>NaN</td>\n",
       "      <td>NaN</td>\n",
       "      <td>NaN</td>\n",
       "    </tr>\n",
       "    <tr>\n",
       "      <th>1</th>\n",
       "      <td>2022-05-13 00:00:00</td>\n",
       "      <td>Fechado</td>\n",
       "      <td>NaN</td>\n",
       "      <td>2022-06-08</td>\n",
       "      <td>Jantar/Palestra</td>\n",
       "      <td>20.0</td>\n",
       "      <td>Menu Krab</td>\n",
       "      <td>225.0</td>\n",
       "      <td>NaN</td>\n",
       "      <td>4500.0</td>\n",
       "      <td>4500.0</td>\n",
       "      <td>NaN</td>\n",
       "      <td>Pagamento será com cartão no  final do evento.</td>\n",
       "      <td>Jantar com uma palestra médica. Será formalizado em contrato sobre 20 pessoas, seis dias que antecedem o evento será confirmado se haverá excedentes.O cliente necessita de equipamentos de audio e som.</td>\n",
       "    </tr>\n",
       "    <tr>\n",
       "      <th>2</th>\n",
       "      <td>NaN</td>\n",
       "      <td>NaN</td>\n",
       "      <td>NaN</td>\n",
       "      <td>NaT</td>\n",
       "      <td>NaN</td>\n",
       "      <td>NaN</td>\n",
       "      <td>NaN</td>\n",
       "      <td>NaN</td>\n",
       "      <td>NaN</td>\n",
       "      <td>NaN</td>\n",
       "      <td>NaN</td>\n",
       "      <td>NaN</td>\n",
       "      <td>NaN</td>\n",
       "      <td>NaN</td>\n",
       "    </tr>\n",
       "    <tr>\n",
       "      <th>3</th>\n",
       "      <td>2022-04-29 00:00:00</td>\n",
       "      <td>Fechado</td>\n",
       "      <td>NaN</td>\n",
       "      <td>2022-06-21</td>\n",
       "      <td>Jantar/Palestra</td>\n",
       "      <td>30.0</td>\n",
       "      <td>Menu Krab</td>\n",
       "      <td>225.0</td>\n",
       "      <td>NaN</td>\n",
       "      <td>6750.0</td>\n",
       "      <td>6750.0</td>\n",
       "      <td>NaN</td>\n",
       "      <td>O pagamento será faturado em 17 de Junho valor total do evento.</td>\n",
       "      <td>Contrato fechado para 30 pessoas. Ficou conbinado que até cinco dias antes do evento se haverá excedentes. Palestra com duas aulas médicas.\\nOs equipamentos serão locados (tereceirizado).</td>\n",
       "    </tr>\n",
       "    <tr>\n",
       "      <th>4</th>\n",
       "      <td>2022-05-26 00:00:00</td>\n",
       "      <td>Fechado</td>\n",
       "      <td>NaN</td>\n",
       "      <td>2022-06-28</td>\n",
       "      <td>Jantar/Palestra</td>\n",
       "      <td>20.0</td>\n",
       "      <td>Menu Phuket</td>\n",
       "      <td>250.0</td>\n",
       "      <td>NaN</td>\n",
       "      <td>5000.0</td>\n",
       "      <td>5000.0</td>\n",
       "      <td>NaN</td>\n",
       "      <td>O pagamento será com cartão de crédito no final do do evento.</td>\n",
       "      <td>Jantar com palestra, cliente necessita de equipamentos de audio e som.</td>\n",
       "    </tr>\n",
       "  </tbody>\n",
       "</table></div>"
      ],
      "text/plain": [
       "          data_contato    etapa situação data_evento             tipo  \\\n",
       "0     EVENTOS FECHADOS      NaN      NaN         NaT              NaN   \n",
       "1  2022-05-13 00:00:00  Fechado      NaN  2022-06-08  Jantar/Palestra   \n",
       "2                  NaN      NaN      NaN         NaT              NaN   \n",
       "3  2022-04-29 00:00:00  Fechado      NaN  2022-06-21  Jantar/Palestra   \n",
       "4  2022-05-26 00:00:00  Fechado      NaN  2022-06-28  Jantar/Palestra   \n",
       "\n",
       "   num_convidados     cardápio  preço  sinal  valor_total  saldo_restante  \\\n",
       "0             NaN          NaN    NaN    NaN          NaN             NaN   \n",
       "1            20.0    Menu Krab  225.0    NaN       4500.0          4500.0   \n",
       "2             NaN          NaN    NaN    NaN          NaN             NaN   \n",
       "3            30.0    Menu Krab  225.0    NaN       6750.0          6750.0   \n",
       "4            20.0  Menu Phuket  250.0    NaN       5000.0          5000.0   \n",
       "\n",
       "   valor_extra                                          forma_pag  \\\n",
       "0          NaN                                                NaN   \n",
       "1          NaN    Pagamento será com cartão no  final do evento.    \n",
       "2          NaN                                                NaN   \n",
       "3          NaN  O pagamento será faturado em 17 de Junho valor...   \n",
       "4          NaN  O pagamento será com cartão de crédito no fina...   \n",
       "\n",
       "                                          observação  \n",
       "0                                                NaN  \n",
       "1  Jantar com uma palestra médica. Será formaliza...  \n",
       "2                                                NaN  \n",
       "3  Contrato fechado para 30 pessoas. Ficou conbin...  \n",
       "4  Jantar com palestra, cliente necessita de equi...  "
      ]
     },
     "execution_count": 92,
     "metadata": {},
     "output_type": "execute_result"
    }
   ],
   "source": [
    "df_jun.head()"
   ]
  },
  {
   "cell_type": "code",
   "execution_count": 93,
   "id": "9aa88ee2",
   "metadata": {
    "scrolled": true
   },
   "outputs": [],
   "source": [
    "df_jun['data_contato'] = pd.to_datetime(df_jun['data_contato'], errors= 'coerce')"
   ]
  },
  {
   "cell_type": "code",
   "execution_count": 94,
   "id": "bc7ab771",
   "metadata": {
    "scrolled": true
   },
   "outputs": [
    {
     "name": "stdout",
     "output_type": "stream",
     "text": [
      "0 NaT\n",
      "1 2022-05-13 00:00:00\n",
      "2 NaT\n",
      "3 2022-04-29 00:00:00\n",
      "4 2022-05-26 00:00:00\n",
      "5 NaT\n",
      "6 NaT\n",
      "7 NaT\n",
      "8 NaT\n",
      "9 NaT\n",
      "10 2022-04-27 00:00:00\n",
      "11 2022-05-04 00:00:00\n",
      "12 NaT\n",
      "13 2022-01-24 00:00:00\n",
      "14 2022-04-25 00:00:00\n",
      "15 2022-05-20 00:00:00\n",
      "16 2022-05-19 00:00:00\n",
      "17 NaT\n",
      "18 NaT\n"
     ]
    }
   ],
   "source": [
    "data_contatos(df_jun)"
   ]
  },
  {
   "cell_type": "code",
   "execution_count": 95,
   "id": "4fc7d3d5",
   "metadata": {},
   "outputs": [],
   "source": [
    "df_jun = df_jun.dropna(how= 'all')"
   ]
  },
  {
   "cell_type": "code",
   "execution_count": 98,
   "id": "5cb99aac",
   "metadata": {
    "scrolled": true
   },
   "outputs": [],
   "source": [
    "df_jun.loc[ :, ['situação', 'tipo', 'cardápio','forma_pag', 'observação']] = df_jun.loc[:, ['situação', 'tipo', 'cardápio','forma_pag', 'observação']].fillna('Não informado')"
   ]
  },
  {
   "cell_type": "code",
   "execution_count": 100,
   "id": "f75def2a",
   "metadata": {},
   "outputs": [],
   "source": [
    "# valores numéricos preenchidos com 0\n",
    "df_jun[['num_convidados', 'preço', 'sinal', 'valor_total', 'saldo_restante', 'valor_extra']] = df_jun[['num_convidados', 'preço', 'sinal', 'valor_total', 'saldo_restante', 'valor_extra']].fillna(0)"
   ]
  },
  {
   "cell_type": "code",
   "execution_count": 101,
   "id": "b28d4c5d",
   "metadata": {},
   "outputs": [],
   "source": [
    "df_jun = df_jun.dropna()"
   ]
  },
  {
   "cell_type": "code",
   "execution_count": 102,
   "id": "83f59e21",
   "metadata": {},
   "outputs": [
    {
     "data": {
      "text/plain": [
       "(8, 14)"
      ]
     },
     "execution_count": 102,
     "metadata": {},
     "output_type": "execute_result"
    }
   ],
   "source": [
    "df_jun.shape"
   ]
  },
  {
   "cell_type": "code",
   "execution_count": 103,
   "id": "c01758fc",
   "metadata": {},
   "outputs": [
    {
     "data": {
      "text/plain": [
       "Index(['data_contato', 'etapa', 'situação', 'data_evento', 'tipo',\n",
       "       'num_convidados', 'cardápio', 'preço', 'sinal', 'valor_total',\n",
       "       'saldo_restante', 'valor_extra', 'forma_pag', 'observação'],\n",
       "      dtype='object')"
      ]
     },
     "execution_count": 103,
     "metadata": {},
     "output_type": "execute_result"
    }
   ],
   "source": [
    "df_jun.columns"
   ]
  },
  {
   "cell_type": "code",
   "execution_count": 104,
   "id": "34e1697c",
   "metadata": {},
   "outputs": [
    {
     "name": "stdout",
     "output_type": "stream",
     "text": [
      "<class 'pandas.core.frame.DataFrame'>\n",
      "Int64Index: 8 entries, 1 to 16\n",
      "Data columns (total 14 columns):\n",
      " #   Column          Non-Null Count  Dtype         \n",
      "---  ------          --------------  -----         \n",
      " 0   data_contato    8 non-null      datetime64[ns]\n",
      " 1   etapa           8 non-null      object        \n",
      " 2   situação        8 non-null      object        \n",
      " 3   data_evento     8 non-null      datetime64[ns]\n",
      " 4   tipo            8 non-null      object        \n",
      " 5   num_convidados  8 non-null      float64       \n",
      " 6   cardápio        8 non-null      object        \n",
      " 7   preço           8 non-null      float64       \n",
      " 8   sinal           8 non-null      float64       \n",
      " 9   valor_total     8 non-null      float64       \n",
      " 10  saldo_restante  8 non-null      float64       \n",
      " 11  valor_extra     8 non-null      float64       \n",
      " 12  forma_pag       8 non-null      object        \n",
      " 13  observação      8 non-null      object        \n",
      "dtypes: datetime64[ns](2), float64(6), object(6)\n",
      "memory usage: 960.0+ bytes\n"
     ]
    }
   ],
   "source": [
    "df_jun.info()"
   ]
  },
  {
   "cell_type": "markdown",
   "id": "176999dc",
   "metadata": {},
   "source": [
    "## Planilha Julho"
   ]
  },
  {
   "cell_type": "code",
   "execution_count": 105,
   "id": "868556fb",
   "metadata": {},
   "outputs": [],
   "source": [
    "df_jul = pd.read_excel(caminho, sheet_name = 'julho')"
   ]
  },
  {
   "cell_type": "code",
   "execution_count": 106,
   "id": "b1a3d147",
   "metadata": {},
   "outputs": [],
   "source": [
    "colunas_lower_replace(df_jul)"
   ]
  },
  {
   "cell_type": "code",
   "execution_count": 107,
   "id": "304139dd",
   "metadata": {
    "scrolled": true
   },
   "outputs": [
    {
     "name": "stdout",
     "output_type": "stream",
     "text": [
      "0 EVENTOS FECHADOS\n",
      "1 2022-05-26 00:00:00\n",
      "2 2022-05-18 00:00:00\n",
      "3 nan\n",
      "4 nan\n",
      "5 nan\n",
      "6 nan\n",
      "7 nan\n",
      "8 nan\n",
      "9 EVENTOS EM NEGOCIAÇÃO\n",
      "10 2022-06-01 00:00:00\n",
      "11 2022-06-03 00:00:00\n",
      "12 nan\n",
      "13 nan\n",
      "14 EVENTOS NÃO FECHADOS\n",
      "15 2022-05-16 00:00:00\n",
      "16 2022-05-12 00:00:00\n",
      "17 2022-05-20 00:00:00\n",
      "18 nan\n",
      "19 nan\n",
      "20 nan\n"
     ]
    }
   ],
   "source": [
    "data_contatos(df_jul)"
   ]
  },
  {
   "cell_type": "code",
   "execution_count": 108,
   "id": "55f06378",
   "metadata": {},
   "outputs": [
    {
     "data": {
      "text/html": [
       "<div><div id=3d464b93-4832-4df1-9f1b-b4563fbc82b4 style=\"display:none; background-color:#9D6CFF; color:white; width:200px; height:30px; padding-left:5px; border-radius:4px; flex-direction:row; justify-content:space-around; align-items:center;\" onmouseover=\"this.style.backgroundColor='#BA9BF8'\" onmouseout=\"this.style.backgroundColor='#9D6CFF'\" onclick=\"window.commands?.execute('create-mitosheet-from-dataframe-output');\">See Full Dataframe in Mito</div> <script> if (window.commands?.hasCommand('create-mitosheet-from-dataframe-output')) document.getElementById('3d464b93-4832-4df1-9f1b-b4563fbc82b4').style.display = 'flex' </script> <table border=\"1\" class=\"dataframe\">\n",
       "  <thead>\n",
       "    <tr style=\"text-align: right;\">\n",
       "      <th></th>\n",
       "      <th>data_contato</th>\n",
       "      <th>etapa</th>\n",
       "      <th>situação</th>\n",
       "      <th>data_evento</th>\n",
       "      <th>tipo</th>\n",
       "      <th>num_convidados</th>\n",
       "      <th>cardápio</th>\n",
       "      <th>preço</th>\n",
       "      <th>sinal</th>\n",
       "      <th>valor_total</th>\n",
       "      <th>saldo_restante</th>\n",
       "      <th>valor_extra</th>\n",
       "      <th>forma_pag</th>\n",
       "      <th>observação</th>\n",
       "    </tr>\n",
       "  </thead>\n",
       "  <tbody>\n",
       "    <tr>\n",
       "      <th>0</th>\n",
       "      <td>EVENTOS FECHADOS</td>\n",
       "      <td>NaN</td>\n",
       "      <td>NaN</td>\n",
       "      <td>NaT</td>\n",
       "      <td>NaN</td>\n",
       "      <td>NaN</td>\n",
       "      <td>NaN</td>\n",
       "      <td>NaN</td>\n",
       "      <td>NaN</td>\n",
       "      <td>NaN</td>\n",
       "      <td>NaN</td>\n",
       "      <td>NaN</td>\n",
       "      <td>NaN</td>\n",
       "      <td>NaN</td>\n",
       "    </tr>\n",
       "    <tr>\n",
       "      <th>1</th>\n",
       "      <td>2022-05-26 00:00:00</td>\n",
       "      <td>Fechado</td>\n",
       "      <td>Aguadando assinatura contrato</td>\n",
       "      <td>2022-07-28</td>\n",
       "      <td>Jantar/Palestra</td>\n",
       "      <td>20.0</td>\n",
       "      <td>Menu Phuket</td>\n",
       "      <td>255.0</td>\n",
       "      <td>NaN</td>\n",
       "      <td>5100.0</td>\n",
       "      <td>5100.0</td>\n",
       "      <td>NaN</td>\n",
       "      <td>Cartão de credito Amex no final do evento</td>\n",
       "      <td>Jantar para 20 pessoas,  aula com palestra.\\n Equipamentos solicitados: Projetor , aúdio e som.\\n Vinhos definidos pelo cliente: Sauvignon Blanc e Cabernet. \\n Será confirmado excedentes, cinco dias antes do evento.\\n</td>\n",
       "    </tr>\n",
       "    <tr>\n",
       "      <th>2</th>\n",
       "      <td>2022-05-18 00:00:00</td>\n",
       "      <td>Fechado</td>\n",
       "      <td>Aguadando assinatura contrato</td>\n",
       "      <td>2022-07-21</td>\n",
       "      <td>Jantar/Palestra</td>\n",
       "      <td>25.0</td>\n",
       "      <td>Menu Krab</td>\n",
       "      <td>225.0</td>\n",
       "      <td>NaN</td>\n",
       "      <td>5625.0</td>\n",
       "      <td>5625.0</td>\n",
       "      <td>NaN</td>\n",
       "      <td>Cartão de credito no final do evento</td>\n",
       "      <td>Evento  para 25 pessoas, formato ideal em círculo ou U palestra.</td>\n",
       "    </tr>\n",
       "    <tr>\n",
       "      <th>3</th>\n",
       "      <td>NaN</td>\n",
       "      <td>NaN</td>\n",
       "      <td>NaN</td>\n",
       "      <td>NaT</td>\n",
       "      <td>NaN</td>\n",
       "      <td>NaN</td>\n",
       "      <td>NaN</td>\n",
       "      <td>NaN</td>\n",
       "      <td>NaN</td>\n",
       "      <td>0.0</td>\n",
       "      <td>0.0</td>\n",
       "      <td>NaN</td>\n",
       "      <td>NaN</td>\n",
       "      <td>NaN</td>\n",
       "    </tr>\n",
       "    <tr>\n",
       "      <th>4</th>\n",
       "      <td>NaN</td>\n",
       "      <td>NaN</td>\n",
       "      <td>NaN</td>\n",
       "      <td>NaT</td>\n",
       "      <td>NaN</td>\n",
       "      <td>NaN</td>\n",
       "      <td>NaN</td>\n",
       "      <td>NaN</td>\n",
       "      <td>NaN</td>\n",
       "      <td>0.0</td>\n",
       "      <td>0.0</td>\n",
       "      <td>NaN</td>\n",
       "      <td>NaN</td>\n",
       "      <td>NaN</td>\n",
       "    </tr>\n",
       "    <tr>\n",
       "      <th>...</th>\n",
       "      <td>...</td>\n",
       "      <td>...</td>\n",
       "      <td>...</td>\n",
       "      <td>...</td>\n",
       "      <td>...</td>\n",
       "      <td>...</td>\n",
       "      <td>...</td>\n",
       "      <td>...</td>\n",
       "      <td>...</td>\n",
       "      <td>...</td>\n",
       "      <td>...</td>\n",
       "      <td>...</td>\n",
       "      <td>...</td>\n",
       "      <td>...</td>\n",
       "    </tr>\n",
       "    <tr>\n",
       "      <th>16</th>\n",
       "      <td>2022-05-12 00:00:00</td>\n",
       "      <td>Não fechado</td>\n",
       "      <td>Aguadando retorno do cliente até segunda feira dia 23/5</td>\n",
       "      <td>2022-07-06</td>\n",
       "      <td>Aniversário</td>\n",
       "      <td>40.0</td>\n",
       "      <td>A definir</td>\n",
       "      <td>NaN</td>\n",
       "      <td>NaN</td>\n",
       "      <td>0.0</td>\n",
       "      <td>0.0</td>\n",
       "      <td>NaN</td>\n",
       "      <td>NaN</td>\n",
       "      <td>Jantar Aniversário</td>\n",
       "    </tr>\n",
       "    <tr>\n",
       "      <th>17</th>\n",
       "      <td>2022-05-20 00:00:00</td>\n",
       "      <td>Não fechado</td>\n",
       "      <td>na proxima semana terá uma definição</td>\n",
       "      <td>2022-07-07</td>\n",
       "      <td>Jantar/Palestra</td>\n",
       "      <td>30.0</td>\n",
       "      <td>A definir</td>\n",
       "      <td>NaN</td>\n",
       "      <td>NaN</td>\n",
       "      <td>0.0</td>\n",
       "      <td>0.0</td>\n",
       "      <td>NaN</td>\n",
       "      <td>NaN</td>\n",
       "      <td>Jantar com uma palestra para 30 pessoas.\\nNecessita de equipamentod e aúdio e som.</td>\n",
       "    </tr>\n",
       "    <tr>\n",
       "      <th>18</th>\n",
       "      <td>NaN</td>\n",
       "      <td>NaN</td>\n",
       "      <td>NaN</td>\n",
       "      <td>NaT</td>\n",
       "      <td>NaN</td>\n",
       "      <td>NaN</td>\n",
       "      <td>NaN</td>\n",
       "      <td>NaN</td>\n",
       "      <td>NaN</td>\n",
       "      <td>0.0</td>\n",
       "      <td>0.0</td>\n",
       "      <td>NaN</td>\n",
       "      <td>NaN</td>\n",
       "      <td>NaN</td>\n",
       "    </tr>\n",
       "    <tr>\n",
       "      <th>19</th>\n",
       "      <td>NaN</td>\n",
       "      <td>NaN</td>\n",
       "      <td>NaN</td>\n",
       "      <td>NaT</td>\n",
       "      <td>NaN</td>\n",
       "      <td>NaN</td>\n",
       "      <td>NaN</td>\n",
       "      <td>NaN</td>\n",
       "      <td>NaN</td>\n",
       "      <td>0.0</td>\n",
       "      <td>0.0</td>\n",
       "      <td>NaN</td>\n",
       "      <td>NaN</td>\n",
       "      <td>NaN</td>\n",
       "    </tr>\n",
       "    <tr>\n",
       "      <th>20</th>\n",
       "      <td>NaN</td>\n",
       "      <td>NaN</td>\n",
       "      <td>NaN</td>\n",
       "      <td>NaT</td>\n",
       "      <td>NaN</td>\n",
       "      <td>NaN</td>\n",
       "      <td>NaN</td>\n",
       "      <td>NaN</td>\n",
       "      <td>NaN</td>\n",
       "      <td>0.0</td>\n",
       "      <td>0.0</td>\n",
       "      <td>NaN</td>\n",
       "      <td>NaN</td>\n",
       "      <td>NaN</td>\n",
       "    </tr>\n",
       "  </tbody>\n",
       "</table></div>"
      ],
      "text/plain": [
       "             data_contato          etapa  \\\n",
       "0        EVENTOS FECHADOS            NaN   \n",
       "1     2022-05-26 00:00:00        Fechado   \n",
       "2     2022-05-18 00:00:00        Fechado   \n",
       "3                     NaN            NaN   \n",
       "4                     NaN            NaN   \n",
       "5                     NaN            NaN   \n",
       "6                     NaN            NaN   \n",
       "7                     NaN            NaN   \n",
       "8                     NaN            NaN   \n",
       "9   EVENTOS EM NEGOCIAÇÃO            NaN   \n",
       "10    2022-06-01 00:00:00  Em negociação   \n",
       "11    2022-06-03 00:00:00  Em negociação   \n",
       "12                    NaN            NaN   \n",
       "13                    NaN            NaN   \n",
       "14   EVENTOS NÃO FECHADOS            NaN   \n",
       "15    2022-05-16 00:00:00    Não fechado   \n",
       "16    2022-05-12 00:00:00    Não fechado   \n",
       "17    2022-05-20 00:00:00    Não fechado   \n",
       "18                    NaN            NaN   \n",
       "19                    NaN            NaN   \n",
       "20                    NaN            NaN   \n",
       "\n",
       "                                             situação data_evento  \\\n",
       "0                                                 NaN         NaT   \n",
       "1                       Aguadando assinatura contrato  2022-07-28   \n",
       "2                       Aguadando assinatura contrato  2022-07-21   \n",
       "3                                                 NaN         NaT   \n",
       "4                                                 NaN         NaT   \n",
       "5                                                 NaN         NaT   \n",
       "6                                                 NaN         NaT   \n",
       "7                                                 NaN         NaT   \n",
       "8                                                 NaN         NaT   \n",
       "9                                                 NaN         NaT   \n",
       "10                                                NaN  2022-07-26   \n",
       "11                                                NaN  2022-07-05   \n",
       "12                                                NaN         NaT   \n",
       "13                                                NaN         NaT   \n",
       "14                                                NaN         NaT   \n",
       "15  A filha prefere fazer no clube, com mais forma...  2022-07-30   \n",
       "16  Aguadando retorno do cliente até segunda feira...  2022-07-06   \n",
       "17               na proxima semana terá uma definição  2022-07-07   \n",
       "18                                                NaN         NaT   \n",
       "19                                                NaN         NaT   \n",
       "20                                                NaN         NaT   \n",
       "\n",
       "                tipo  num_convidados     cardápio  preço  sinal  valor_total  \\\n",
       "0                NaN             NaN          NaN    NaN    NaN          NaN   \n",
       "1    Jantar/Palestra            20.0  Menu Phuket  255.0    NaN       5100.0   \n",
       "2    Jantar/Palestra            25.0    Menu Krab  225.0    NaN       5625.0   \n",
       "3                NaN             NaN          NaN    NaN    NaN          0.0   \n",
       "4                NaN             NaN          NaN    NaN    NaN          0.0   \n",
       "5                NaN             NaN          NaN    NaN    NaN          0.0   \n",
       "6                NaN             NaN          NaN    NaN    NaN          0.0   \n",
       "7                NaN             NaN          NaN    NaN    NaN          0.0   \n",
       "8                NaN             NaN          NaN    NaN    NaN          0.0   \n",
       "9                NaN             NaN          NaN    NaN    NaN          NaN   \n",
       "10               NaN            50.0    A definir    NaN    NaN          0.0   \n",
       "11               NaN            20.0          NaN    NaN    NaN          0.0   \n",
       "12               NaN             NaN          NaN    NaN    NaN          0.0   \n",
       "13               NaN             NaN          NaN    NaN    NaN          0.0   \n",
       "14               NaN             NaN          NaN    NaN    NaN          NaN   \n",
       "15  jantar/Formatura            40.0    A definir    NaN    NaN          0.0   \n",
       "16       Aniversário            40.0    A definir    NaN    NaN          0.0   \n",
       "17   Jantar/Palestra            30.0    A definir    NaN    NaN          0.0   \n",
       "18               NaN             NaN          NaN    NaN    NaN          0.0   \n",
       "19               NaN             NaN          NaN    NaN    NaN          0.0   \n",
       "20               NaN             NaN          NaN    NaN    NaN          0.0   \n",
       "\n",
       "    saldo_restante  valor_extra                                  forma_pag  \\\n",
       "0              NaN          NaN                                        NaN   \n",
       "1           5100.0          NaN  Cartão de credito Amex no final do evento   \n",
       "2           5625.0          NaN       Cartão de credito no final do evento   \n",
       "3              0.0          NaN                                        NaN   \n",
       "4              0.0          NaN                                        NaN   \n",
       "5              0.0          NaN                                        NaN   \n",
       "6              0.0          NaN                                        NaN   \n",
       "7              0.0          NaN                                        NaN   \n",
       "8              0.0          NaN                                        NaN   \n",
       "9              NaN          NaN                                        NaN   \n",
       "10             0.0          NaN                                        NaN   \n",
       "11             0.0          NaN                                        NaN   \n",
       "12             0.0          NaN                                        NaN   \n",
       "13             0.0          NaN                                        NaN   \n",
       "14             NaN          NaN                                        NaN   \n",
       "15             0.0          NaN                                        NaN   \n",
       "16             0.0          NaN                                        NaN   \n",
       "17             0.0          NaN                                        NaN   \n",
       "18             0.0          NaN                                        NaN   \n",
       "19             0.0          NaN                                        NaN   \n",
       "20             0.0          NaN                                        NaN   \n",
       "\n",
       "                                           observação  \n",
       "0                                                 NaN  \n",
       "1   Jantar para 20 pessoas,  aula com palestra.\\n ...  \n",
       "2   Evento  para 25 pessoas, formato ideal em círc...  \n",
       "3                                                 NaN  \n",
       "4                                                 NaN  \n",
       "5                                                 NaN  \n",
       "6                                                 NaN  \n",
       "7                                                 NaN  \n",
       "8                                                 NaN  \n",
       "9                                                 NaN  \n",
       "10  Não me passou dados do evento ainda, mas já fe...  \n",
       "11                                                NaN  \n",
       "12                                                NaN  \n",
       "13                                                NaN  \n",
       "14                                                NaN  \n",
       "15      Jantar formatura da filha para 40 convidados.  \n",
       "16                                Jantar Aniversário   \n",
       "17  Jantar com uma palestra para 30 pessoas.\\nNece...  \n",
       "18                                                NaN  \n",
       "19                                                NaN  \n",
       "20                                                NaN  "
      ]
     },
     "execution_count": 108,
     "metadata": {},
     "output_type": "execute_result"
    }
   ],
   "source": [
    "df_jul.iloc[:25]"
   ]
  },
  {
   "cell_type": "code",
   "execution_count": 109,
   "id": "07060083",
   "metadata": {},
   "outputs": [],
   "source": [
    "df_jul['data_contato'] = pd.to_datetime(df_jul['data_contato'], errors= 'coerce')\n",
    "df_jul['data_evento'] = pd.to_datetime(df_jul['data_evento'], errors= 'coerce')"
   ]
  },
  {
   "cell_type": "code",
   "execution_count": 110,
   "id": "16320ef5",
   "metadata": {},
   "outputs": [],
   "source": [
    "df_jul = df_jul.dropna(how= 'all')"
   ]
  },
  {
   "cell_type": "code",
   "execution_count": 113,
   "id": "7f928e65",
   "metadata": {},
   "outputs": [],
   "source": [
    "df_jul[['situação', 'tipo', 'cardápio','forma_pag', 'observação']] = df_jul[['situação', 'tipo', 'cardápio','forma_pag', 'observação']].fillna('Não informado')"
   ]
  },
  {
   "cell_type": "code",
   "execution_count": 114,
   "id": "f4275343",
   "metadata": {},
   "outputs": [],
   "source": [
    "df_jul[['num_convidados', 'preço', 'sinal','valor_total','saldo_restante','valor_extra']] = df_jul.loc[: , ['num_convidados', 'preço', 'sinal','valor_total','saldo_restante','valor_extra']].fillna(0)"
   ]
  },
  {
   "cell_type": "code",
   "execution_count": 115,
   "id": "0a6947b1",
   "metadata": {
    "scrolled": true
   },
   "outputs": [
    {
     "data": {
      "text/html": [
       "<div><div id=59a375a3-e52a-4b5b-b287-7527c1f46b63 style=\"display:none; background-color:#9D6CFF; color:white; width:200px; height:30px; padding-left:5px; border-radius:4px; flex-direction:row; justify-content:space-around; align-items:center;\" onmouseover=\"this.style.backgroundColor='#BA9BF8'\" onmouseout=\"this.style.backgroundColor='#9D6CFF'\" onclick=\"window.commands?.execute('create-mitosheet-from-dataframe-output');\">See Full Dataframe in Mito</div> <script> if (window.commands?.hasCommand('create-mitosheet-from-dataframe-output')) document.getElementById('59a375a3-e52a-4b5b-b287-7527c1f46b63').style.display = 'flex' </script> <table border=\"1\" class=\"dataframe\">\n",
       "  <thead>\n",
       "    <tr style=\"text-align: right;\">\n",
       "      <th></th>\n",
       "      <th>data_contato</th>\n",
       "      <th>etapa</th>\n",
       "      <th>situação</th>\n",
       "      <th>data_evento</th>\n",
       "      <th>tipo</th>\n",
       "      <th>num_convidados</th>\n",
       "      <th>cardápio</th>\n",
       "      <th>preço</th>\n",
       "      <th>sinal</th>\n",
       "      <th>valor_total</th>\n",
       "      <th>saldo_restante</th>\n",
       "      <th>valor_extra</th>\n",
       "      <th>forma_pag</th>\n",
       "      <th>observação</th>\n",
       "    </tr>\n",
       "  </thead>\n",
       "  <tbody>\n",
       "    <tr>\n",
       "      <th>8</th>\n",
       "      <td>NaT</td>\n",
       "      <td>NaN</td>\n",
       "      <td>Não informado</td>\n",
       "      <td>NaT</td>\n",
       "      <td>Não informado</td>\n",
       "      <td>0.0</td>\n",
       "      <td>Não informado</td>\n",
       "      <td>0.0</td>\n",
       "      <td>0.0</td>\n",
       "      <td>0.0</td>\n",
       "      <td>0.0</td>\n",
       "      <td>0.0</td>\n",
       "      <td>Não informado</td>\n",
       "      <td>Não informado</td>\n",
       "    </tr>\n",
       "    <tr>\n",
       "      <th>10</th>\n",
       "      <td>2022-06-01</td>\n",
       "      <td>Em negociação</td>\n",
       "      <td>Não informado</td>\n",
       "      <td>2022-07-26</td>\n",
       "      <td>Não informado</td>\n",
       "      <td>50.0</td>\n",
       "      <td>A definir</td>\n",
       "      <td>0.0</td>\n",
       "      <td>0.0</td>\n",
       "      <td>0.0</td>\n",
       "      <td>0.0</td>\n",
       "      <td>0.0</td>\n",
       "      <td>Não informado</td>\n",
       "      <td>Não me passou dados do evento ainda, mas já fez eventos conosco, e assim que possível me envia as necessidades do evento e fechamos contrato.</td>\n",
       "    </tr>\n",
       "  </tbody>\n",
       "</table></div>"
      ],
      "text/plain": [
       "   data_contato          etapa       situação data_evento           tipo  \\\n",
       "8           NaT            NaN  Não informado         NaT  Não informado   \n",
       "10   2022-06-01  Em negociação  Não informado  2022-07-26  Não informado   \n",
       "\n",
       "    num_convidados       cardápio  preço  sinal  valor_total  saldo_restante  \\\n",
       "8              0.0  Não informado    0.0    0.0          0.0             0.0   \n",
       "10            50.0      A definir    0.0    0.0          0.0             0.0   \n",
       "\n",
       "    valor_extra      forma_pag  \\\n",
       "8           0.0  Não informado   \n",
       "10          0.0  Não informado   \n",
       "\n",
       "                                           observação  \n",
       "8                                       Não informado  \n",
       "10  Não me passou dados do evento ainda, mas já fe...  "
      ]
     },
     "execution_count": 115,
     "metadata": {},
     "output_type": "execute_result"
    }
   ],
   "source": [
    "df_jul.loc[8:10]"
   ]
  },
  {
   "cell_type": "code",
   "execution_count": 116,
   "id": "8d1a6b07",
   "metadata": {},
   "outputs": [],
   "source": [
    "df_jul = df_jul.dropna()"
   ]
  },
  {
   "cell_type": "code",
   "execution_count": 117,
   "id": "c09eee57",
   "metadata": {},
   "outputs": [
    {
     "name": "stdout",
     "output_type": "stream",
     "text": [
      "0 2022-05-26 00:00:00\n",
      "1 2022-05-18 00:00:00\n",
      "2 2022-06-01 00:00:00\n",
      "3 2022-06-03 00:00:00\n",
      "4 2022-05-16 00:00:00\n",
      "5 2022-05-12 00:00:00\n",
      "6 2022-05-20 00:00:00\n"
     ]
    }
   ],
   "source": [
    "data_contatos(df_jul)"
   ]
  },
  {
   "cell_type": "code",
   "execution_count": 118,
   "id": "6c85bb49",
   "metadata": {},
   "outputs": [
    {
     "name": "stdout",
     "output_type": "stream",
     "text": [
      "<class 'pandas.core.frame.DataFrame'>\n",
      "Int64Index: 7 entries, 1 to 17\n",
      "Data columns (total 14 columns):\n",
      " #   Column          Non-Null Count  Dtype         \n",
      "---  ------          --------------  -----         \n",
      " 0   data_contato    7 non-null      datetime64[ns]\n",
      " 1   etapa           7 non-null      object        \n",
      " 2   situação        7 non-null      object        \n",
      " 3   data_evento     7 non-null      datetime64[ns]\n",
      " 4   tipo            7 non-null      object        \n",
      " 5   num_convidados  7 non-null      float64       \n",
      " 6   cardápio        7 non-null      object        \n",
      " 7   preço           7 non-null      float64       \n",
      " 8   sinal           7 non-null      float64       \n",
      " 9   valor_total     7 non-null      float64       \n",
      " 10  saldo_restante  7 non-null      float64       \n",
      " 11  valor_extra     7 non-null      float64       \n",
      " 12  forma_pag       7 non-null      object        \n",
      " 13  observação      7 non-null      object        \n",
      "dtypes: datetime64[ns](2), float64(6), object(6)\n",
      "memory usage: 840.0+ bytes\n"
     ]
    }
   ],
   "source": [
    "df_jul.info()"
   ]
  },
  {
   "cell_type": "code",
   "execution_count": 119,
   "id": "353383ab",
   "metadata": {
    "scrolled": true
   },
   "outputs": [
    {
     "data": {
      "text/plain": [
       "(7, 14)"
      ]
     },
     "execution_count": 119,
     "metadata": {},
     "output_type": "execute_result"
    }
   ],
   "source": [
    "df_jul.shape"
   ]
  },
  {
   "cell_type": "markdown",
   "id": "c8f10528",
   "metadata": {},
   "source": [
    "## Planilha Agosto"
   ]
  },
  {
   "cell_type": "code",
   "execution_count": 120,
   "id": "77a5b7a8",
   "metadata": {},
   "outputs": [],
   "source": [
    "df_ago = pd.read_excel(caminho, sheet_name = 'agosto')"
   ]
  },
  {
   "cell_type": "code",
   "execution_count": 121,
   "id": "0a94fba4",
   "metadata": {},
   "outputs": [],
   "source": [
    "colunas_lower_replace(df_ago)"
   ]
  },
  {
   "cell_type": "code",
   "execution_count": 122,
   "id": "bb4eac06",
   "metadata": {},
   "outputs": [],
   "source": [
    "df_ago['data_contato'] = pd.to_datetime(df_ago['data_contato'], errors= 'coerce')\n",
    "df_ago['data_evento'] = pd.to_datetime(df_ago['data_evento'], errors= 'coerce')"
   ]
  },
  {
   "cell_type": "code",
   "execution_count": 123,
   "id": "5d468d46",
   "metadata": {},
   "outputs": [],
   "source": [
    "df_ago.dropna(how='all', inplace=True)"
   ]
  },
  {
   "cell_type": "code",
   "execution_count": 125,
   "id": "f3d2d8e0",
   "metadata": {},
   "outputs": [],
   "source": [
    "df_ago[['situação', 'tipo', 'cardápio','forma_pag', 'observação']] = df_ago[['situação', 'tipo', 'cardápio','forma_pag', 'observação']].fillna('Não informado')"
   ]
  },
  {
   "cell_type": "code",
   "execution_count": 126,
   "id": "2746cf15",
   "metadata": {},
   "outputs": [],
   "source": [
    "df_ago[['num_convidados', 'preço', 'sinal','valor_total','saldo_restante','valor_extra']] = df_ago.loc[: , ['num_convidados', 'preço', 'sinal','valor_total','saldo_restante','valor_extra']].fillna(0)"
   ]
  },
  {
   "cell_type": "code",
   "execution_count": 127,
   "id": "5b3c1192",
   "metadata": {
    "scrolled": true
   },
   "outputs": [
    {
     "name": "stdout",
     "output_type": "stream",
     "text": [
      "0 NaT\n",
      "1 NaT\n",
      "2 NaT\n",
      "3 NaT\n",
      "4 NaT\n",
      "5 NaT\n",
      "6 NaT\n",
      "7 NaT\n",
      "8 2022-05-27 00:00:00\n",
      "9 NaT\n",
      "10 NaT\n",
      "11 NaT\n",
      "12 NaT\n",
      "13 NaT\n",
      "14 NaT\n",
      "15 NaT\n",
      "16 NaT\n",
      "17 NaT\n",
      "18 NaT\n",
      "19 NaT\n"
     ]
    }
   ],
   "source": [
    "data_contatos(df_ago)"
   ]
  },
  {
   "cell_type": "code",
   "execution_count": 129,
   "id": "942f127b",
   "metadata": {
    "scrolled": true
   },
   "outputs": [
    {
     "name": "stdout",
     "output_type": "stream",
     "text": [
      "<class 'pandas.core.frame.DataFrame'>\n",
      "Int64Index: 20 entries, 1 to 22\n",
      "Data columns (total 14 columns):\n",
      " #   Column          Non-Null Count  Dtype         \n",
      "---  ------          --------------  -----         \n",
      " 0   data_contato    1 non-null      datetime64[ns]\n",
      " 1   etapa           1 non-null      object        \n",
      " 2   situação        20 non-null     object        \n",
      " 3   data_evento     1 non-null      datetime64[ns]\n",
      " 4   tipo            20 non-null     object        \n",
      " 5   num_convidados  20 non-null     float64       \n",
      " 6   cardápio        20 non-null     object        \n",
      " 7   preço           20 non-null     float64       \n",
      " 8   sinal           20 non-null     float64       \n",
      " 9   valor_total     20 non-null     float64       \n",
      " 10  saldo_restante  20 non-null     float64       \n",
      " 11  valor_extra     20 non-null     float64       \n",
      " 12  forma_pag       20 non-null     object        \n",
      " 13  observação      20 non-null     object        \n",
      "dtypes: datetime64[ns](2), float64(6), object(6)\n",
      "memory usage: 2.3+ KB\n"
     ]
    }
   ],
   "source": [
    "df_ago.info()"
   ]
  },
  {
   "cell_type": "markdown",
   "id": "47c17243",
   "metadata": {},
   "source": [
    "## Planilha Setembro"
   ]
  },
  {
   "cell_type": "code",
   "execution_count": 130,
   "id": "a759cdb5",
   "metadata": {},
   "outputs": [],
   "source": [
    "df_set = pd.read_excel(caminho, sheet_name = 'setembro')"
   ]
  },
  {
   "cell_type": "code",
   "execution_count": 131,
   "id": "21f655b3",
   "metadata": {},
   "outputs": [],
   "source": [
    "colunas_lower_replace(df_set)"
   ]
  },
  {
   "cell_type": "code",
   "execution_count": 132,
   "id": "c9fa5b58",
   "metadata": {
    "scrolled": false
   },
   "outputs": [
    {
     "name": "stdout",
     "output_type": "stream",
     "text": [
      "0 EVENTOS FECHADOS\n",
      "1 nan\n",
      "2 nan\n",
      "3 nan\n",
      "4 nan\n",
      "5 nan\n",
      "6 nan\n",
      "7 nan\n",
      "8 nan\n",
      "9 EVENTOS EM NEGOCIAÇÃO\n",
      "10 nan\n",
      "11 nan\n",
      "12 nan\n",
      "13 nan\n",
      "14 nan\n",
      "15 nan\n",
      "16 EVENTOS NÃO FECHADOS\n",
      "17 nan\n",
      "18 nan\n",
      "19 nan\n",
      "20 nan\n",
      "21 nan\n",
      "22 nan\n"
     ]
    }
   ],
   "source": [
    "data_contatos(df_set)"
   ]
  },
  {
   "cell_type": "markdown",
   "id": "e9ef1035",
   "metadata": {},
   "source": [
    "## Planilha Outubro"
   ]
  },
  {
   "cell_type": "code",
   "execution_count": 133,
   "id": "0a75070e",
   "metadata": {},
   "outputs": [],
   "source": [
    "df_out = pd.read_excel(caminho, sheet_name = 'outubro')"
   ]
  },
  {
   "cell_type": "code",
   "execution_count": 134,
   "id": "3a4bd11b",
   "metadata": {},
   "outputs": [],
   "source": [
    "colunas_lower_replace(df_out)"
   ]
  },
  {
   "cell_type": "code",
   "execution_count": 135,
   "id": "5d6789b3",
   "metadata": {
    "scrolled": false
   },
   "outputs": [
    {
     "name": "stdout",
     "output_type": "stream",
     "text": [
      "0 EVENTOS FECHADOS\n",
      "1 nan\n",
      "2 nan\n",
      "3 nan\n",
      "4 nan\n",
      "5 nan\n",
      "6 nan\n",
      "7 nan\n",
      "8 nan\n",
      "9 EVENTOS EM NEGOCIAÇÃO\n",
      "10 2022-05-27 00:00:00\n",
      "11 nan\n",
      "12 nan\n",
      "13 nan\n",
      "14 nan\n",
      "15 nan\n",
      "16 EVENTOS NÃO FECHADOS\n",
      "17 nan\n",
      "18 nan\n",
      "19 nan\n",
      "20 nan\n",
      "21 nan\n",
      "22 nan\n"
     ]
    }
   ],
   "source": [
    "data_contatos(df_out)"
   ]
  },
  {
   "cell_type": "markdown",
   "id": "8bcab5d3",
   "metadata": {},
   "source": [
    "## Planilha Novembro"
   ]
  },
  {
   "cell_type": "code",
   "execution_count": 136,
   "id": "e12162e6",
   "metadata": {},
   "outputs": [],
   "source": [
    "df_nov = pd.read_excel(caminho, sheet_name = 'novembro')"
   ]
  },
  {
   "cell_type": "code",
   "execution_count": 137,
   "id": "07228999",
   "metadata": {},
   "outputs": [],
   "source": [
    "colunas_lower_replace(df_nov)"
   ]
  },
  {
   "cell_type": "code",
   "execution_count": 138,
   "id": "8d9998c5",
   "metadata": {
    "scrolled": false
   },
   "outputs": [
    {
     "name": "stdout",
     "output_type": "stream",
     "text": [
      "0 EVENTOS FECHADOS\n",
      "1 nan\n",
      "2 nan\n",
      "3 nan\n",
      "4 nan\n",
      "5 nan\n",
      "6 nan\n",
      "7 nan\n",
      "8 nan\n",
      "9 EVENTOS EM NEGOCIAÇÃO\n",
      "10 nan\n",
      "11 nan\n",
      "12 nan\n",
      "13 nan\n",
      "14 nan\n",
      "15 nan\n",
      "16 EVENTOS NÃO FECHADOS\n",
      "17 nan\n",
      "18 nan\n",
      "19 nan\n",
      "20 nan\n",
      "21 nan\n",
      "22 nan\n"
     ]
    }
   ],
   "source": [
    "data_contatos(df_nov)"
   ]
  },
  {
   "cell_type": "markdown",
   "id": "becdc60e",
   "metadata": {},
   "source": [
    "## Planilha Dezembro"
   ]
  },
  {
   "cell_type": "code",
   "execution_count": 139,
   "id": "685a7743",
   "metadata": {},
   "outputs": [],
   "source": [
    "df_dez = pd.read_excel(caminho, sheet_name = 'dezembro')"
   ]
  },
  {
   "cell_type": "code",
   "execution_count": 140,
   "id": "074194aa",
   "metadata": {},
   "outputs": [],
   "source": [
    "colunas_lower_replace(df_dez)"
   ]
  },
  {
   "cell_type": "code",
   "execution_count": 141,
   "id": "177552cb",
   "metadata": {
    "scrolled": true
   },
   "outputs": [
    {
     "name": "stdout",
     "output_type": "stream",
     "text": [
      "0 EVENTOS FECHADOS\n",
      "1 nan\n",
      "2 nan\n",
      "3 nan\n",
      "4 nan\n",
      "5 nan\n",
      "6 nan\n",
      "7 nan\n",
      "8 nan\n",
      "9 EVENTOS EM NEGOCIAÇÃO\n",
      "10 nan\n",
      "11 nan\n",
      "12 nan\n",
      "13 nan\n",
      "14 nan\n",
      "15 nan\n",
      "16 EVENTOS NÃO FECHADOS\n",
      "17 nan\n",
      "18 nan\n",
      "19 nan\n",
      "20 nan\n",
      "21 nan\n",
      "22 nan\n"
     ]
    }
   ],
   "source": [
    "data_contatos(df_dez)"
   ]
  },
  {
   "cell_type": "markdown",
   "id": "78a50555",
   "metadata": {},
   "source": [
    "## Unindo os Dataframes"
   ]
  },
  {
   "cell_type": "code",
   "execution_count": 142,
   "id": "4dec0492",
   "metadata": {},
   "outputs": [],
   "source": [
    "# Concatenando os dataframes\n",
    "\n",
    "df_thai = pd.concat([df_limpo, df_mar, df_abr, df_mai, df_jun, df_jul, df_ago, df_set, df_out, df_nov, df_dez], ignore_index=True)"
   ]
  },
  {
   "cell_type": "code",
   "execution_count": 143,
   "id": "f18dbe32",
   "metadata": {
    "scrolled": false
   },
   "outputs": [
    {
     "name": "stdout",
     "output_type": "stream",
     "text": [
      "<class 'pandas.core.frame.DataFrame'>\n",
      "RangeIndex: 210 entries, 0 to 209\n",
      "Data columns (total 14 columns):\n",
      " #   Column          Non-Null Count  Dtype  \n",
      "---  ------          --------------  -----  \n",
      " 0   data_evento     100 non-null    object \n",
      " 1   data_contato    112 non-null    object \n",
      " 2   tipo            119 non-null    object \n",
      " 3   valor_total     198 non-null    float64\n",
      " 4   num_convidados  119 non-null    float64\n",
      " 5   observação      119 non-null    object \n",
      " 6   etapa           32 non-null     object \n",
      " 7   situação        51 non-null     object \n",
      " 8   cardápio        51 non-null     object \n",
      " 9   preço           50 non-null     float64\n",
      " 10  sinal           50 non-null     float64\n",
      " 11  saldo_restante  130 non-null    object \n",
      " 12  valor_extra     50 non-null     float64\n",
      " 13  forma_pag       50 non-null     object \n",
      "dtypes: float64(5), object(9)\n",
      "memory usage: 23.1+ KB\n"
     ]
    }
   ],
   "source": [
    "df_thai.info()"
   ]
  },
  {
   "cell_type": "code",
   "execution_count": 144,
   "id": "3802c4b6",
   "metadata": {},
   "outputs": [],
   "source": [
    "# Preenchendo valores nulos\n",
    "df_thai[['situação', 'cardápio', 'forma_pag', 'etapa']] = df_thai[['situação', 'cardápio', 'forma_pag', 'etapa']].fillna('Não informado')\n",
    "df_thai[['preço', 'sinal', 'saldo_restante', 'valor_extra']] = df_thai[['preço', 'sinal', 'saldo_restante', 'valor_extra']].fillna(0)\n",
    "df_thai = df_thai.dropna()"
   ]
  },
  {
   "cell_type": "code",
   "execution_count": 145,
   "id": "764f9091",
   "metadata": {
    "scrolled": true
   },
   "outputs": [
    {
     "name": "stdout",
     "output_type": "stream",
     "text": [
      "<class 'pandas.core.frame.DataFrame'>\n",
      "Int64Index: 100 entries, 0 to 151\n",
      "Data columns (total 14 columns):\n",
      " #   Column          Non-Null Count  Dtype  \n",
      "---  ------          --------------  -----  \n",
      " 0   data_evento     100 non-null    object \n",
      " 1   data_contato    100 non-null    object \n",
      " 2   tipo            100 non-null    object \n",
      " 3   valor_total     100 non-null    float64\n",
      " 4   num_convidados  100 non-null    float64\n",
      " 5   observação      100 non-null    object \n",
      " 6   etapa           100 non-null    object \n",
      " 7   situação        100 non-null    object \n",
      " 8   cardápio        100 non-null    object \n",
      " 9   preço           100 non-null    float64\n",
      " 10  sinal           100 non-null    float64\n",
      " 11  saldo_restante  100 non-null    object \n",
      " 12  valor_extra     100 non-null    float64\n",
      " 13  forma_pag       100 non-null    object \n",
      "dtypes: float64(5), object(9)\n",
      "memory usage: 11.7+ KB\n"
     ]
    }
   ],
   "source": [
    "df_thai.info()"
   ]
  },
  {
   "cell_type": "code",
   "execution_count": 146,
   "id": "13d529a1",
   "metadata": {},
   "outputs": [],
   "source": [
    "# df2 = df.apply(lambda x: x.astype(str).str.upper())\n",
    "\n",
    "df_thai = df_thai.apply(lambda x: x.astype(str).str.strip().str.casefold().str.capitalize())"
   ]
  },
  {
   "cell_type": "code",
   "execution_count": 147,
   "id": "1aeadeb0",
   "metadata": {
    "scrolled": true
   },
   "outputs": [
    {
     "data": {
      "text/plain": [
       "array(['Não informado', 'Realizado', 'Em negociação', 'Não fechado',\n",
       "       'Fechado'], dtype=object)"
      ]
     },
     "execution_count": 147,
     "metadata": {},
     "output_type": "execute_result"
    }
   ],
   "source": [
    "df_thai.etapa.unique()"
   ]
  },
  {
   "cell_type": "code",
   "execution_count": 148,
   "id": "dd1dfe62",
   "metadata": {},
   "outputs": [
    {
     "name": "stdout",
     "output_type": "stream",
     "text": [
      "<class 'pandas.core.frame.DataFrame'>\n",
      "Int64Index: 100 entries, 0 to 151\n",
      "Data columns (total 14 columns):\n",
      " #   Column          Non-Null Count  Dtype \n",
      "---  ------          --------------  ----- \n",
      " 0   data_evento     100 non-null    object\n",
      " 1   data_contato    100 non-null    object\n",
      " 2   tipo            100 non-null    object\n",
      " 3   valor_total     100 non-null    object\n",
      " 4   num_convidados  100 non-null    object\n",
      " 5   observação      100 non-null    object\n",
      " 6   etapa           100 non-null    object\n",
      " 7   situação        100 non-null    object\n",
      " 8   cardápio        100 non-null    object\n",
      " 9   preço           100 non-null    object\n",
      " 10  sinal           100 non-null    object\n",
      " 11  saldo_restante  100 non-null    object\n",
      " 12  valor_extra     100 non-null    object\n",
      " 13  forma_pag       100 non-null    object\n",
      "dtypes: object(14)\n",
      "memory usage: 11.7+ KB\n"
     ]
    }
   ],
   "source": [
    "df_thai.info()"
   ]
  },
  {
   "cell_type": "code",
   "execution_count": 149,
   "id": "7b833e26",
   "metadata": {},
   "outputs": [],
   "source": [
    "# limpando espaços\n",
    "for i, k in enumerate(df_thai):\n",
    "    df_thai[k] = df_thai[k].str.strip()"
   ]
  },
  {
   "cell_type": "code",
   "execution_count": 150,
   "id": "2cc76b0c",
   "metadata": {},
   "outputs": [
    {
     "data": {
      "text/html": [
       "<div><div id=836624f9-884a-4cc4-8586-bac7228093f1 style=\"display:none; background-color:#9D6CFF; color:white; width:200px; height:30px; padding-left:5px; border-radius:4px; flex-direction:row; justify-content:space-around; align-items:center;\" onmouseover=\"this.style.backgroundColor='#BA9BF8'\" onmouseout=\"this.style.backgroundColor='#9D6CFF'\" onclick=\"window.commands?.execute('create-mitosheet-from-dataframe-output');\">See Full Dataframe in Mito</div> <script> if (window.commands?.hasCommand('create-mitosheet-from-dataframe-output')) document.getElementById('836624f9-884a-4cc4-8586-bac7228093f1').style.display = 'flex' </script> <table border=\"1\" class=\"dataframe\">\n",
       "  <thead>\n",
       "    <tr style=\"text-align: right;\">\n",
       "      <th></th>\n",
       "      <th>data_evento</th>\n",
       "      <th>data_contato</th>\n",
       "      <th>tipo</th>\n",
       "      <th>valor_total</th>\n",
       "      <th>num_convidados</th>\n",
       "      <th>observação</th>\n",
       "      <th>etapa</th>\n",
       "      <th>situação</th>\n",
       "      <th>cardápio</th>\n",
       "      <th>preço</th>\n",
       "      <th>sinal</th>\n",
       "      <th>saldo_restante</th>\n",
       "      <th>valor_extra</th>\n",
       "      <th>forma_pag</th>\n",
       "    </tr>\n",
       "  </thead>\n",
       "  <tbody>\n",
       "  </tbody>\n",
       "</table></div>"
      ],
      "text/plain": [
       "Empty DataFrame\n",
       "Columns: [data_evento, data_contato, tipo, valor_total, num_convidados, observação, etapa, situação, cardápio, preço, sinal, saldo_restante, valor_extra, forma_pag]\n",
       "Index: []"
      ]
     },
     "execution_count": 150,
     "metadata": {},
     "output_type": "execute_result"
    }
   ],
   "source": [
    "df_thai[df_thai.valor_total.str.match('\\n')] # regex para espaços em branco"
   ]
  },
  {
   "cell_type": "code",
   "execution_count": 151,
   "id": "6ae336dc",
   "metadata": {
    "scrolled": true
   },
   "outputs": [
    {
     "data": {
      "text/html": [
       "<div><div id=9fcf6cb2-cd1d-4354-9227-c8613fa7caf8 style=\"display:none; background-color:#9D6CFF; color:white; width:200px; height:30px; padding-left:5px; border-radius:4px; flex-direction:row; justify-content:space-around; align-items:center;\" onmouseover=\"this.style.backgroundColor='#BA9BF8'\" onmouseout=\"this.style.backgroundColor='#9D6CFF'\" onclick=\"window.commands?.execute('create-mitosheet-from-dataframe-output');\">See Full Dataframe in Mito</div> <script> if (window.commands?.hasCommand('create-mitosheet-from-dataframe-output')) document.getElementById('9fcf6cb2-cd1d-4354-9227-c8613fa7caf8').style.display = 'flex' </script> <table border=\"1\" class=\"dataframe\">\n",
       "  <thead>\n",
       "    <tr style=\"text-align: right;\">\n",
       "      <th></th>\n",
       "      <th>data_evento</th>\n",
       "      <th>data_contato</th>\n",
       "      <th>tipo</th>\n",
       "      <th>valor_total</th>\n",
       "      <th>num_convidados</th>\n",
       "      <th>observação</th>\n",
       "      <th>etapa</th>\n",
       "      <th>situação</th>\n",
       "      <th>cardápio</th>\n",
       "      <th>preço</th>\n",
       "      <th>sinal</th>\n",
       "      <th>saldo_restante</th>\n",
       "      <th>valor_extra</th>\n",
       "      <th>forma_pag</th>\n",
       "    </tr>\n",
       "  </thead>\n",
       "  <tbody>\n",
       "    <tr>\n",
       "      <th>0</th>\n",
       "      <td>2018-06-12 00:00:00</td>\n",
       "      <td>2018-06-12 00:00:00</td>\n",
       "      <td>1º evento</td>\n",
       "      <td>21450.4</td>\n",
       "      <td>78.0</td>\n",
       "      <td>1 mesa de 8  lugares+ 5 mesas de 4 lugares + 25 mesas de 2 lugares</td>\n",
       "      <td>Não informado</td>\n",
       "      <td>Não informado</td>\n",
       "      <td>Não informado</td>\n",
       "      <td>0.0</td>\n",
       "      <td>0.0</td>\n",
       "      <td>0</td>\n",
       "      <td>0.0</td>\n",
       "      <td>Não informado</td>\n",
       "    </tr>\n",
       "    <tr>\n",
       "      <th>1</th>\n",
       "      <td>2018-07-12 00:00:00</td>\n",
       "      <td>2018-07-12 00:00:00</td>\n",
       "      <td>Empresarial</td>\n",
       "      <td>4631.0</td>\n",
       "      <td>25.0</td>\n",
       "      <td>Cardapio krab kpp r$ 175,00 por pessoa c/ espumante (1 garrafa a cada 3 pessoas)</td>\n",
       "      <td>Não informado</td>\n",
       "      <td>Não informado</td>\n",
       "      <td>Não informado</td>\n",
       "      <td>0.0</td>\n",
       "      <td>0.0</td>\n",
       "      <td>0</td>\n",
       "      <td>0.0</td>\n",
       "      <td>Não informado</td>\n",
       "    </tr>\n",
       "    <tr>\n",
       "      <th>2</th>\n",
       "      <td>2018-07-19 00:00:00</td>\n",
       "      <td>2018-07-19 00:00:00</td>\n",
       "      <td>Empresarial</td>\n",
       "      <td>12100.0</td>\n",
       "      <td>55.0</td>\n",
       "      <td>Menu koh paghan finger r$ 185,00 e pct bebidas mali com drink tom yam siam. degustação 29/05.</td>\n",
       "      <td>Não informado</td>\n",
       "      <td>Não informado</td>\n",
       "      <td>Não informado</td>\n",
       "      <td>0.0</td>\n",
       "      <td>0.0</td>\n",
       "      <td>0</td>\n",
       "      <td>0.0</td>\n",
       "      <td>Não informado</td>\n",
       "    </tr>\n",
       "    <tr>\n",
       "      <th>3</th>\n",
       "      <td>2018-08-03 00:00:00</td>\n",
       "      <td>2018-08-03 00:00:00</td>\n",
       "      <td>Empresarial</td>\n",
       "      <td>7213.5</td>\n",
       "      <td>35.0</td>\n",
       "      <td>Menu krab kpp r$ 195,00 por pessoa com refri c/ vinho (1 garrafa a cada 3 pessoas)</td>\n",
       "      <td>Não informado</td>\n",
       "      <td>Não informado</td>\n",
       "      <td>Não informado</td>\n",
       "      <td>0.0</td>\n",
       "      <td>0.0</td>\n",
       "      <td>0</td>\n",
       "      <td>0.0</td>\n",
       "      <td>Não informado</td>\n",
       "    </tr>\n",
       "    <tr>\n",
       "      <th>4</th>\n",
       "      <td>2018-08-21 00:00:00</td>\n",
       "      <td>2018-08-21 00:00:00</td>\n",
       "      <td>Empresarial</td>\n",
       "      <td>14125.0</td>\n",
       "      <td>70.0</td>\n",
       "      <td>Menu krab kpp r$ 195,00 por pessoa com refri c/ vinho (1 garrafa a cada 3 pessoas) + 5 vinhos extras no valor total de r$ 475,00</td>\n",
       "      <td>Não informado</td>\n",
       "      <td>Não informado</td>\n",
       "      <td>Não informado</td>\n",
       "      <td>0.0</td>\n",
       "      <td>0.0</td>\n",
       "      <td>0</td>\n",
       "      <td>0.0</td>\n",
       "      <td>Não informado</td>\n",
       "    </tr>\n",
       "    <tr>\n",
       "      <th>...</th>\n",
       "      <td>...</td>\n",
       "      <td>...</td>\n",
       "      <td>...</td>\n",
       "      <td>...</td>\n",
       "      <td>...</td>\n",
       "      <td>...</td>\n",
       "      <td>...</td>\n",
       "      <td>...</td>\n",
       "      <td>...</td>\n",
       "      <td>...</td>\n",
       "      <td>...</td>\n",
       "      <td>...</td>\n",
       "      <td>...</td>\n",
       "      <td>...</td>\n",
       "    </tr>\n",
       "    <tr>\n",
       "      <th>95</th>\n",
       "      <td>2022-07-30 00:00:00</td>\n",
       "      <td>2022-05-16 00:00:00</td>\n",
       "      <td>Jantar/formatura</td>\n",
       "      <td>0.0</td>\n",
       "      <td>40.0</td>\n",
       "      <td>Jantar formatura da filha para 40 convidados.</td>\n",
       "      <td>Não fechado</td>\n",
       "      <td>A filha prefere fazer no clube, com mais formandos.</td>\n",
       "      <td>A definir</td>\n",
       "      <td>0.0</td>\n",
       "      <td>0.0</td>\n",
       "      <td>0.0</td>\n",
       "      <td>0.0</td>\n",
       "      <td>Não informado</td>\n",
       "    </tr>\n",
       "    <tr>\n",
       "      <th>96</th>\n",
       "      <td>2022-07-06 00:00:00</td>\n",
       "      <td>2022-05-12 00:00:00</td>\n",
       "      <td>Aniversário</td>\n",
       "      <td>0.0</td>\n",
       "      <td>40.0</td>\n",
       "      <td>Jantar aniversário</td>\n",
       "      <td>Não fechado</td>\n",
       "      <td>Aguadando retorno do cliente até segunda feira dia 23/5</td>\n",
       "      <td>A definir</td>\n",
       "      <td>0.0</td>\n",
       "      <td>0.0</td>\n",
       "      <td>0.0</td>\n",
       "      <td>0.0</td>\n",
       "      <td>Não informado</td>\n",
       "    </tr>\n",
       "    <tr>\n",
       "      <th>97</th>\n",
       "      <td>2022-07-07 00:00:00</td>\n",
       "      <td>2022-05-20 00:00:00</td>\n",
       "      <td>Jantar/palestra</td>\n",
       "      <td>0.0</td>\n",
       "      <td>30.0</td>\n",
       "      <td>Jantar com uma palestra para 30 pessoas.\\nnecessita de equipamentod e aúdio e som.</td>\n",
       "      <td>Não fechado</td>\n",
       "      <td>Na proxima semana terá uma definição</td>\n",
       "      <td>A definir</td>\n",
       "      <td>0.0</td>\n",
       "      <td>0.0</td>\n",
       "      <td>0.0</td>\n",
       "      <td>0.0</td>\n",
       "      <td>Não informado</td>\n",
       "    </tr>\n",
       "    <tr>\n",
       "      <th>106</th>\n",
       "      <td>2022-08-18 00:00:00</td>\n",
       "      <td>2022-05-27 00:00:00</td>\n",
       "      <td>Jantar</td>\n",
       "      <td>0.0</td>\n",
       "      <td>20.0</td>\n",
       "      <td>Jantar com uma apresentação, cliente solicitou equipamento de aúdio e som.</td>\n",
       "      <td>Em negociação</td>\n",
       "      <td>Entrar em contato 25 dias para definição do evento.( pré reserva em agosto e outrubro)</td>\n",
       "      <td>A definir</td>\n",
       "      <td>0.0</td>\n",
       "      <td>0.0</td>\n",
       "      <td>0.0</td>\n",
       "      <td>0.0</td>\n",
       "      <td>Não informado</td>\n",
       "    </tr>\n",
       "    <tr>\n",
       "      <th>151</th>\n",
       "      <td>2022-10-18 00:00:00</td>\n",
       "      <td>2022-05-27 00:00:00</td>\n",
       "      <td>Jantar com palestra</td>\n",
       "      <td>0.0</td>\n",
       "      <td>20.0</td>\n",
       "      <td>Jantar com palestra, cliente solicitou equipamentos de aúdio e som</td>\n",
       "      <td>Em negociação</td>\n",
       "      <td>Entrar em contato 25 dias para definição do evento.(pré reserva em agosto e outubro)</td>\n",
       "      <td>A definir</td>\n",
       "      <td>0.0</td>\n",
       "      <td>0.0</td>\n",
       "      <td>0.0</td>\n",
       "      <td>0.0</td>\n",
       "      <td>Não informado</td>\n",
       "    </tr>\n",
       "  </tbody>\n",
       "</table></div>"
      ],
      "text/plain": [
       "             data_evento         data_contato                 tipo  \\\n",
       "0    2018-06-12 00:00:00  2018-06-12 00:00:00            1º evento   \n",
       "1    2018-07-12 00:00:00  2018-07-12 00:00:00          Empresarial   \n",
       "2    2018-07-19 00:00:00  2018-07-19 00:00:00          Empresarial   \n",
       "3    2018-08-03 00:00:00  2018-08-03 00:00:00          Empresarial   \n",
       "4    2018-08-21 00:00:00  2018-08-21 00:00:00          Empresarial   \n",
       "..                   ...                  ...                  ...   \n",
       "95   2022-07-30 00:00:00  2022-05-16 00:00:00     Jantar/formatura   \n",
       "96   2022-07-06 00:00:00  2022-05-12 00:00:00          Aniversário   \n",
       "97   2022-07-07 00:00:00  2022-05-20 00:00:00      Jantar/palestra   \n",
       "106  2022-08-18 00:00:00  2022-05-27 00:00:00               Jantar   \n",
       "151  2022-10-18 00:00:00  2022-05-27 00:00:00  Jantar com palestra   \n",
       "\n",
       "    valor_total num_convidados  \\\n",
       "0       21450.4           78.0   \n",
       "1        4631.0           25.0   \n",
       "2       12100.0           55.0   \n",
       "3        7213.5           35.0   \n",
       "4       14125.0           70.0   \n",
       "..          ...            ...   \n",
       "95          0.0           40.0   \n",
       "96          0.0           40.0   \n",
       "97          0.0           30.0   \n",
       "106         0.0           20.0   \n",
       "151         0.0           20.0   \n",
       "\n",
       "                                            observação          etapa  \\\n",
       "0    1 mesa de 8  lugares+ 5 mesas de 4 lugares + 2...  Não informado   \n",
       "1    Cardapio krab kpp r$ 175,00 por pessoa c/ espu...  Não informado   \n",
       "2    Menu koh paghan finger r$ 185,00 e pct bebidas...  Não informado   \n",
       "3    Menu krab kpp r$ 195,00 por pessoa com refri c...  Não informado   \n",
       "4    Menu krab kpp r$ 195,00 por pessoa com refri c...  Não informado   \n",
       "..                                                 ...            ...   \n",
       "95       Jantar formatura da filha para 40 convidados.    Não fechado   \n",
       "96                                  Jantar aniversário    Não fechado   \n",
       "97   Jantar com uma palestra para 30 pessoas.\\nnece...    Não fechado   \n",
       "106  Jantar com uma apresentação, cliente solicitou...  Em negociação   \n",
       "151  Jantar com palestra, cliente solicitou equipam...  Em negociação   \n",
       "\n",
       "                                              situação       cardápio preço  \\\n",
       "0                                        Não informado  Não informado   0.0   \n",
       "1                                        Não informado  Não informado   0.0   \n",
       "2                                        Não informado  Não informado   0.0   \n",
       "3                                        Não informado  Não informado   0.0   \n",
       "4                                        Não informado  Não informado   0.0   \n",
       "..                                                 ...            ...   ...   \n",
       "95   A filha prefere fazer no clube, com mais forma...      A definir   0.0   \n",
       "96   Aguadando retorno do cliente até segunda feira...      A definir   0.0   \n",
       "97                Na proxima semana terá uma definição      A definir   0.0   \n",
       "106  Entrar em contato 25 dias para definição do ev...      A definir   0.0   \n",
       "151  Entrar em contato 25 dias para definição do ev...      A definir   0.0   \n",
       "\n",
       "    sinal saldo_restante valor_extra      forma_pag  \n",
       "0     0.0              0         0.0  Não informado  \n",
       "1     0.0              0         0.0  Não informado  \n",
       "2     0.0              0         0.0  Não informado  \n",
       "3     0.0              0         0.0  Não informado  \n",
       "4     0.0              0         0.0  Não informado  \n",
       "..    ...            ...         ...            ...  \n",
       "95    0.0            0.0         0.0  Não informado  \n",
       "96    0.0            0.0         0.0  Não informado  \n",
       "97    0.0            0.0         0.0  Não informado  \n",
       "106   0.0            0.0         0.0  Não informado  \n",
       "151   0.0            0.0         0.0  Não informado  \n",
       "\n",
       "[100 rows x 14 columns]"
      ]
     },
     "execution_count": 151,
     "metadata": {},
     "output_type": "execute_result"
    }
   ],
   "source": [
    "df_thai"
   ]
  },
  {
   "cell_type": "code",
   "execution_count": 152,
   "id": "3ee28647",
   "metadata": {},
   "outputs": [],
   "source": [
    "df_thai['data_contato'] = pd.to_datetime(df_thai['data_contato'], errors='coerce')\n",
    "df_thai['data_evento'] = pd.to_datetime(df_thai['data_evento'], errors='coerce')"
   ]
  },
  {
   "cell_type": "code",
   "execution_count": 153,
   "id": "736b28b6",
   "metadata": {},
   "outputs": [],
   "source": [
    "df_thai.to_excel('df_thai.xlsx', index=False)"
   ]
  },
  {
   "cell_type": "code",
   "execution_count": 154,
   "id": "a3916d0f",
   "metadata": {},
   "outputs": [],
   "source": [
    "# # MÉTODO ITERROWS()\n",
    "# for i, j in df_thai.iterrows():\n",
    "#     print(i, j)\n",
    "#     print()"
   ]
  }
 ],
 "metadata": {
  "kernelspec": {
   "display_name": "Python 3 (ipykernel)",
   "language": "python",
   "name": "python3"
  },
  "language_info": {
   "codemirror_mode": {
    "name": "ipython",
    "version": 3
   },
   "file_extension": ".py",
   "mimetype": "text/x-python",
   "name": "python",
   "nbconvert_exporter": "python",
   "pygments_lexer": "ipython3",
   "version": "3.9.7"
  }
 },
 "nbformat": 4,
 "nbformat_minor": 5
}
